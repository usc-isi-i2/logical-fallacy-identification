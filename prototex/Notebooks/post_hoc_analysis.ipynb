{
 "cells": [
  {
   "cell_type": "code",
   "execution_count": 4,
   "metadata": {},
   "outputs": [],
   "source": [
    "import joblib\n",
    "import pandas as pd\n",
    "import numpy as np"
   ]
  },
  {
   "cell_type": "code",
   "execution_count": 5,
   "metadata": {},
   "outputs": [
    {
     "name": "stdout",
     "output_type": "stream",
     "text": [
      "['/cluster/raid/home/himanshu.rawlani/propaganda_detection/prototex_custom/Notebooks', '/cluster/raid/home/himanshu.rawlani/miniconda3/envs/prototex/lib/python39.zip', '/cluster/raid/home/himanshu.rawlani/miniconda3/envs/prototex/lib/python3.9', '/cluster/raid/home/himanshu.rawlani/miniconda3/envs/prototex/lib/python3.9/lib-dynload', '', '/cluster/raid/home/himanshu.rawlani/miniconda3/envs/prototex/lib/python3.9/site-packages', '../', '../']\n"
     ]
    }
   ],
   "source": [
    "import sys\n",
    "\n",
    "MOD_FOLDER = '../'\n",
    "# setting path to enable import from the parent directory\n",
    "sys.path.append(MOD_FOLDER)\n",
    "print(sys.path)"
   ]
  },
  {
   "cell_type": "code",
   "execution_count": 6,
   "metadata": {},
   "outputs": [],
   "source": [
    "from transformers import BartTokenizer"
   ]
  },
  {
   "cell_type": "code",
   "execution_count": 7,
   "metadata": {},
   "outputs": [],
   "source": [
    "tokenizer = BartTokenizer.from_pretrained('facebook/bart-large')\n",
    "\n",
    "\n",
    "train_df = pd.read_csv(\"../data/finegrained_with_none/train.csv\")\n",
    "dev_df = pd.read_csv(\"../data/finegrained_with_none/val.csv\")\n",
    "test_df = pd.read_csv(\"../data/finegrained_with_none/test.csv\")\n",
    "\n",
    "# train_df = train_df[train_df['updated_label'] != 'equivocation']\n",
    "# dev_df = dev_df[dev_df['updated_label'] != 'equivocation']\n",
    "# test_df = test_df[test_df['updated_label'] != 'equivocation']\n",
    "\n",
    "train_sentences = train_df['text'].tolist()\n",
    "test_sentences = test_df['text'].tolist()\n",
    "train_labels = train_df['label'].tolist()\n",
    "dev_labels = dev_df['label'].tolist()\n",
    "test_labels = test_df['label'].tolist()"
   ]
  },
  {
   "cell_type": "code",
   "execution_count": 8,
   "metadata": {},
   "outputs": [],
   "source": [
    "bestk_train_data_per_proto = joblib.load(\"finegrained_artifacts/bestk_train_data_per_proto.joblib\")\n",
    "best_protos_per_testeg = joblib.load(\"finegrained_artifacts/best_protos_per_testeg.joblib\")"
   ]
  },
  {
   "cell_type": "code",
   "execution_count": 59,
   "metadata": {},
   "outputs": [
    {
     "data": {
      "text/plain": [
       "(50, 5)"
      ]
     },
     "execution_count": 59,
     "metadata": {},
     "output_type": "execute_result"
    }
   ],
   "source": [
    "bestk_train_data_per_proto[0].shape"
   ]
  },
  {
   "cell_type": "code",
   "execution_count": 60,
   "metadata": {},
   "outputs": [
    {
     "data": {
      "text/plain": [
       "torch.Size([331, 5])"
      ]
     },
     "execution_count": 60,
     "metadata": {},
     "output_type": "execute_result"
    }
   ],
   "source": [
    "best_protos_per_testeg[0].shape"
   ]
  },
  {
   "cell_type": "markdown",
   "metadata": {},
   "source": [
    "#### Accuracy of test example label being present in the topk train sample labels close to the best prototype."
   ]
  },
  {
   "cell_type": "code",
   "execution_count": 61,
   "metadata": {},
   "outputs": [],
   "source": [
    "results = []\n",
    "for test_index, test_sample_prototypes in enumerate(best_protos_per_testeg[0]):\n",
    "    test_sample_label = test_labels[test_index]\n",
    "    respective_prototypes_train_labels = []\n",
    "    for prototype in test_sample_prototypes:\n",
    "        prototype_train_labels = []\n",
    "        train_samples_close_to_prototype = bestk_train_data_per_proto[0][prototype]\n",
    "        for train_sample in train_samples_close_to_prototype:\n",
    "            prototype_train_labels.append(train_labels[train_sample])\n",
    "        respective_prototypes_train_labels.append(prototype_train_labels)\n",
    "    results.append((test_sample_label, respective_prototypes_train_labels))"
   ]
  },
  {
   "cell_type": "code",
   "execution_count": 62,
   "metadata": {},
   "outputs": [],
   "source": [
    "def get_accuracy_of_model_on_label(results, k = 5):\n",
    "    statistics = []\n",
    "    for test_label, prototypes_train_labels in results:\n",
    "        per_test_statistics = []\n",
    "        for prototype_train_labels in prototypes_train_labels:\n",
    "            per_test_statistics.append(test_label in prototype_train_labels)\n",
    "        statistics.append(per_test_statistics)\n",
    "    statistics = np.array(statistics)\n",
    "    return np.round(np.mean(np.sum(statistics[:,:k], axis = 1) != 0), 3)"
   ]
  },
  {
   "cell_type": "code",
   "execution_count": 63,
   "metadata": {},
   "outputs": [],
   "source": [
    "from collections import defaultdict\n",
    "accuracies = defaultdict(list)\n",
    "for k in [5, 3, 1]:\n",
    "    overall_accuracy = get_accuracy_of_model_on_label(results, k)\n",
    "    accuracies[k].append(overall_accuracy)\n",
    "    for label in set(train_labels):\n",
    "        if label == \"O\": \n",
    "            continue\n",
    "        label_specific_accuracy = get_accuracy_of_model_on_label([result for result in results if result[0] == label], k)\n",
    "        accuracies[k].append(label_specific_accuracy)\n",
    "report_labels = list(set(train_labels))\n",
    "report_labels.remove(\"O\")\n",
    "        "
   ]
  },
  {
   "cell_type": "code",
   "execution_count": 64,
   "metadata": {},
   "outputs": [],
   "source": [
    "report_df = pd.DataFrame(\n",
    "    {\n",
    "        'class': [\n",
    "            'overall',\n",
    "            *report_labels\n",
    "        ],\n",
    "        'k = 5': accuracies[5],\n",
    "        'k = 3': accuracies[3],\n",
    "        'k = 1': accuracies[1]\n",
    "    }\n",
    ")"
   ]
  },
  {
   "cell_type": "code",
   "execution_count": 65,
   "metadata": {},
   "outputs": [
    {
     "data": {
      "text/html": [
       "<div>\n",
       "<style scoped>\n",
       "    .dataframe tbody tr th:only-of-type {\n",
       "        vertical-align: middle;\n",
       "    }\n",
       "\n",
       "    .dataframe tbody tr th {\n",
       "        vertical-align: top;\n",
       "    }\n",
       "\n",
       "    .dataframe thead th {\n",
       "        text-align: right;\n",
       "    }\n",
       "</style>\n",
       "<table border=\"1\" class=\"dataframe\">\n",
       "  <thead>\n",
       "    <tr style=\"text-align: right;\">\n",
       "      <th></th>\n",
       "      <th>class</th>\n",
       "      <th>k = 5</th>\n",
       "      <th>k = 3</th>\n",
       "      <th>k = 1</th>\n",
       "    </tr>\n",
       "  </thead>\n",
       "  <tbody>\n",
       "    <tr>\n",
       "      <th>0</th>\n",
       "      <td>overall</td>\n",
       "      <td>0.710</td>\n",
       "      <td>0.619</td>\n",
       "      <td>0.085</td>\n",
       "    </tr>\n",
       "    <tr>\n",
       "      <th>1</th>\n",
       "      <td>ad hominem</td>\n",
       "      <td>0.821</td>\n",
       "      <td>0.744</td>\n",
       "      <td>0.000</td>\n",
       "    </tr>\n",
       "    <tr>\n",
       "      <th>2</th>\n",
       "      <td>ad populum</td>\n",
       "      <td>0.710</td>\n",
       "      <td>0.677</td>\n",
       "      <td>0.000</td>\n",
       "    </tr>\n",
       "    <tr>\n",
       "      <th>3</th>\n",
       "      <td>false causality</td>\n",
       "      <td>1.000</td>\n",
       "      <td>1.000</td>\n",
       "      <td>1.000</td>\n",
       "    </tr>\n",
       "    <tr>\n",
       "      <th>4</th>\n",
       "      <td>fallacy of credibility</td>\n",
       "      <td>0.684</td>\n",
       "      <td>0.632</td>\n",
       "      <td>0.000</td>\n",
       "    </tr>\n",
       "    <tr>\n",
       "      <th>5</th>\n",
       "      <td>equivocation</td>\n",
       "      <td>0.286</td>\n",
       "      <td>0.143</td>\n",
       "      <td>0.000</td>\n",
       "    </tr>\n",
       "    <tr>\n",
       "      <th>6</th>\n",
       "      <td>intentional</td>\n",
       "      <td>0.600</td>\n",
       "      <td>0.500</td>\n",
       "      <td>0.000</td>\n",
       "    </tr>\n",
       "    <tr>\n",
       "      <th>7</th>\n",
       "      <td>circular reasoning</td>\n",
       "      <td>0.739</td>\n",
       "      <td>0.652</td>\n",
       "      <td>0.000</td>\n",
       "    </tr>\n",
       "    <tr>\n",
       "      <th>8</th>\n",
       "      <td>appeal to emotion</td>\n",
       "      <td>0.739</td>\n",
       "      <td>0.609</td>\n",
       "      <td>0.000</td>\n",
       "    </tr>\n",
       "    <tr>\n",
       "      <th>9</th>\n",
       "      <td>faulty generalization</td>\n",
       "      <td>0.650</td>\n",
       "      <td>0.467</td>\n",
       "      <td>0.000</td>\n",
       "    </tr>\n",
       "    <tr>\n",
       "      <th>10</th>\n",
       "      <td>fallacy of relevance</td>\n",
       "      <td>0.591</td>\n",
       "      <td>0.500</td>\n",
       "      <td>0.000</td>\n",
       "    </tr>\n",
       "    <tr>\n",
       "      <th>11</th>\n",
       "      <td>false dilemma</td>\n",
       "      <td>0.895</td>\n",
       "      <td>0.895</td>\n",
       "      <td>0.000</td>\n",
       "    </tr>\n",
       "    <tr>\n",
       "      <th>12</th>\n",
       "      <td>fallacy of logic</td>\n",
       "      <td>0.545</td>\n",
       "      <td>0.455</td>\n",
       "      <td>0.000</td>\n",
       "    </tr>\n",
       "    <tr>\n",
       "      <th>13</th>\n",
       "      <td>fallacy of extension</td>\n",
       "      <td>0.611</td>\n",
       "      <td>0.500</td>\n",
       "      <td>0.000</td>\n",
       "    </tr>\n",
       "  </tbody>\n",
       "</table>\n",
       "</div>"
      ],
      "text/plain": [
       "                     class  k = 5  k = 3  k = 1\n",
       "0                  overall  0.710  0.619  0.085\n",
       "1               ad hominem  0.821  0.744  0.000\n",
       "2               ad populum  0.710  0.677  0.000\n",
       "3          false causality  1.000  1.000  1.000\n",
       "4   fallacy of credibility  0.684  0.632  0.000\n",
       "5             equivocation  0.286  0.143  0.000\n",
       "6              intentional  0.600  0.500  0.000\n",
       "7       circular reasoning  0.739  0.652  0.000\n",
       "8        appeal to emotion  0.739  0.609  0.000\n",
       "9    faulty generalization  0.650  0.467  0.000\n",
       "10    fallacy of relevance  0.591  0.500  0.000\n",
       "11           false dilemma  0.895  0.895  0.000\n",
       "12        fallacy of logic  0.545  0.455  0.000\n",
       "13    fallacy of extension  0.611  0.500  0.000"
      ]
     },
     "execution_count": 65,
     "metadata": {},
     "output_type": "execute_result"
    }
   ],
   "source": [
    "report_df"
   ]
  },
  {
   "cell_type": "markdown",
   "metadata": {},
   "source": [
    "### Overlapping prototypes for each training label"
   ]
  },
  {
   "cell_type": "code",
   "execution_count": 105,
   "metadata": {},
   "outputs": [
    {
     "name": "stdout",
     "output_type": "stream",
     "text": [
      "fallacy of logic: {2, 34, 39, 44, 49, 24}\n",
      "circular reasoning: {48, 49, 32, 14}\n",
      "appeal to emotion: {0, 33, 36, 38, 11, 12, 49, 18, 21, 26}\n",
      "intentional: {9, 41, 13, 49, 29}\n",
      "faulty generalization: {0, 4, 6, 39, 10, 44, 46, 49}\n",
      "fallacy of extension: {40, 9, 44, 49, 18, 17, 28}\n",
      "false dilemma: {3, 4, 37, 49, 23, 27, 30}\n",
      "ad populum: {35, 5, 8, 43, 49, 18, 30}\n",
      "ad hominem: {1, 7, 39, 15, 49, 20, 26}\n",
      "false causality: {0, 37, 6, 39, 40, 10, 43, 46, 14, 16, 49, 19, 28}\n",
      "equivocation: {32, 33, 5, 45, 46, 47, 49, 25, 31}\n",
      "fallacy of relevance: {3, 40, 9, 42, 48, 49, 19, 20}\n",
      "fallacy of credibility: {38, 11, 16, 49, 21, 24}\n",
      "O: {32, 35, 4, 36, 39, 10, 12, 45, 49, 22, 23, 25, 29}\n"
     ]
    }
   ],
   "source": [
    "best_protos_per_traineg = joblib.load(\"finegrained_artifacts/best_protos_per_traineg.joblib\")\n",
    "train_prototype_sentences = defaultdict(set)\n",
    "for train_index, train_sample_prototypes in enumerate(best_protos_per_traineg[0]):\n",
    "    for prototype in train_sample_prototypes.tolist()[:3]:\n",
    "        train_prototype_sentences[train_labels[train_index]].add(prototype)\n",
    "for key, values in train_prototype_sentences.items():\n",
    "    print(f\"{key}: {values}\")"
   ]
  },
  {
   "cell_type": "code",
   "execution_count": 106,
   "metadata": {},
   "outputs": [
    {
     "name": "stdout",
     "output_type": "stream",
     "text": [
      "false dilemma: {3, 4, 9, 42, 13, 45, 14, 49, 19, 23, 27, 30}\n",
      "faulty generalization: {0, 2, 4, 5, 6, 7, 8, 9, 10, 13, 14, 16, 18, 19, 20, 21, 22, 23, 26, 30, 35, 36, 37, 38, 40, 41, 42, 43, 44, 45, 46, 48, 49}\n",
      "fallacy of credibility: {1, 4, 9, 10, 11, 14, 16, 18, 21, 22, 25, 28, 36, 37, 38, 39, 43, 46, 47, 49}\n",
      "fallacy of relevance: {0, 1, 2, 4, 6, 9, 10, 13, 14, 16, 19, 20, 36, 37, 38, 39, 40, 42, 44, 45, 46, 47, 48, 49}\n",
      "fallacy of logic: {0, 2, 4, 36, 6, 7, 10, 44, 45, 46, 14, 48, 49, 13, 22, 24, 26}\n",
      "ad hominem: {1, 4, 6, 7, 9, 10, 13, 15, 16, 19, 20, 23, 25, 26, 36, 38, 39, 41, 43, 44, 46, 47, 48, 49}\n",
      "circular reasoning: {1, 2, 4, 9, 10, 11, 14, 21, 22, 24, 26, 29, 32, 38, 39, 43, 45, 46, 48, 49}\n",
      "ad populum: {0, 35, 36, 5, 6, 39, 8, 9, 10, 43, 7, 13, 46, 49, 18, 22, 30}\n",
      "false causality: {0, 4, 37, 6, 39, 40, 9, 10, 43, 42, 45, 14, 46, 48, 49, 19}\n",
      "fallacy of extension: {0, 3, 4, 6, 9, 10, 14, 19, 20, 26, 27, 28, 36, 37, 38, 40, 44, 46, 48, 49}\n",
      "intentional: {1, 3, 7, 9, 10, 11, 13, 14, 16, 18, 19, 20, 22, 23, 25, 27, 29, 36, 39, 41, 44, 45, 47, 48, 49}\n",
      "appeal to emotion: {1, 4, 9, 10, 11, 13, 18, 19, 20, 21, 25, 26, 31, 33, 36, 38, 39, 41, 42, 46, 47, 48, 49}\n",
      "equivocation: {33, 2, 4, 37, 40, 9, 10, 45, 46, 14, 48, 49, 19, 20}\n"
     ]
    }
   ],
   "source": [
    "best_protos_per_testeg = joblib.load(\"finegrained_artifacts/best_protos_per_testeg.joblib\")\n",
    "test_prototype_sentences = defaultdict(set)\n",
    "for test_index, test_sample_prototypes in enumerate(best_protos_per_testeg[0]):\n",
    "    for prototype in test_sample_prototypes.tolist()[:3]:\n",
    "        test_prototype_sentences[test_labels[test_index]].add(prototype)\n",
    "for key, values in test_prototype_sentences.items():\n",
    "    print(f\"{key}: {values}\")"
   ]
  },
  {
   "cell_type": "markdown",
   "metadata": {},
   "source": [
    "### Clustering prototype tensors"
   ]
  },
  {
   "cell_type": "code",
   "execution_count": 2,
   "metadata": {},
   "outputs": [],
   "source": [
    "import seaborn as sns\n",
    "from sklearn.decomposition import PCA\n",
    "import seaborn as sns\n",
    "from sklearn.manifold import TSNE\n",
    "import numpy as np"
   ]
  },
  {
   "cell_type": "code",
   "execution_count": 3,
   "metadata": {},
   "outputs": [
    {
     "name": "stdout",
     "output_type": "stream",
     "text": [
      "torch.Size([50, 128, 1024])\n",
      "torch.Size([50, 131072])\n",
      "tensor(-0.1090, grad_fn=<MinBackward1>)\n",
      "tensor(0.1074, grad_fn=<MaxBackward1>)\n"
     ]
    }
   ],
   "source": [
    "import torch\n",
    "all_protos = torch.load(\"finegrained_artifacts/all_protos.pt\")\n",
    "print(all_protos.shape)\n",
    "num_protos = 50\n",
    "all_protos = all_protos.view(num_protos, -1)\n",
    "print(all_protos.shape)\n",
    "print(all_protos.min())\n",
    "print(all_protos.max())"
   ]
  },
  {
   "cell_type": "code",
   "execution_count": 6,
   "metadata": {},
   "outputs": [
    {
     "name": "stdout",
     "output_type": "stream",
     "text": [
      "(50, 2)\n"
     ]
    },
    {
     "data": {
      "text/plain": [
       "<AxesSubplot: xlabel='2nd component', ylabel='1st component'>"
      ]
     },
     "execution_count": 6,
     "metadata": {},
     "output_type": "execute_result"
    },
    {
     "data": {
      "image/png": "[encoded data removed]",
      "text/plain": [
       "<Figure size 432x288 with 1 Axes>"
      ]
     },
     "metadata": {
      "needs_background": "light"
     },
     "output_type": "display_data"
    }
   ],
   "source": [
    "pca = PCA(n_components=2)\n",
    "all_protos_transformed = pca.fit_transform(all_protos.detach().numpy())\n",
    "print(all_protos_transformed.shape)\n",
    "\n",
    "proto_df = {\n",
    "    \"1st component\": all_protos_transformed[:,0].tolist(),\n",
    "    \"2nd component\": all_protos_transformed[:,1].tolist(),\n",
    "    \"Protoypes\": np.arange(1, 51).tolist()\n",
    "}\n",
    "sns.scatterplot(data=proto_df, x=\"2nd component\", y=\"1st component\", hue=\"Protoypes\")"
   ]
  },
  {
   "cell_type": "code",
   "execution_count": 44,
   "metadata": {},
   "outputs": [
    {
     "name": "stdout",
     "output_type": "stream",
     "text": [
      "(50, 2)\n"
     ]
    },
    {
     "data": {
      "text/plain": [
       "<AxesSubplot: xlabel='Y', ylabel='X'>"
      ]
     },
     "execution_count": 44,
     "metadata": {},
     "output_type": "execute_result"
    },
    {
     "data": {
      "image/png": "[encoded data removed]",
      "text/plain": [
       "<Figure size 432x288 with 1 Axes>"
      ]
     },
     "metadata": {
      "needs_background": "light"
     },
     "output_type": "display_data"
    }
   ],
   "source": [
    "tsne = TSNE(n_components=2, learning_rate='auto', init='random', perplexity=2)\n",
    "all_protos_transformed = tsne.fit_transform(all_protos.detach().numpy())\n",
    "print(all_protos_transformed.shape)\n",
    "\n",
    "proto_df = {\n",
    "    \"X\": all_protos_transformed[:,0].tolist(),\n",
    "    \"Y\": all_protos_transformed[:,1].tolist(),\n",
    "    \"Label\": np.arange(1, 51).tolist()\n",
    "}\n",
    "sns.scatterplot(data=proto_df, x=\"Y\", y=\"X\", hue=\"Label\")"
   ]
  },
  {
   "cell_type": "code",
   "execution_count": 5,
   "metadata": {},
   "outputs": [
    {
     "name": "stdout",
     "output_type": "stream",
     "text": [
      "(50, 2)\n"
     ]
    },
    {
     "data": {
      "text/plain": [
       "<AxesSubplot: xlabel='Y', ylabel='X'>"
      ]
     },
     "execution_count": 5,
     "metadata": {},
     "output_type": "execute_result"
    },
    {
     "data": {
      "image/png": "[encoded data removed]",
      "text/plain": [
       "<Figure size 432x288 with 1 Axes>"
      ]
     },
     "metadata": {
      "needs_background": "light"
     },
     "output_type": "display_data"
    }
   ],
   "source": [
    "import umap\n",
    "reducer = umap.UMAP()\n",
    "all_protos_transformed = reducer.fit_transform(all_protos.detach().numpy())\n",
    "print(all_protos_transformed.shape)\n",
    "\n",
    "proto_df = {\n",
    "    \"X\": all_protos_transformed[:,0].tolist(),\n",
    "    \"Y\": all_protos_transformed[:,1].tolist(),\n",
    "    \"Label\": np.arange(1, 51).tolist()\n",
    "}\n",
    "sns.scatterplot(data=proto_df, x=\"Y\", y=\"X\", hue=\"Label\")"
   ]
  },
  {
   "cell_type": "code",
   "execution_count": null,
   "metadata": {},
   "outputs": [],
   "source": []
  }
 ],
 "metadata": {
  "kernelspec": {
   "display_name": "Python 3.9.0 ('prototex': conda)",
   "language": "python",
   "name": "python3"
  },
  "language_info": {
   "codemirror_mode": {
    "name": "ipython",
    "version": 3
   },
   "file_extension": ".py",
   "mimetype": "text/x-python",
   "name": "python",
   "nbconvert_exporter": "python",
   "pygments_lexer": "ipython3",
   "version": "3.9.0"
  },
  "orig_nbformat": 4,
  "vscode": {
   "interpreter": {
    "hash": "67a2a78c27fe286f44f928febc9f5314f2b48ea11236d1a7eff6379cd9712b1f"
   }
  }
 },
 "nbformat": 4,
 "nbformat_minor": 2
}
