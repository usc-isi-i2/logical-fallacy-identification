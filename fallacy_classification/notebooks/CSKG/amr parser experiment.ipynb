{
 "cells": [
  {
   "cell_type": "code",
   "execution_count": 1,
   "metadata": {},
   "outputs": [],
   "source": [
    "\n",
    "import spacy\n",
    "import amrlib\n"
   ]
  },
  {
   "cell_type": "code",
   "execution_count": 8,
   "metadata": {},
   "outputs": [
    {
     "name": "stdout",
     "output_type": "stream",
     "text": [
      "# ::snt This is a test of the spaCy extension.\n",
      "(t / test-01\n",
      "      :ARG1 (e / extend-01\n",
      "            :ARG1 (p / product\n",
      "                  :name (n / name\n",
      "                        :op1 \"SpaCy\")))\n",
      "      :domain (t2 / this))\n",
      "# ::snt The test has multiple sentences.\n",
      "(h / have-03\n",
      "      :ARG0 (t / test)\n",
      "      :ARG1 (s / sentence\n",
      "            :quant (m / multiple)))\n"
     ]
    }
   ],
   "source": [
    "amrlib.setup_spacy_extension()\n",
    "nlp = spacy.load('en_core_web_sm')\n",
    "doc = nlp('This is a test of the spaCy extension. The test has multiple sentences.')\n",
    "graphs = doc._.to_amr()\n",
    "for graph in graphs:\n",
    "    print(graph)"
   ]
  },
  {
   "cell_type": "code",
   "execution_count": 2,
   "metadata": {},
   "outputs": [],
   "source": [
    "import amrlib\n",
    "import pandas as pd\n",
    "stog = amrlib.load_stog_model()\n",
    "\n",
    "train_dataset = pd.read_csv('../data/broad_classifier/updated_edu_train.csv') \n",
    "test_dataset = pd.read_csv('../data/broad_classifier/updated_edu_test.csv') \n",
    "dev_dataset = pd.read_csv('../data/broad_classifier/updated_edu_dev.csv') \n",
    "\n"
   ]
  },
  {
   "cell_type": "code",
   "execution_count": 11,
   "metadata": {},
   "outputs": [],
   "source": [
    "def write_to_file(filename, sentence): \n",
    "\n",
    "\n",
    "  doc = nlp(sentence)\n",
    "  graphs = doc._.to_amr()\n",
    " \n",
    "  with open(filename, 'a') as f: \n",
    " \n",
    "    for graph in graphs:\n",
    "      f.write('sentence: ' + sentence + '\\n')\n",
    "      f.write(graph + '\\n\\n') \n"
   ]
  },
  {
   "cell_type": "code",
   "execution_count": 12,
   "metadata": {},
   "outputs": [
    {
     "name": "stderr",
     "output_type": "stream",
     "text": [
      "gid=x Start paren present but government-organization is not a new concept\n",
      "gid=x Start paren present but all is not a new concept\n",
      "gid=x Start paren present but punish-01 is not a new concept\n",
      "gid=x Start paren present but all is not a new concept\n",
      "gid=x Start paren present but amr-unknown is not a new concept\n",
      "gid=x Start paren present but amr-unknown is not a new concept\n",
      "gid=x Start paren present but government-organization is not a new concept\n",
      "gid=x Start paren present but all is not a new concept\n",
      "gid=x Start paren present but against is not a new concept\n",
      "gid=x Start paren present but that is not a new concept\n",
      "gid=x Start paren present but day is not a new concept\n",
      "gid=x Start paren present but or is not a new concept\n",
      "gid=x Start paren present but cause-01 is not a new concept\n",
      "gid=x Start paren present but punish-01 is not a new concept\n",
      "gid=x Start paren present but tough-03 is not a new concept\n",
      "gid=x Start paren present but temporal-quantity is not a new concept\n",
      "gid=x Start paren present but day is not a new concept\n",
      "gid=x Start paren present but temporal-quantity is not a new concept\n",
      "gid=x Start paren present but do-02 is not a new concept\n",
      "gid=x Missing starting paren for node c/city\n",
      "gid=x Start paren present but punish-01 is not a new concept\n",
      "gid=x Start paren present but have-03 is not a new concept\n",
      "gid=x Start paren present but day is not a new concept\n",
      "gid=x Missing starting paren for node c/city\n",
      "gid=x Start paren present but name is not a new concept\n",
      "gid=x Start paren present but cause-01 is not a new concept\n",
      "gid=x Start paren present but that is not a new concept\n",
      "gid=x Start paren present but that is not a new concept\n",
      "gid=x Missing starting paren for node c/city\n",
      "gid=x Start paren present but live-01 is not a new concept\n",
      "gid=x Start paren present but temporal-quantity is not a new concept\n",
      "gid=x Start paren present but day is not a new concept\n",
      "gid=x Start paren present but cause-01 is not a new concept\n",
      "gid=x Start paren present but live-01 is not a new concept\n",
      "gid=x Start paren present but name is not a new concept\n",
      "gid=x Start paren present but live-01 is not a new concept\n",
      "gid=x Start paren present but obligate-01 is not a new concept\n",
      "gid=x Start paren present but cause-01 is not a new concept\n",
      "gid=x Start paren present but tough-03 is not a new concept\n",
      "gid=x Start paren present but cause-01 is not a new concept\n",
      "gid=x Start paren present but cause-01 is not a new concept\n",
      "gid=x Start paren present but amr-unknown is not a new concept\n",
      "gid=x Start paren present but do-02 is not a new concept\n"
     ]
    }
   ],
   "source": [
    "dev_parse_trees = [ write_to_file('../data/edu_dev_amr_parse_tree.txt', sentence) for sentence in dev_dataset['source_article'].to_list()] \n"
   ]
  },
  {
   "cell_type": "code",
   "execution_count": 13,
   "metadata": {},
   "outputs": [
    {
     "name": "stderr",
     "output_type": "stream",
     "text": [
      "gid=x Start paren present but rate-entity-91 is not a new concept\n",
      "gid=x Start paren present but rate-entity-91 is not a new concept\n",
      "gid=x Start paren present but name is not a new concept\n",
      "gid=x Start paren present but person is not a new concept\n",
      "gid=x Start paren present but person is not a new concept\n",
      "gid=x Start paren present but possible-01 is not a new concept\n",
      "gid=x Start paren present but easy-05 is not a new concept\n",
      "gid=x Start paren present but more is not a new concept\n",
      "gid=x Start paren present but against is not a new concept\n",
      "gid=x Missing starting paren for node o2/origin-01\n",
      "gid=x Start paren present but and-or is not a new concept\n",
      "gid=x Start paren present but obligate-01 is not a new concept\n",
      "gid=x Start paren present but person is not a new concept\n",
      "gid=x Start paren present but person is not a new concept\n",
      "gid=x Start paren present but include-91 is not a new concept\n",
      "gid=x Start paren present but healthy is not a new concept\n",
      "ignoring epigraph data for duplicate triple: ('ii', ':ARG1', 'c2')\n",
      "gid=x Start paren present but have-rel-role-91 is not a new concept\n",
      "gid=x Start paren present but possible-01 is not a new concept\n",
      "gid=x Start paren present but easy-05 is not a new concept\n",
      "gid=x Start paren present but more is not a new concept\n",
      "gid=x Start paren present but true-01 is not a new concept\n",
      "gid=x Missing starting paren for node t3/thing\n",
      "gid=x Start paren present but curfew is not a new concept\n",
      "gid=x Start paren present but person is not a new concept\n",
      "gid=x Start paren present but go-02 is not a new concept\n",
      "gid=x Start paren present but possible-01 is not a new concept\n",
      "gid=x Start paren present but easy-05 is not a new concept\n",
      "gid=x Start paren present but more is not a new concept\n",
      "gid=x Missing starting paren for node o2/origin-01\n",
      "gid=x Start paren present but and-or is not a new concept\n",
      "gid=x Start paren present but obligate-01 is not a new concept\n",
      "gid=x Start paren present but live-01 is not a new concept\n",
      "gid=x Start paren present but or is not a new concept\n",
      "gid=x Start paren present but lose-02 is not a new concept\n",
      "gid=x Start paren present but person is not a new concept\n",
      "gid=x Start paren present but person is not a new concept\n",
      "gid=x Start paren present but have-quant-91 is not a new concept\n",
      "gid=x Start paren present but drink-01 is not a new concept\n",
      "gid=x Start paren present but have-03 is not a new concept\n",
      "gid=x Start paren present but go-02 is not a new concept\n",
      "gid=x Start paren present but live-01 is not a new concept\n",
      "gid=x Start paren present but drink-01 is not a new concept\n",
      "gid=x Start paren present but go-02 is not a new concept\n",
      "gid=x Start paren present but include-91 is not a new concept\n",
      "gid=x Start paren present but healthy is not a new concept\n",
      "ignoring epigraph data for duplicate triple: ('ii', ':ARG1', 'c2')\n",
      "gid=x Start paren present but true-01 is not a new concept\n",
      "gid=x Missing starting paren for node t3/thing\n",
      "gid=x Start paren present but possible-01 is not a new concept\n",
      "gid=x Start paren present but easy-05 is not a new concept\n",
      "gid=x Start paren present but more is not a new concept\n",
      "gid=x Start paren present but have-03 is not a new concept\n",
      "gid=x Start paren present but against is not a new concept\n",
      "gid=x Start paren present but all is not a new concept\n",
      "gid=x Start paren present but person is not a new concept\n",
      "gid=x Start paren present but person is not a new concept\n",
      "gid=x Start paren present but have-quant-91 is not a new concept\n",
      "gid=x Start paren present but include-91 is not a new concept\n",
      "gid=x Start paren present but healthy is not a new concept\n",
      "ignoring epigraph data for duplicate triple: ('ii', ':ARG1', 'c2')\n",
      "gid=x Start paren present but person is not a new concept\n",
      "gid=x Start paren present but have-03 is not a new concept\n",
      "gid=x Start paren present but name is not a new concept\n",
      "gid=x Start paren present but name is not a new concept\n",
      "gid=x Start paren present but have-03 is not a new concept\n",
      "gid=x Start paren present but until is not a new concept\n",
      "gid=x Start paren present but do-02 is not a new concept\n",
      "gid=x Start paren present but thing is not a new concept\n",
      "gid=x Start paren present but therapy is not a new concept\n",
      "gid=x Start paren present but female is not a new concept\n",
      "gid=x Start paren present but cause-01 is not a new concept\n",
      "gid=x Start paren present but same-01 is not a new concept\n",
      "gid=x Start paren present but product is not a new concept\n",
      "gid=x Start paren present but say-01 is not a new concept\n",
      "gid=x Start paren present but cause-01 is not a new concept\n",
      "gid=x Start paren present but date-entity is not a new concept\n",
      "gid=x Start paren present but yesterday is not a new concept\n",
      "gid=x Start paren present but philosophy is not a new concept\n",
      "ignoring epigraph data for duplicate triple: ('d', ':mod', 'p2')\n",
      "gid=x Start paren present but good-02 is not a new concept\n",
      "Missing concept:       :ARG2 (x / #1\n",
      "Penman encode/decode exception: \n",
      "  line 4\n",
      "          :ARG2 (x / #1\n",
      "                     ^\n",
      "DecodeError: Expected: ROLE\n",
      "Failed to deserialize, snum=0, beam=0\n",
      "gid=x Start paren present but voluntary-02 is not a new concept\n",
      "gid=x Start paren present but percentage-entity is not a new concept\n",
      "gid=x Start paren present but believe-01 is not a new concept\n",
      "ignoring epigraph data for duplicate triple: ('b', ':ARG1', 't')\n",
      "gid=x Start paren present but same-01 is not a new concept\n",
      "gid=x Start paren present but mean-01 is not a new concept\n",
      "gid=x Start paren present but time is not a new concept\n",
      "gid=x Start paren present but drink-01 is not a new concept\n",
      "gid=x Start paren present but philosophy is not a new concept\n",
      "ignoring epigraph data for duplicate triple: ('d', ':mod', 'p2')\n",
      "gid=x Start paren present but cause-01 is not a new concept\n",
      "gid=x Start paren present but female is not a new concept\n",
      "gid=x Start paren present but cause-01 is not a new concept\n",
      "Missing concept:       :ARG2 (x / #1\n",
      "Penman encode/decode exception: \n",
      "  line 4\n",
      "          :ARG2 (x / #1\n",
      "                     ^\n",
      "DecodeError: Expected: ROLE\n",
      "Failed to deserialize, snum=0, beam=0\n"
     ]
    }
   ],
   "source": [
    "test_parse_trees = [ write_to_file('../data/edu_test_amr_parse_tree.txt', sentence) for sentence in  test_dataset['source_article'].to_list()]\n",
    "train_parse_trees = [write_to_file('../data/edu_train_amr_parse_tree.txt', sentence) for sentence in  train_dataset['source_article'].to_list()]"
   ]
  },
  {
   "cell_type": "code",
   "execution_count": null,
   "metadata": {},
   "outputs": [],
   "source": []
  }
 ],
 "metadata": {
  "kernelspec": {
   "display_name": "Python 3.8.5 ('neuros')",
   "language": "python",
   "name": "python3"
  },
  "language_info": {
   "codemirror_mode": {
    "name": "ipython",
    "version": 3
   },
   "file_extension": ".py",
   "mimetype": "text/x-python",
   "name": "python",
   "nbconvert_exporter": "python",
   "pygments_lexer": "ipython3",
   "version": "3.8.5"
  },
  "orig_nbformat": 4,
  "vscode": {
   "interpreter": {
    "hash": "4455a7d9a5fde2bdf2f7faf52cc6c3c081bc73476d60241f2f03234fa3a9b34e"
   }
  }
 },
 "nbformat": 4,
 "nbformat_minor": 2
}
