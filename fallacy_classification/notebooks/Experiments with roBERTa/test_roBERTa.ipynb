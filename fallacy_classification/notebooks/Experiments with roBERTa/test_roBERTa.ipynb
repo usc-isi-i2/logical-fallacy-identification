{
 "cells": [
  {
   "cell_type": "code",
   "execution_count": 1,
   "metadata": {},
   "outputs": [],
   "source": [
    "# Importing the libraries needed\n",
    "import pandas as pd\n",
    "import numpy as np\n",
    "from sklearn.model_selection import train_test_split\n",
    "import torch\n",
    "\n",
    "import transformers\n",
    "import json\n",
    "from tqdm import tqdm\n",
    "from torch.utils.data import Dataset, DataLoader\n",
    "from transformers import RobertaModel, RobertaTokenizer\n",
    "import logging\n",
    "logging.basicConfig(level=logging.ERROR)\n",
    "from tqdm import tqdm\n",
    "import matplotlib.pyplot as plt\n",
    "from IPython.display import clear_output\n",
    "\n",
    "import seaborn as sn\n",
    "import pandas as pd\n",
    "import matplotlib.pyplot as plt\n",
    "\n",
    "import math"
   ]
  },
  {
   "cell_type": "code",
   "execution_count": 2,
   "metadata": {},
   "outputs": [],
   "source": [
    "# Setting up the device for GPU usage\n",
    "\n",
    "from torch import cuda\n",
    "device = 'cuda' if cuda.is_available() else 'cpu'"
   ]
  },
  {
   "cell_type": "code",
   "execution_count": 3,
   "metadata": {},
   "outputs": [
    {
     "name": "stdout",
     "output_type": "stream",
     "text": [
      "Total memory: 50962169856\n",
      "Free memory: 32180207616\n",
      "Used memory: 18781962240\n"
     ]
    }
   ],
   "source": [
    "import nvidia_smi\n",
    "nvidia_smi.nvmlInit()\n",
    "\n",
    "handle = nvidia_smi.nvmlDeviceGetHandleByIndex(0)\n",
    "# card id 0 hardcoded here, there is also a call to get all available card ids, so we could iterate\n",
    "\n",
    "info = nvidia_smi.nvmlDeviceGetMemoryInfo(handle)\n",
    "\n",
    "print(\"Total memory:\", info.total)\n",
    "print(\"Free memory:\", info.free)\n",
    "print(\"Used memory:\", info.used)\n",
    "\n",
    "nvidia_smi.nvmlShutdown()"
   ]
  },
  {
   "cell_type": "code",
   "execution_count": 11,
   "metadata": {},
   "outputs": [
    {
     "name": "stdout",
     "output_type": "stream",
     "text": [
      "Get memory info (33931329536, 50962169856)\n",
      "Get number of devices available:  3\n",
      "Memory stats about which device is free: \n",
      "Device 0: b'Quadro RTX 8000', Memory : (60.83% free): 50962169856(total), 31002656768 (free), 19959513088 (used)\n",
      "Device 1: b'Quadro RTX 8000', Memory : (68.84% free): 50962169856(total), 35081617408 (free), 15880552448 (used)\n",
      "Device 2: b'Quadro RTX 8000', Memory : (66.58% free): 50962169856(total), 33931329536 (free), 17030840320 (used)\n",
      "Current Device:   2\n"
     ]
    }
   ],
   "source": [
    "print(\"Get memory info\", torch.cuda.mem_get_info(device=None)) \n",
    "print(\"Get number of devices available: \", torch.cuda.device_count())\n",
    "\n",
    "print(\"Memory stats about which device is free: \")\n",
    "\n",
    "nvidia_smi.nvmlInit()\n",
    "\n",
    "deviceCount = nvidia_smi.nvmlDeviceGetCount()\n",
    "for i in range(deviceCount):\n",
    "    handle = nvidia_smi.nvmlDeviceGetHandleByIndex(i)\n",
    "    info = nvidia_smi.nvmlDeviceGetMemoryInfo(handle)\n",
    "    print(\"Device {}: {}, Memory : ({:.2f}% free): {}(total), {} (free), {} (used)\".format(i, nvidia_smi.nvmlDeviceGetName(handle), 100*info.free/info.total, info.total, info.free, info.used))\n",
    "\n",
    "nvidia_smi.nvmlShutdown()\n",
    "\n",
    "print(\"Current Device:  \", torch.cuda.current_device()) \n"
   ]
  },
  {
   "cell_type": "code",
   "execution_count": 10,
   "metadata": {},
   "outputs": [],
   "source": [
    "torch.cuda.set_device(2)\n",
    "torch.cuda.empty_cache() "
   ]
  },
  {
   "cell_type": "code",
   "execution_count": 7,
   "metadata": {},
   "outputs": [
    {
     "name": "stdout",
     "output_type": "stream",
     "text": [
      "['false causality', 'ad populum', 'circular reasoning', 'fallacy of relevance', 'faulty generalization', 'ad hominem', 'fallacy of extension', 'equivocation', 'fallacy of logic', 'fallacy of credibility', 'intentional', 'false dilemma', 'miscellaneous']\n"
     ]
    }
   ],
   "source": [
    "train = pd.read_csv('../data/edu_train.csv')\n",
    "unique_labels = train.updated_label.unique().tolist()\n",
    "unique_labels.remove('appeal to emotion')\n",
    "print(unique_labels)"
   ]
  },
  {
   "cell_type": "code",
   "execution_count": 6,
   "metadata": {},
   "outputs": [],
   "source": [
    "\n",
    "MAX_LEN = 256\n",
    "TRAIN_BATCH_SIZE = 8\n",
    "VALID_BATCH_SIZE = 4\n",
    "LEARNING_RATE = 1e-05\n",
    "tokenizer = RobertaTokenizer.from_pretrained('roberta-base', truncation=True, do_lower_case=True)"
   ]
  },
  {
   "cell_type": "code",
   "execution_count": 7,
   "metadata": {},
   "outputs": [],
   "source": [
    "class LogicalFallacy(Dataset):\n",
    "    def __init__(self, dataset, tokenizer, max_len, attribute):\n",
    "        self.tokenizer = tokenizer\n",
    "        self.data = dataset\n",
    "        self.text = dataset[attribute]\n",
    "        self.targets = dataset.label\n",
    "        self.max_len = max_len\n",
    "        self.original_label = dataset.updated_label\n",
    "\n",
    "    def __len__(self):\n",
    "        return len(self.text)\n",
    "\n",
    "    def __getitem__(self, index):\n",
    "        text = str(self.text[index])\n",
    "        text = \" \".join(text.split())\n",
    "\n",
    "        inputs = self.tokenizer.encode_plus(\n",
    "            text,\n",
    "            None,\n",
    "            add_special_tokens=True,\n",
    "            max_length=self.max_len,\n",
    "            pad_to_max_length=True,\n",
    "            return_token_type_ids=True\n",
    "        )\n",
    "        ids = inputs['input_ids']\n",
    "        mask = inputs['attention_mask']\n",
    "        token_type_ids = inputs[\"token_type_ids\"]\n",
    "        \n",
    "\n",
    "        return {\n",
    "            'sentence': text,\n",
    "            \n",
    "            'ids': torch.tensor(ids, dtype=torch.long),\n",
    "            'mask': torch.tensor(mask, dtype=torch.long),\n",
    "            'token_type_ids': torch.tensor(token_type_ids, dtype=torch.long),\n",
    "            'targets': torch.tensor(self.targets[index], dtype=torch.float)\n",
    "        }"
   ]
  },
  {
   "cell_type": "code",
   "execution_count": 8,
   "metadata": {},
   "outputs": [],
   "source": [
    "class RobertaClass(torch.nn.Module):\n",
    "    def __init__(self):\n",
    "        super(RobertaClass, self).__init__()\n",
    "        self.l1 = RobertaModel.from_pretrained(\"roberta-base\")\n",
    "        self.pre_classifier = torch.nn.Linear(768, 768)\n",
    "        self.dropout = torch.nn.Dropout(0.3)\n",
    "        self.classifier = torch.nn.Linear(768, 2)\n",
    "\n",
    "    def forward(self, input_ids, attention_mask, token_type_ids):\n",
    "        output_1 = self.l1(input_ids=input_ids, attention_mask=attention_mask, token_type_ids=token_type_ids)\n",
    "        hidden_state = output_1[0]\n",
    "        pooler = hidden_state[:, 0]\n",
    "        pooler = self.pre_classifier(pooler)\n",
    "        pooler = torch.nn.ReLU()(pooler)\n",
    "        pooler = self.dropout(pooler)\n",
    "        output = self.classifier(pooler)\n",
    "        return output\n",
    "    \n",
    "\n"
   ]
  },
  {
   "cell_type": "code",
   "execution_count": 9,
   "metadata": {},
   "outputs": [],
   "source": [
    "def predict(loader, label, epochs=1):\n",
    "    model = torch.load('models_new/'+label+'trained_roberta.pt')\n",
    "    model.eval()\n",
    "    loss_function = torch.nn.CrossEntropyLoss()\n",
    "    test_answers = [[[],[]], [[],[]]]\n",
    "    for epoch in range(epochs):\n",
    "        for steps, data in tqdm(enumerate(loader, 0)):\n",
    "            sentence = data['sentence']\n",
    "            ids = data['ids'].to(device, dtype = torch.long)\n",
    "            mask = data['mask'].to(device, dtype = torch.long)\n",
    "            token_type_ids = data['token_type_ids'].to(device, dtype = torch.long)\n",
    "            targets = data['targets'].to(device, dtype = torch.long)\n",
    "        \n",
    "            outputs = model.forward(ids, mask, token_type_ids)\n",
    "            _, max_indices = torch.max(outputs.data, dim=1)\n",
    "            if epoch == epochs-1:\n",
    "                for i in range(len(targets)):\n",
    "                    test_answers[targets[i].item()][max_indices[i].item()].append([\n",
    "                                                                        sentence[i], \n",
    "                                                                        targets[i].item(), \n",
    "                                                                        max_indices[i].item()\n",
    "                                                                        ])\n",
    "        return test_answers\n",
    "\n",
    "                                                                \n",
    "\n",
    "       \n"
   ]
  },
  {
   "cell_type": "code",
   "execution_count": 12,
   "metadata": {},
   "outputs": [],
   "source": [
    "def driver_code(label):\n",
    "   \n",
    "    test_df = pd.read_csv('with GPT prompt text/'+label+'_test.csv')\n",
    "    test_df = test_df[test_df['cleaner_prompt'].notna()]\n",
    "    \n",
    "    test_set = LogicalFallacy(test_df, tokenizer, MAX_LEN)\n",
    "\n",
    "    \n",
    "    \n",
    "\n",
    "    test_params = {'batch_size': VALID_BATCH_SIZE,\n",
    "                'shuffle': True,\n",
    "                'num_workers': 0\n",
    "                }\n",
    "    \n",
    "    test_loader = DataLoader(test_set, **test_params)\n",
    "\n",
    "    \n",
    "    value = predict(test_loader, label)\n",
    "    return value\n",
    "\n"
   ]
  },
  {
   "cell_type": "code",
   "execution_count": null,
   "metadata": {},
   "outputs": [],
   "source": []
  },
  {
   "cell_type": "code",
   "execution_count": 13,
   "metadata": {},
   "outputs": [
    {
     "ename": "RuntimeError",
     "evalue": "CUDA error: out of memory\nCUDA kernel errors might be asynchronously reported at some other API call,so the stacktrace below might be incorrect.\nFor debugging consider passing CUDA_LAUNCH_BLOCKING=1.",
     "output_type": "error",
     "traceback": [
      "\u001b[0;31m---------------------------------------------------------------------------\u001b[0m",
      "\u001b[0;31mRuntimeError\u001b[0m                              Traceback (most recent call last)",
      "\u001b[1;32m/scratch/vishnu/neurosymbolic-argumentation/experiments/Classifiers/test_roBERTa.ipynb Cell 13'\u001b[0m in \u001b[0;36m<cell line: 2>\u001b[0;34m()\u001b[0m\n\u001b[1;32m      <a href='vscode-notebook-cell://ssh-remote%2Bckg11.isi.edu/scratch/vishnu/neurosymbolic-argumentation/experiments/Classifiers/test_roBERTa.ipynb#ch0000012vscode-remote?line=0'>1</a>\u001b[0m test_answers_list \u001b[39m=\u001b[39m []\n\u001b[1;32m      <a href='vscode-notebook-cell://ssh-remote%2Bckg11.isi.edu/scratch/vishnu/neurosymbolic-argumentation/experiments/Classifiers/test_roBERTa.ipynb#ch0000012vscode-remote?line=1'>2</a>\u001b[0m \u001b[39mfor\u001b[39;00m i \u001b[39min\u001b[39;00m \u001b[39mrange\u001b[39m(\u001b[39mlen\u001b[39m(unique_labels)):\n\u001b[0;32m----> <a href='vscode-notebook-cell://ssh-remote%2Bckg11.isi.edu/scratch/vishnu/neurosymbolic-argumentation/experiments/Classifiers/test_roBERTa.ipynb#ch0000012vscode-remote?line=3'>4</a>\u001b[0m     test_answers \u001b[39m=\u001b[39m driver_code(unique_labels[i])\n\u001b[1;32m      <a href='vscode-notebook-cell://ssh-remote%2Bckg11.isi.edu/scratch/vishnu/neurosymbolic-argumentation/experiments/Classifiers/test_roBERTa.ipynb#ch0000012vscode-remote?line=4'>5</a>\u001b[0m     test_answers_list\u001b[39m.\u001b[39mappend(test_answers)\n\u001b[1;32m      <a href='vscode-notebook-cell://ssh-remote%2Bckg11.isi.edu/scratch/vishnu/neurosymbolic-argumentation/experiments/Classifiers/test_roBERTa.ipynb#ch0000012vscode-remote?line=6'>7</a>\u001b[0m \u001b[39mdef\u001b[39;00m \u001b[39mtruncate\u001b[39m(f, n):\n",
      "\u001b[1;32m/scratch/vishnu/neurosymbolic-argumentation/experiments/Classifiers/test_roBERTa.ipynb Cell 11'\u001b[0m in \u001b[0;36mdriver_code\u001b[0;34m(label)\u001b[0m\n\u001b[1;32m     <a href='vscode-notebook-cell://ssh-remote%2Bckg11.isi.edu/scratch/vishnu/neurosymbolic-argumentation/experiments/Classifiers/test_roBERTa.ipynb#ch0000010vscode-remote?line=10'>11</a>\u001b[0m test_params \u001b[39m=\u001b[39m {\u001b[39m'\u001b[39m\u001b[39mbatch_size\u001b[39m\u001b[39m'\u001b[39m: VALID_BATCH_SIZE,\n\u001b[1;32m     <a href='vscode-notebook-cell://ssh-remote%2Bckg11.isi.edu/scratch/vishnu/neurosymbolic-argumentation/experiments/Classifiers/test_roBERTa.ipynb#ch0000010vscode-remote?line=11'>12</a>\u001b[0m             \u001b[39m'\u001b[39m\u001b[39mshuffle\u001b[39m\u001b[39m'\u001b[39m: \u001b[39mTrue\u001b[39;00m,\n\u001b[1;32m     <a href='vscode-notebook-cell://ssh-remote%2Bckg11.isi.edu/scratch/vishnu/neurosymbolic-argumentation/experiments/Classifiers/test_roBERTa.ipynb#ch0000010vscode-remote?line=12'>13</a>\u001b[0m             \u001b[39m'\u001b[39m\u001b[39mnum_workers\u001b[39m\u001b[39m'\u001b[39m: \u001b[39m0\u001b[39m\n\u001b[1;32m     <a href='vscode-notebook-cell://ssh-remote%2Bckg11.isi.edu/scratch/vishnu/neurosymbolic-argumentation/experiments/Classifiers/test_roBERTa.ipynb#ch0000010vscode-remote?line=13'>14</a>\u001b[0m             }\n\u001b[1;32m     <a href='vscode-notebook-cell://ssh-remote%2Bckg11.isi.edu/scratch/vishnu/neurosymbolic-argumentation/experiments/Classifiers/test_roBERTa.ipynb#ch0000010vscode-remote?line=15'>16</a>\u001b[0m test_loader \u001b[39m=\u001b[39m DataLoader(test_set, \u001b[39m*\u001b[39m\u001b[39m*\u001b[39mtest_params)\n\u001b[0;32m---> <a href='vscode-notebook-cell://ssh-remote%2Bckg11.isi.edu/scratch/vishnu/neurosymbolic-argumentation/experiments/Classifiers/test_roBERTa.ipynb#ch0000010vscode-remote?line=18'>19</a>\u001b[0m value \u001b[39m=\u001b[39m predict(test_loader, label)\n\u001b[1;32m     <a href='vscode-notebook-cell://ssh-remote%2Bckg11.isi.edu/scratch/vishnu/neurosymbolic-argumentation/experiments/Classifiers/test_roBERTa.ipynb#ch0000010vscode-remote?line=19'>20</a>\u001b[0m \u001b[39mreturn\u001b[39;00m value\n",
      "\u001b[1;32m/scratch/vishnu/neurosymbolic-argumentation/experiments/Classifiers/test_roBERTa.ipynb Cell 10'\u001b[0m in \u001b[0;36mpredict\u001b[0;34m(loader, label, epochs)\u001b[0m\n\u001b[1;32m      <a href='vscode-notebook-cell://ssh-remote%2Bckg11.isi.edu/scratch/vishnu/neurosymbolic-argumentation/experiments/Classifiers/test_roBERTa.ipynb#ch0000009vscode-remote?line=0'>1</a>\u001b[0m \u001b[39mdef\u001b[39;00m \u001b[39mpredict\u001b[39m(loader, label, epochs\u001b[39m=\u001b[39m\u001b[39m1\u001b[39m):\n\u001b[0;32m----> <a href='vscode-notebook-cell://ssh-remote%2Bckg11.isi.edu/scratch/vishnu/neurosymbolic-argumentation/experiments/Classifiers/test_roBERTa.ipynb#ch0000009vscode-remote?line=1'>2</a>\u001b[0m     model \u001b[39m=\u001b[39m torch\u001b[39m.\u001b[39;49mload(\u001b[39m'\u001b[39;49m\u001b[39mmodels_new/\u001b[39;49m\u001b[39m'\u001b[39;49m\u001b[39m+\u001b[39;49mlabel\u001b[39m+\u001b[39;49m\u001b[39m'\u001b[39;49m\u001b[39mtrained_roberta.pt\u001b[39;49m\u001b[39m'\u001b[39;49m)\n\u001b[1;32m      <a href='vscode-notebook-cell://ssh-remote%2Bckg11.isi.edu/scratch/vishnu/neurosymbolic-argumentation/experiments/Classifiers/test_roBERTa.ipynb#ch0000009vscode-remote?line=2'>3</a>\u001b[0m     model\u001b[39m.\u001b[39meval()\n\u001b[1;32m      <a href='vscode-notebook-cell://ssh-remote%2Bckg11.isi.edu/scratch/vishnu/neurosymbolic-argumentation/experiments/Classifiers/test_roBERTa.ipynb#ch0000009vscode-remote?line=3'>4</a>\u001b[0m     loss_function \u001b[39m=\u001b[39m torch\u001b[39m.\u001b[39mnn\u001b[39m.\u001b[39mCrossEntropyLoss()\n",
      "File \u001b[0;32m~/anaconda3/envs/neuros/lib/python3.8/site-packages/torch/serialization.py:607\u001b[0m, in \u001b[0;36mload\u001b[0;34m(f, map_location, pickle_module, **pickle_load_args)\u001b[0m\n\u001b[1;32m    <a href='file:///nas/home/vprasann/anaconda3/envs/neuros/lib/python3.8/site-packages/torch/serialization.py?line=604'>605</a>\u001b[0m             opened_file\u001b[39m.\u001b[39mseek(orig_position)\n\u001b[1;32m    <a href='file:///nas/home/vprasann/anaconda3/envs/neuros/lib/python3.8/site-packages/torch/serialization.py?line=605'>606</a>\u001b[0m             \u001b[39mreturn\u001b[39;00m torch\u001b[39m.\u001b[39mjit\u001b[39m.\u001b[39mload(opened_file)\n\u001b[0;32m--> <a href='file:///nas/home/vprasann/anaconda3/envs/neuros/lib/python3.8/site-packages/torch/serialization.py?line=606'>607</a>\u001b[0m         \u001b[39mreturn\u001b[39;00m _load(opened_zipfile, map_location, pickle_module, \u001b[39m*\u001b[39;49m\u001b[39m*\u001b[39;49mpickle_load_args)\n\u001b[1;32m    <a href='file:///nas/home/vprasann/anaconda3/envs/neuros/lib/python3.8/site-packages/torch/serialization.py?line=607'>608</a>\u001b[0m \u001b[39mreturn\u001b[39;00m _legacy_load(opened_file, map_location, pickle_module, \u001b[39m*\u001b[39m\u001b[39m*\u001b[39mpickle_load_args)\n",
      "File \u001b[0;32m~/anaconda3/envs/neuros/lib/python3.8/site-packages/torch/serialization.py:882\u001b[0m, in \u001b[0;36m_load\u001b[0;34m(zip_file, map_location, pickle_module, pickle_file, **pickle_load_args)\u001b[0m\n\u001b[1;32m    <a href='file:///nas/home/vprasann/anaconda3/envs/neuros/lib/python3.8/site-packages/torch/serialization.py?line=879'>880</a>\u001b[0m unpickler \u001b[39m=\u001b[39m UnpicklerWrapper(data_file, \u001b[39m*\u001b[39m\u001b[39m*\u001b[39mpickle_load_args)\n\u001b[1;32m    <a href='file:///nas/home/vprasann/anaconda3/envs/neuros/lib/python3.8/site-packages/torch/serialization.py?line=880'>881</a>\u001b[0m unpickler\u001b[39m.\u001b[39mpersistent_load \u001b[39m=\u001b[39m persistent_load\n\u001b[0;32m--> <a href='file:///nas/home/vprasann/anaconda3/envs/neuros/lib/python3.8/site-packages/torch/serialization.py?line=881'>882</a>\u001b[0m result \u001b[39m=\u001b[39m unpickler\u001b[39m.\u001b[39;49mload()\n\u001b[1;32m    <a href='file:///nas/home/vprasann/anaconda3/envs/neuros/lib/python3.8/site-packages/torch/serialization.py?line=883'>884</a>\u001b[0m torch\u001b[39m.\u001b[39m_utils\u001b[39m.\u001b[39m_validate_loaded_sparse_tensors()\n\u001b[1;32m    <a href='file:///nas/home/vprasann/anaconda3/envs/neuros/lib/python3.8/site-packages/torch/serialization.py?line=885'>886</a>\u001b[0m \u001b[39mreturn\u001b[39;00m result\n",
      "File \u001b[0;32m~/anaconda3/envs/neuros/lib/python3.8/site-packages/torch/serialization.py:857\u001b[0m, in \u001b[0;36m_load.<locals>.persistent_load\u001b[0;34m(saved_id)\u001b[0m\n\u001b[1;32m    <a href='file:///nas/home/vprasann/anaconda3/envs/neuros/lib/python3.8/site-packages/torch/serialization.py?line=854'>855</a>\u001b[0m data_type, key, location, size \u001b[39m=\u001b[39m data\n\u001b[1;32m    <a href='file:///nas/home/vprasann/anaconda3/envs/neuros/lib/python3.8/site-packages/torch/serialization.py?line=855'>856</a>\u001b[0m \u001b[39mif\u001b[39;00m key \u001b[39mnot\u001b[39;00m \u001b[39min\u001b[39;00m loaded_storages:\n\u001b[0;32m--> <a href='file:///nas/home/vprasann/anaconda3/envs/neuros/lib/python3.8/site-packages/torch/serialization.py?line=856'>857</a>\u001b[0m     load_tensor(data_type, size, key, _maybe_decode_ascii(location))\n\u001b[1;32m    <a href='file:///nas/home/vprasann/anaconda3/envs/neuros/lib/python3.8/site-packages/torch/serialization.py?line=857'>858</a>\u001b[0m storage \u001b[39m=\u001b[39m loaded_storages[key]\n\u001b[1;32m    <a href='file:///nas/home/vprasann/anaconda3/envs/neuros/lib/python3.8/site-packages/torch/serialization.py?line=858'>859</a>\u001b[0m \u001b[39mreturn\u001b[39;00m storage\n",
      "File \u001b[0;32m~/anaconda3/envs/neuros/lib/python3.8/site-packages/torch/serialization.py:846\u001b[0m, in \u001b[0;36m_load.<locals>.load_tensor\u001b[0;34m(data_type, size, key, location)\u001b[0m\n\u001b[1;32m    <a href='file:///nas/home/vprasann/anaconda3/envs/neuros/lib/python3.8/site-packages/torch/serialization.py?line=842'>843</a>\u001b[0m dtype \u001b[39m=\u001b[39m data_type(\u001b[39m0\u001b[39m)\u001b[39m.\u001b[39mdtype\n\u001b[1;32m    <a href='file:///nas/home/vprasann/anaconda3/envs/neuros/lib/python3.8/site-packages/torch/serialization.py?line=844'>845</a>\u001b[0m storage \u001b[39m=\u001b[39m zip_file\u001b[39m.\u001b[39mget_storage_from_record(name, size, dtype)\u001b[39m.\u001b[39mstorage()\n\u001b[0;32m--> <a href='file:///nas/home/vprasann/anaconda3/envs/neuros/lib/python3.8/site-packages/torch/serialization.py?line=845'>846</a>\u001b[0m loaded_storages[key] \u001b[39m=\u001b[39m restore_location(storage, location)\n",
      "File \u001b[0;32m~/anaconda3/envs/neuros/lib/python3.8/site-packages/torch/serialization.py:175\u001b[0m, in \u001b[0;36mdefault_restore_location\u001b[0;34m(storage, location)\u001b[0m\n\u001b[1;32m    <a href='file:///nas/home/vprasann/anaconda3/envs/neuros/lib/python3.8/site-packages/torch/serialization.py?line=172'>173</a>\u001b[0m \u001b[39mdef\u001b[39;00m \u001b[39mdefault_restore_location\u001b[39m(storage, location):\n\u001b[1;32m    <a href='file:///nas/home/vprasann/anaconda3/envs/neuros/lib/python3.8/site-packages/torch/serialization.py?line=173'>174</a>\u001b[0m     \u001b[39mfor\u001b[39;00m _, _, fn \u001b[39min\u001b[39;00m _package_registry:\n\u001b[0;32m--> <a href='file:///nas/home/vprasann/anaconda3/envs/neuros/lib/python3.8/site-packages/torch/serialization.py?line=174'>175</a>\u001b[0m         result \u001b[39m=\u001b[39m fn(storage, location)\n\u001b[1;32m    <a href='file:///nas/home/vprasann/anaconda3/envs/neuros/lib/python3.8/site-packages/torch/serialization.py?line=175'>176</a>\u001b[0m         \u001b[39mif\u001b[39;00m result \u001b[39mis\u001b[39;00m \u001b[39mnot\u001b[39;00m \u001b[39mNone\u001b[39;00m:\n\u001b[1;32m    <a href='file:///nas/home/vprasann/anaconda3/envs/neuros/lib/python3.8/site-packages/torch/serialization.py?line=176'>177</a>\u001b[0m             \u001b[39mreturn\u001b[39;00m result\n",
      "File \u001b[0;32m~/anaconda3/envs/neuros/lib/python3.8/site-packages/torch/serialization.py:157\u001b[0m, in \u001b[0;36m_cuda_deserialize\u001b[0;34m(obj, location)\u001b[0m\n\u001b[1;32m    <a href='file:///nas/home/vprasann/anaconda3/envs/neuros/lib/python3.8/site-packages/torch/serialization.py?line=154'>155</a>\u001b[0m         \u001b[39mreturn\u001b[39;00m storage_type(obj\u001b[39m.\u001b[39msize())\n\u001b[1;32m    <a href='file:///nas/home/vprasann/anaconda3/envs/neuros/lib/python3.8/site-packages/torch/serialization.py?line=155'>156</a>\u001b[0m \u001b[39melse\u001b[39;00m:\n\u001b[0;32m--> <a href='file:///nas/home/vprasann/anaconda3/envs/neuros/lib/python3.8/site-packages/torch/serialization.py?line=156'>157</a>\u001b[0m     \u001b[39mreturn\u001b[39;00m obj\u001b[39m.\u001b[39;49mcuda(device)\n",
      "File \u001b[0;32m~/anaconda3/envs/neuros/lib/python3.8/site-packages/torch/_utils.py:79\u001b[0m, in \u001b[0;36m_cuda\u001b[0;34m(self, device, non_blocking, **kwargs)\u001b[0m\n\u001b[1;32m     <a href='file:///nas/home/vprasann/anaconda3/envs/neuros/lib/python3.8/site-packages/torch/_utils.py?line=76'>77</a>\u001b[0m \u001b[39melse\u001b[39;00m:\n\u001b[1;32m     <a href='file:///nas/home/vprasann/anaconda3/envs/neuros/lib/python3.8/site-packages/torch/_utils.py?line=77'>78</a>\u001b[0m     new_type \u001b[39m=\u001b[39m \u001b[39mgetattr\u001b[39m(torch\u001b[39m.\u001b[39mcuda, \u001b[39mself\u001b[39m\u001b[39m.\u001b[39m\u001b[39m__class__\u001b[39m\u001b[39m.\u001b[39m\u001b[39m__name__\u001b[39m)\n\u001b[0;32m---> <a href='file:///nas/home/vprasann/anaconda3/envs/neuros/lib/python3.8/site-packages/torch/_utils.py?line=78'>79</a>\u001b[0m     \u001b[39mreturn\u001b[39;00m new_type(\u001b[39mself\u001b[39;49m\u001b[39m.\u001b[39;49msize())\u001b[39m.\u001b[39mcopy_(\u001b[39mself\u001b[39m, non_blocking)\n",
      "File \u001b[0;32m~/anaconda3/envs/neuros/lib/python3.8/site-packages/torch/cuda/__init__.py:606\u001b[0m, in \u001b[0;36m_lazy_new\u001b[0;34m(cls, *args, **kwargs)\u001b[0m\n\u001b[1;32m    <a href='file:///nas/home/vprasann/anaconda3/envs/neuros/lib/python3.8/site-packages/torch/cuda/__init__.py?line=602'>603</a>\u001b[0m _lazy_init()\n\u001b[1;32m    <a href='file:///nas/home/vprasann/anaconda3/envs/neuros/lib/python3.8/site-packages/torch/cuda/__init__.py?line=603'>604</a>\u001b[0m \u001b[39m# We may need to call lazy init again if we are a forked child\u001b[39;00m\n\u001b[1;32m    <a href='file:///nas/home/vprasann/anaconda3/envs/neuros/lib/python3.8/site-packages/torch/cuda/__init__.py?line=604'>605</a>\u001b[0m \u001b[39m# del _CudaBase.__new__\u001b[39;00m\n\u001b[0;32m--> <a href='file:///nas/home/vprasann/anaconda3/envs/neuros/lib/python3.8/site-packages/torch/cuda/__init__.py?line=605'>606</a>\u001b[0m \u001b[39mreturn\u001b[39;00m \u001b[39msuper\u001b[39;49m(_CudaBase, \u001b[39mcls\u001b[39;49m)\u001b[39m.\u001b[39;49m\u001b[39m__new__\u001b[39;49m(\u001b[39mcls\u001b[39;49m, \u001b[39m*\u001b[39;49margs, \u001b[39m*\u001b[39;49m\u001b[39m*\u001b[39;49mkwargs)\n",
      "\u001b[0;31mRuntimeError\u001b[0m: CUDA error: out of memory\nCUDA kernel errors might be asynchronously reported at some other API call,so the stacktrace below might be incorrect.\nFor debugging consider passing CUDA_LAUNCH_BLOCKING=1."
     ]
    }
   ],
   "source": [
    "test_answers_list = []\n",
    "for i in range(len(unique_labels)):\n",
    "    \n",
    "    test_answers = driver_code(unique_labels[i])\n",
    "    test_answers_list.append(test_answers)\n",
    "\n",
    "def truncate(f, n):\n",
    "    return math.floor(f * 10 ** n) / 10 ** n\n",
    "    "
   ]
  },
  {
   "cell_type": "code",
   "execution_count": 7,
   "metadata": {},
   "outputs": [],
   "source": [
    "import pickle\n",
    "\n",
    "# open a file, where you stored the pickled data\n",
    "file = open('test_answers_1.pk', 'rb')\n",
    "\n",
    "# dump information to that file\n",
    "test_answers_list = pickle.load(file)\n",
    "\n",
    "# close the file\n",
    "file.close()\n",
    "def truncate(f, n):\n",
    "    return math.floor(f * 10 ** n) / 10 ** n\n"
   ]
  },
  {
   "cell_type": "code",
   "execution_count": 31,
   "metadata": {},
   "outputs": [
    {
     "data": {
      "image/png": "[encoded data removed]",
      "text/plain": [
       "<Figure size 360x360 with 2 Axes>"
      ]
     },
     "metadata": {
      "needs_background": "light"
     },
     "output_type": "display_data"
    },
    {
     "data": {
      "image/png": "[encoded data removed]",
      "text/plain": [
       "<Figure size 360x360 with 2 Axes>"
      ]
     },
     "metadata": {
      "needs_background": "light"
     },
     "output_type": "display_data"
    },
    {
     "data": {
      "image/png": "[encoded data removed]",
      "text/plain": [
       "<Figure size 360x360 with 2 Axes>"
      ]
     },
     "metadata": {
      "needs_background": "light"
     },
     "output_type": "display_data"
    },
    {
     "data": {
      "image/png": "[encoded data removed]",
      "text/plain": [
       "<Figure size 360x360 with 2 Axes>"
      ]
     },
     "metadata": {
      "needs_background": "light"
     },
     "output_type": "display_data"
    },
    {
     "data": {
      "image/png": "[encoded data removed]",
      "text/plain": [
       "<Figure size 360x360 with 2 Axes>"
      ]
     },
     "metadata": {
      "needs_background": "light"
     },
     "output_type": "display_data"
    },
    {
     "data": {
      "image/png": "[encoded data removed]",
      "text/plain": [
       "<Figure size 360x360 with 2 Axes>"
      ]
     },
     "metadata": {
      "needs_background": "light"
     },
     "output_type": "display_data"
    },
    {
     "data": {
      "image/png": "[encoded data removed]",
      "text/plain": [
       "<Figure size 360x360 with 2 Axes>"
      ]
     },
     "metadata": {
      "needs_background": "light"
     },
     "output_type": "display_data"
    },
    {
     "data": {
      "image/png": "[encoded data removed]",
      "text/plain": [
       "<Figure size 360x360 with 2 Axes>"
      ]
     },
     "metadata": {
      "needs_background": "light"
     },
     "output_type": "display_data"
    },
    {
     "data": {
      "image/png": "[encoded data removed]",
      "text/plain": [
       "<Figure size 360x360 with 2 Axes>"
      ]
     },
     "metadata": {
      "needs_background": "light"
     },
     "output_type": "display_data"
    },
    {
     "data": {
      "image/png": "[encoded data removed]",
      "text/plain": [
       "<Figure size 360x360 with 2 Axes>"
      ]
     },
     "metadata": {
      "needs_background": "light"
     },
     "output_type": "display_data"
    },
    {
     "data": {
      "image/png": "[encoded data removed]",
      "text/plain": [
       "<Figure size 360x360 with 2 Axes>"
      ]
     },
     "metadata": {
      "needs_background": "light"
     },
     "output_type": "display_data"
    },
    {
     "data": {
      "image/png": "[encoded data removed]",
      "text/plain": [
       "<Figure size 360x360 with 2 Axes>"
      ]
     },
     "metadata": {
      "needs_background": "light"
     },
     "output_type": "display_data"
    }
   ],
   "source": [
    "train = pd.read_csv('data/edu_train.csv')\n",
    "unique_labels = train.updated_label.unique().tolist()\n",
    "unique_labels.remove('appeal to emotion')\n",
    "\n",
    "tp_list, tn_list, fp_list, fn_list = [], [], [], [] \n",
    "accuracy_list, precision_list, recall_list = [], [], [] \n",
    "for i in range(len(unique_labels)-1):\n",
    "    test_df = pd.read_csv('data/'+unique_labels[i]+'_test.csv')\n",
    "    len_num = len(test_df)\n",
    "\n",
    "    tp=len(test_answers_list[i][1][1])/len_num\n",
    "    fn=len(test_answers_list[i][1][0])/len_num\n",
    "    fp=len(test_answers_list[i][0][1])/len_num\n",
    "    tn=len(test_answers_list[i][0][0])/len_num\n",
    "\n",
    "\n",
    "    array_matrix = [[tp,tn], \n",
    "                    [fp,fn]]\n",
    "    df_cm = pd.DataFrame(array_matrix, index = ['T', 'F'],\n",
    "                    columns = ['P', 'N'])\n",
    "    plt.figure(figsize = (5,5))\n",
    "    sn.heatmap(df_cm, annot=True)\n",
    "\n",
    "    precision = truncate( tp / (tp + fp), 3) \n",
    "    recall = truncate( tp/ (tp + fn), 3)\n",
    "    accuracy =truncate( tp+tn/(tp+tn+fp+fn), 3) \n",
    "\n",
    "    tp_list.append(truncate(tp,3)) \n",
    "    tn_list.append(truncate(tn, 3)) \n",
    "    fp_list.append(truncate(fp,3)) \n",
    "    fn_list.append(truncate(fn, 3))\n",
    "    accuracy_list.append(accuracy) \n",
    "    recall_list.append(recall) \n",
    "    precision_list.append(precision) \n",
    "    "
   ]
  },
  {
   "cell_type": "code",
   "execution_count": 32,
   "metadata": {},
   "outputs": [],
   "source": [
    "extract_classes = [] \n",
    "\n",
    "token_labels_dictionary = { \n",
    "        'lbl01':'false causality', \n",
    "        'lbl02':'ad populum', \n",
    "        'lbl03':'circular reasoning',\n",
    "        'lbl04':'fallacy of relevance', \n",
    "        'lbl05': 'faulty generalization', \n",
    "        'lbl06':'ad hominem', \n",
    "        'lbl07':'fallacy of extension', \n",
    "        'lbl08':'equivocation', \n",
    "        'lbl09':'fallacy of logic', \n",
    "        'lbl10':'fallacy of credibility',\n",
    "        'lbl11': 'intentional', \n",
    "        'lbl12':'false dilemma', \n",
    "        'lbl13':'miscellaneous', \n",
    "        'lbl14': 'appeal to emotion'}\n",
    "\n",
    "test_df = pd.read_csv('data/'+unique_labels[0]+'_test.csv')\n",
    "for test_answers in test_answers_list:\n",
    "    classes = [] \n",
    "    for false_positive in test_answers[0][1]:\n",
    "        if false_positive[0][-5:] in token_labels_dictionary:\n",
    "            token = token_labels_dictionary[false_positive[0][-5:]]\n",
    "        else:\n",
    "            print(false_positive[0][-5:] )\n",
    "        classes.append(token)\n",
    "    classes = list(set(classes))\n",
    "    extract_classes.append(classes)\n",
    " \n"
   ]
  },
  {
   "cell_type": "code",
   "execution_count": 33,
   "metadata": {},
   "outputs": [],
   "source": [
    "dictionary = {\n",
    "    'fallacy class': unique_labels[:-1], \n",
    "    'accuracy': accuracy_list,\n",
    "    'precision': precision_list, \n",
    "    'recall': recall_list, \n",
    "    'TP': tp_list, \n",
    "    'TN': tn_list,\n",
    "    'FP':fp_list, \n",
    "    'FN':fn_list, \n",
    "    'Classes for False Positive:': extract_classes\n",
    "}\n",
    "df = pd.DataFrame.from_dict(dictionary) \n",
    "df.to_csv (r'results/results_classifier_bin_prev.csv', index = False, header=True) \n",
    "\n"
   ]
  },
  {
   "cell_type": "code",
   "execution_count": 30,
   "metadata": {},
   "outputs": [
    {
     "name": "stdout",
     "output_type": "stream",
     "text": [
      "12 12 12 12 0 12 12 12 12\n"
     ]
    }
   ],
   "source": [
    "print( len(unique_labels[:-1]) , len(accuracy_list), len(precision_list), len( recall_list), len(tp_list), len(tn_list), len(fp_list), len(fn_list), len(extract_classes))"
   ]
  },
  {
   "cell_type": "code",
   "execution_count": 86,
   "metadata": {},
   "outputs": [],
   "source": [
    "total = 0 \n",
    "samples = []\n",
    "for i in range(len(unique_labels)-1): \n",
    "    train_df = pd.read_csv('data/'+unique_labels[i]+'_train.csv')\n",
    "    samples.append(len(train_df))\n",
    "    total += len(train_df) \n"
   ]
  },
  {
   "cell_type": "code",
   "execution_count": 109,
   "metadata": {},
   "outputs": [],
   "source": [
    "samples_new  = [ truncate(elt/total, 3)*100 for elt in samples]"
   ]
  },
  {
   "cell_type": "code",
   "execution_count": 98,
   "metadata": {},
   "outputs": [
    {
     "data": {
      "image/png": "[encoded data removed]",
      "text/plain": [
       "<Figure size 432x288 with 1 Axes>"
      ]
     },
     "metadata": {
      "needs_background": "light"
     },
     "output_type": "display_data"
    }
   ],
   "source": [
    "import matplotlib.pyplot\n",
    "import pylab\n",
    "\n",
    "x = accuracy_list\n",
    "y = samples_new\n",
    "matplotlib.pyplot.scatter(x,y)\n",
    "\n",
    "matplotlib.pyplot.show()"
   ]
  },
  {
   "cell_type": "code",
   "execution_count": 99,
   "metadata": {},
   "outputs": [],
   "source": [
    "acc_list = [0.7866,\n",
    "0.863,\n",
    "0.75,\n",
    "0.8233,\n",
    "0.9433,\n",
    "0.8733,\n",
    "0.8833,\n",
    "0.966,\n",
    "0.9433,\n",
    "0.776,\n",
    "0.9033,\n",
    "0.8866,\n",
    "0.8833,]"
   ]
  },
  {
   "cell_type": "code",
   "execution_count": 110,
   "metadata": {},
   "outputs": [],
   "source": [
    "distribution = [ 17.22,\n",
    "9.395,\n",
    "7.23,\n",
    "8.53,\n",
    "12.14,\n",
    "6.533,\n",
    "7.019,\n",
    "5.39,\n",
    "2.105,\n",
    "5.72,\n",
    "6.15,\n",
    "5.777,\n",
    "6.047]"
   ]
  },
  {
   "cell_type": "code",
   "execution_count": 101,
   "metadata": {},
   "outputs": [],
   "source": [
    "distribution = [elt/100 for elt in distribution]"
   ]
  },
  {
   "cell_type": "code",
   "execution_count": 123,
   "metadata": {},
   "outputs": [
    {
     "data": {
      "image/png": "[encoded data removed]",
      "text/plain": [
       "<Figure size 432x288 with 1 Axes>"
      ]
     },
     "metadata": {
      "needs_background": "light"
     },
     "output_type": "display_data"
    }
   ],
   "source": [
    "import matplotlib.pyplot as plt\n",
    "import pylab\n",
    "\n",
    "x = acc_list+accuracy_list\n",
    "y = distribution+samples_new\n",
    "plt.title(\"Distribution Vs Accuracy\")\n",
    "\n",
    "plt.xlabel(\"Distribution\")\n",
    "plt.ylabel(\"Accuracy\")\n",
    "a = plt.scatter(distribution, acc_list, color='blue')\n",
    "b = plt.scatter(distribution,accuracy_list, color='red')\n",
    "plt.legend((a, b),\n",
    "           ('unbalanced', 'balanced'),\n",
    "           scatterpoints=1,\n",
    "           loc='upper right',\n",
    "           ncol=3,\n",
    "           fontsize=8)\n",
    "\n",
    "\n",
    "\n",
    "plt.show()\n"
   ]
  },
  {
   "cell_type": "code",
   "execution_count": 115,
   "metadata": {},
   "outputs": [],
   "source": [
    "prec_list = [0,\n",
    "0.041,\n",
    "0.0625,\n",
    "0.0294,\n",
    "0.8292,\n",
    "0,\n",
    "0.05,\n",
    "0.55,\n",
    "0,\n",
    "0.0217,\n",
    "0,\n",
    "0,\n",
    "0]"
   ]
  },
  {
   "cell_type": "code",
   "execution_count": 119,
   "metadata": {},
   "outputs": [],
   "source": [
    "rec_list = [0,\n",
    "0.0526,\n",
    "0.0163,\n",
    "0.0476,\n",
    "0.7727,\n",
    "0,\n",
    "0.0588,\n",
    "0.916,\n",
    "0,\n",
    "0.0434,\n",
    "0,\n",
    "0,\n",
    "0]"
   ]
  },
  {
   "cell_type": "code",
   "execution_count": null,
   "metadata": {},
   "outputs": [],
   "source": []
  }
 ],
 "metadata": {
  "interpreter": {
   "hash": "4455a7d9a5fde2bdf2f7faf52cc6c3c081bc73476d60241f2f03234fa3a9b34e"
  },
  "kernelspec": {
   "display_name": "Python 3.8.5 ('neuros')",
   "language": "python",
   "name": "python3"
  },
  "language_info": {
   "codemirror_mode": {
    "name": "ipython",
    "version": 3
   },
   "file_extension": ".py",
   "mimetype": "text/x-python",
   "name": "python",
   "nbconvert_exporter": "python",
   "pygments_lexer": "ipython3",
   "version": "3.8.5"
  },
  "orig_nbformat": 4
 },
 "nbformat": 4,
 "nbformat_minor": 2
}
