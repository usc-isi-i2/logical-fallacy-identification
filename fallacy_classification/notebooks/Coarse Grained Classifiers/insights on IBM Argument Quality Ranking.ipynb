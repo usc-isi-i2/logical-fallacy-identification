{
 "cells": [
  {
   "cell_type": "code",
   "execution_count": 49,
   "metadata": {},
   "outputs": [
    {
     "data": {
      "text/plain": [
       "6315"
      ]
     },
     "execution_count": 49,
     "metadata": {},
     "output_type": "execute_result"
    }
   ],
   "source": [
    "import pandas as pd \n",
    "\n",
    "dataset = pd.read_csv('../data/IBM data/IBM_arg_30k_test.csv') \n",
    "dataset.head(3)\n",
    "len(dataset)\n",
    " "
   ]
  },
  {
   "cell_type": "code",
   "execution_count": 1,
   "metadata": {},
   "outputs": [],
   "source": [
    "# Importing the libraries needed\n",
    "import pandas as pd\n",
    "import numpy as np\n",
    "from sklearn.model_selection import train_test_split\n",
    "import torch\n",
    "\n",
    "import transformers\n",
    "import json\n",
    "from tqdm import tqdm\n",
    "from torch.utils.data import Dataset, DataLoader\n",
    "from transformers import RobertaModel, RobertaTokenizer\n",
    "import logging\n",
    "logging.basicConfig(level=logging.ERROR)\n",
    "from tqdm import tqdm\n",
    "import matplotlib.pyplot as plt\n",
    "from IPython.display import clear_output\n",
    "\n",
    "import seaborn as sn\n",
    "import pandas as pd\n",
    "import matplotlib.pyplot as plt\n",
    "\n",
    "import math"
   ]
  },
  {
   "cell_type": "code",
   "execution_count": 2,
   "metadata": {},
   "outputs": [],
   "source": [
    "# Setting up the device for GPU usage\n",
    "\n",
    "from torch import cuda\n",
    "device = 'cuda' if cuda.is_available() else 'cpu'"
   ]
  },
  {
   "cell_type": "code",
   "execution_count": 3,
   "metadata": {},
   "outputs": [
    {
     "name": "stdout",
     "output_type": "stream",
     "text": [
      "Total memory: 50962169856\n",
      "Free memory: 39758266368\n",
      "Used memory: 11203903488\n"
     ]
    }
   ],
   "source": [
    "import nvidia_smi\n",
    "nvidia_smi.nvmlInit()\n",
    "\n",
    "handle = nvidia_smi.nvmlDeviceGetHandleByIndex(0)\n",
    "# card id 0 hardcoded here, there is also a call to get all available card ids, so we could iterate\n",
    "\n",
    "info = nvidia_smi.nvmlDeviceGetMemoryInfo(handle)\n",
    "\n",
    "print(\"Total memory:\", info.total)\n",
    "print(\"Free memory:\", info.free)\n",
    "print(\"Used memory:\", info.used)\n",
    "\n",
    "nvidia_smi.nvmlShutdown()"
   ]
  },
  {
   "cell_type": "code",
   "execution_count": 4,
   "metadata": {},
   "outputs": [
    {
     "name": "stdout",
     "output_type": "stream",
     "text": [
      "Get memory info (38582812672, 50962169856)\n",
      "Get number of devices available:  3\n",
      "Memory stats about which device is free: \n",
      "Device 0: b'Quadro RTX 8000', Memory : (75.71% free): 50962169856(total), 38582812672 (free), 12379357184 (used)\n",
      "Device 1: b'Quadro RTX 8000', Memory : (99.99% free): 50962169856(total), 50958106624 (free), 4063232 (used)\n",
      "Device 2: b'Quadro RTX 8000', Memory : (5.26% free): 50962169856(total), 2678521856 (free), 48283648000 (used)\n",
      "Current Device:   0\n"
     ]
    }
   ],
   "source": [
    "print(\"Get memory info\", torch.cuda.mem_get_info(device=None)) \n",
    "print(\"Get number of devices available: \", torch.cuda.device_count())\n",
    "\n",
    "print(\"Memory stats about which device is free: \")\n",
    "\n",
    "nvidia_smi.nvmlInit()\n",
    "\n",
    "deviceCount = nvidia_smi.nvmlDeviceGetCount()\n",
    "for i in range(deviceCount):\n",
    "    handle = nvidia_smi.nvmlDeviceGetHandleByIndex(i)\n",
    "    info = nvidia_smi.nvmlDeviceGetMemoryInfo(handle)\n",
    "    print(\"Device {}: {}, Memory : ({:.2f}% free): {}(total), {} (free), {} (used)\".format(i, nvidia_smi.nvmlDeviceGetName(handle), 100*info.free/info.total, info.total, info.free, info.used))\n",
    "\n",
    "nvidia_smi.nvmlShutdown()\n",
    "\n",
    "print(\"Current Device:  \", torch.cuda.current_device()) \n"
   ]
  },
  {
   "cell_type": "code",
   "execution_count": 5,
   "metadata": {},
   "outputs": [],
   "source": [
    "torch.cuda.set_device(2)\n",
    "torch.cuda.empty_cache() "
   ]
  },
  {
   "cell_type": "code",
   "execution_count": 6,
   "metadata": {},
   "outputs": [],
   "source": [
    "\n",
    "MAX_LEN = 256\n",
    "TRAIN_BATCH_SIZE = 8\n",
    "VALID_BATCH_SIZE = 4\n",
    "LEARNING_RATE = 1e-05\n",
    "tokenizer = RobertaTokenizer.from_pretrained('roberta-base', truncation=True, do_lower_case=True)"
   ]
  },
  {
   "cell_type": "code",
   "execution_count": 7,
   "metadata": {},
   "outputs": [],
   "source": [
    "class LogicalFallacy(Dataset):\n",
    "    def __init__(self, dataset, tokenizer, max_len, attribute):\n",
    "        self.tokenizer = tokenizer\n",
    "        self.data = dataset\n",
    "        self.text = dataset[attribute]\n",
    "        #self.targets = dataset.label\n",
    "        self.max_len = max_len\n",
    "        #self.original_label = dataset.updated_label\n",
    "\n",
    "    def __len__(self):\n",
    "        return len(self.text)\n",
    "\n",
    "    def __getitem__(self, index):\n",
    "        text = str(self.text[index])\n",
    "        text = \" \".join(text.split())\n",
    "\n",
    "        inputs = self.tokenizer.encode_plus(\n",
    "            text,\n",
    "            None,\n",
    "            add_special_tokens=True,\n",
    "            max_length=self.max_len,\n",
    "            pad_to_max_length=True,\n",
    "            return_token_type_ids=True\n",
    "        )\n",
    "        ids = inputs['input_ids']\n",
    "        mask = inputs['attention_mask']\n",
    "        token_type_ids = inputs[\"token_type_ids\"]\n",
    "        \n",
    "\n",
    "        return {\n",
    "            'sentence': text,\n",
    "            \n",
    "            'ids': torch.tensor(ids, dtype=torch.long),\n",
    "            'mask': torch.tensor(mask, dtype=torch.long),\n",
    "            'token_type_ids': torch.tensor(token_type_ids, dtype=torch.long),\n",
    "            #'targets': torch.tensor(self.targets[index], dtype=torch.float)\n",
    "        }"
   ]
  },
  {
   "cell_type": "code",
   "execution_count": 8,
   "metadata": {},
   "outputs": [],
   "source": [
    "class RobertaClass(torch.nn.Module):\n",
    "    def __init__(self):\n",
    "        super(RobertaClass, self).__init__()\n",
    "        self.l1 = RobertaModel.from_pretrained(\"roberta-base\")\n",
    "        self.pre_classifier = torch.nn.Linear(768, 768)\n",
    "        self.dropout = torch.nn.Dropout(0.3)\n",
    "        self.classifier = torch.nn.Linear(768, 2)\n",
    "\n",
    "    def forward(self, input_ids, attention_mask, token_type_ids):\n",
    "        output_1 = self.l1(input_ids=input_ids, attention_mask=attention_mask, token_type_ids=token_type_ids)\n",
    "        hidden_state = output_1[0]\n",
    "        pooler = hidden_state[:, 0]\n",
    "        pooler = self.pre_classifier(pooler)\n",
    "        pooler = torch.nn.ReLU()(pooler)\n",
    "        pooler = self.dropout(pooler)\n",
    "        output = self.classifier(pooler)\n",
    "        softmax = torch.nn.functional.softmax(output)\n",
    "        return softmax\n",
    "    \n",
    "\n"
   ]
  },
  {
   "cell_type": "code",
   "execution_count": 9,
   "metadata": {},
   "outputs": [
    {
     "data": {
      "text/plain": [
       "'\\n            if epoch == epochs-1:\\n                \\n                for i in range(len(targets)):\\n                    test_answers[targets[i].item()][max_indices[i].item()].append([\\n                                                                        sentence[i], \\n                                                                        targets[i].item(), \\n                                                                        max_indices[i].item()\\n                                                                        ])\\n        return test_answers\\n\\n'"
      ]
     },
     "execution_count": 9,
     "metadata": {},
     "output_type": "execute_result"
    }
   ],
   "source": [
    "def predict(loader, label, epochs=1):\n",
    "    model = torch.load('../models/v3/articles/'+label+'_trained_roberta.pt')\n",
    "    model.eval()\n",
    "    loss_function = torch.nn.CrossEntropyLoss()\n",
    "    test_answers = [[[],[]], [[],[]]]\n",
    "    val = [] \n",
    "    for epoch in range(epochs):\n",
    "        \n",
    "        for steps, data in tqdm(enumerate(loader, 0)):\n",
    "            sentence = data['sentence']\n",
    "            ids = data['ids'].to(device, dtype = torch.long)\n",
    "            mask = data['mask'].to(device, dtype = torch.long)\n",
    "            token_type_ids = data['token_type_ids'].to(device, dtype = torch.long)\n",
    "            #targets = data['targets'].to(device, dtype = torch.long)\n",
    "        \n",
    "            outputs = model.forward(ids, mask, token_type_ids)\n",
    "            #print(outputs)\n",
    "            #print(torch.max(outputs.data, dim=1))\n",
    "            \n",
    "            values, max_indices = torch.max(outputs.data, dim=1)\n",
    "            #val.append(outputs)\n",
    "            for v in values.tolist():\n",
    "                val.append(v)\n",
    "    return val\n",
    "'''\n",
    "            if epoch == epochs-1:\n",
    "                \n",
    "                for i in range(len(targets)):\n",
    "                    test_answers[targets[i].item()][max_indices[i].item()].append([\n",
    "                                                                        sentence[i], \n",
    "                                                                        targets[i].item(), \n",
    "                                                                        max_indices[i].item()\n",
    "                                                                        ])\n",
    "        return test_answers\n",
    "\n",
    "'''                                            \n",
    "\n",
    "       \n"
   ]
  },
  {
   "cell_type": "code",
   "execution_count": 10,
   "metadata": {},
   "outputs": [],
   "source": [
    "def driver_code(label):\n",
    "   \n",
    "    test_df = pd.read_csv('../data/IBM data/IBM_arg_30k_test.csv') \n",
    "    #test_df = test_df[:50]\n",
    "    test_set = LogicalFallacy(test_df, tokenizer, MAX_LEN, 'argument')\n",
    "\n",
    "    \n",
    "    \n",
    "\n",
    "    test_params = {'batch_size': 1 ,\n",
    "                'shuffle': True,\n",
    "                'num_workers': 0\n",
    "                }\n",
    "    \n",
    "    test_loader = DataLoader(test_set, **test_params)\n",
    "\n",
    "    \n",
    "    value = predict(test_loader, label)\n",
    "    return value\n",
    "\n"
   ]
  },
  {
   "cell_type": "code",
   "execution_count": 11,
   "metadata": {},
   "outputs": [
    {
     "name": "stdout",
     "output_type": "stream",
     "text": [
      "['false causality', 'ad populum', 'circular reasoning', 'fallacy of relevance', 'faulty generalization', 'ad hominem', 'fallacy of extension', 'equivocation', 'fallacy of logic', 'fallacy of credibility', 'intentional', 'false dilemma', 'miscellaneous']\n"
     ]
    }
   ],
   "source": [
    "train = pd.read_csv('../data/train_data/v1/edu_train.csv')\n",
    "unique_labels = train.updated_label.unique().tolist()\n",
    "unique_labels.remove('appeal to emotion')\n",
    "print(unique_labels)"
   ]
  },
  {
   "cell_type": "code",
   "execution_count": 12,
   "metadata": {},
   "outputs": [
    {
     "name": "stderr",
     "output_type": "stream",
     "text": [
      "0it [00:00, ?it/s]Truncation was not explicitly activated but `max_length` is provided a specific value, please use `truncation=True` to explicitly truncate examples to max length. Defaulting to 'longest_first' truncation strategy. If you encode pairs of sequences (GLUE-style) with the tokenizer you can select this strategy more precisely by providing a specific strategy to `truncation`.\n",
      "/nas/home/vprasann/anaconda3/envs/neuros/lib/python3.8/site-packages/transformers/tokenization_utils_base.py:2263: FutureWarning: The `pad_to_max_length` argument is deprecated and will be removed in a future version, use `padding=True` or `padding='longest'` to pad to the longest sequence in the batch, or use `padding='max_length'` to pad to a max length. In this case, you can give a specific length with `max_length` (e.g. `max_length=45`) or leave max_length to None to pad to the maximal input size of the model (e.g. 512 for Bert).\n",
      "  warnings.warn(\n",
      "/tmp/ipykernel_137250/2446238955.py:17: UserWarning: Implicit dimension choice for softmax has been deprecated. Change the call to include dim=X as an argument.\n",
      "  softmax = torch.nn.functional.softmax(output)\n",
      "6315it [01:28, 71.52it/s]\n",
      "0it [00:00, ?it/s]/nas/home/vprasann/anaconda3/envs/neuros/lib/python3.8/site-packages/transformers/tokenization_utils_base.py:2263: FutureWarning: The `pad_to_max_length` argument is deprecated and will be removed in a future version, use `padding=True` or `padding='longest'` to pad to the longest sequence in the batch, or use `padding='max_length'` to pad to a max length. In this case, you can give a specific length with `max_length` (e.g. `max_length=45`) or leave max_length to None to pad to the maximal input size of the model (e.g. 512 for Bert).\n",
      "  warnings.warn(\n",
      "/tmp/ipykernel_137250/2446238955.py:17: UserWarning: Implicit dimension choice for softmax has been deprecated. Change the call to include dim=X as an argument.\n",
      "  softmax = torch.nn.functional.softmax(output)\n",
      "6315it [01:25, 73.98it/s]\n",
      "0it [00:00, ?it/s]/nas/home/vprasann/anaconda3/envs/neuros/lib/python3.8/site-packages/transformers/tokenization_utils_base.py:2263: FutureWarning: The `pad_to_max_length` argument is deprecated and will be removed in a future version, use `padding=True` or `padding='longest'` to pad to the longest sequence in the batch, or use `padding='max_length'` to pad to a max length. In this case, you can give a specific length with `max_length` (e.g. `max_length=45`) or leave max_length to None to pad to the maximal input size of the model (e.g. 512 for Bert).\n",
      "  warnings.warn(\n",
      "/tmp/ipykernel_137250/2446238955.py:17: UserWarning: Implicit dimension choice for softmax has been deprecated. Change the call to include dim=X as an argument.\n",
      "  softmax = torch.nn.functional.softmax(output)\n",
      "6315it [01:30, 70.12it/s]\n",
      "0it [00:00, ?it/s]/nas/home/vprasann/anaconda3/envs/neuros/lib/python3.8/site-packages/transformers/tokenization_utils_base.py:2263: FutureWarning: The `pad_to_max_length` argument is deprecated and will be removed in a future version, use `padding=True` or `padding='longest'` to pad to the longest sequence in the batch, or use `padding='max_length'` to pad to a max length. In this case, you can give a specific length with `max_length` (e.g. `max_length=45`) or leave max_length to None to pad to the maximal input size of the model (e.g. 512 for Bert).\n",
      "  warnings.warn(\n",
      "/tmp/ipykernel_137250/2446238955.py:17: UserWarning: Implicit dimension choice for softmax has been deprecated. Change the call to include dim=X as an argument.\n",
      "  softmax = torch.nn.functional.softmax(output)\n",
      "6315it [01:23, 75.27it/s]\n",
      "0it [00:00, ?it/s]/nas/home/vprasann/anaconda3/envs/neuros/lib/python3.8/site-packages/transformers/tokenization_utils_base.py:2263: FutureWarning: The `pad_to_max_length` argument is deprecated and will be removed in a future version, use `padding=True` or `padding='longest'` to pad to the longest sequence in the batch, or use `padding='max_length'` to pad to a max length. In this case, you can give a specific length with `max_length` (e.g. `max_length=45`) or leave max_length to None to pad to the maximal input size of the model (e.g. 512 for Bert).\n",
      "  warnings.warn(\n",
      "/tmp/ipykernel_137250/2446238955.py:17: UserWarning: Implicit dimension choice for softmax has been deprecated. Change the call to include dim=X as an argument.\n",
      "  softmax = torch.nn.functional.softmax(output)\n",
      "6315it [01:23, 75.42it/s]\n",
      "0it [00:00, ?it/s]/nas/home/vprasann/anaconda3/envs/neuros/lib/python3.8/site-packages/transformers/tokenization_utils_base.py:2263: FutureWarning: The `pad_to_max_length` argument is deprecated and will be removed in a future version, use `padding=True` or `padding='longest'` to pad to the longest sequence in the batch, or use `padding='max_length'` to pad to a max length. In this case, you can give a specific length with `max_length` (e.g. `max_length=45`) or leave max_length to None to pad to the maximal input size of the model (e.g. 512 for Bert).\n",
      "  warnings.warn(\n",
      "/tmp/ipykernel_137250/2446238955.py:17: UserWarning: Implicit dimension choice for softmax has been deprecated. Change the call to include dim=X as an argument.\n",
      "  softmax = torch.nn.functional.softmax(output)\n",
      "6315it [01:31, 68.67it/s]\n",
      "0it [00:00, ?it/s]/nas/home/vprasann/anaconda3/envs/neuros/lib/python3.8/site-packages/transformers/tokenization_utils_base.py:2263: FutureWarning: The `pad_to_max_length` argument is deprecated and will be removed in a future version, use `padding=True` or `padding='longest'` to pad to the longest sequence in the batch, or use `padding='max_length'` to pad to a max length. In this case, you can give a specific length with `max_length` (e.g. `max_length=45`) or leave max_length to None to pad to the maximal input size of the model (e.g. 512 for Bert).\n",
      "  warnings.warn(\n",
      "/tmp/ipykernel_137250/2446238955.py:17: UserWarning: Implicit dimension choice for softmax has been deprecated. Change the call to include dim=X as an argument.\n",
      "  softmax = torch.nn.functional.softmax(output)\n",
      "6315it [01:23, 75.89it/s]\n",
      "0it [00:00, ?it/s]/nas/home/vprasann/anaconda3/envs/neuros/lib/python3.8/site-packages/transformers/tokenization_utils_base.py:2263: FutureWarning: The `pad_to_max_length` argument is deprecated and will be removed in a future version, use `padding=True` or `padding='longest'` to pad to the longest sequence in the batch, or use `padding='max_length'` to pad to a max length. In this case, you can give a specific length with `max_length` (e.g. `max_length=45`) or leave max_length to None to pad to the maximal input size of the model (e.g. 512 for Bert).\n",
      "  warnings.warn(\n",
      "/tmp/ipykernel_137250/2446238955.py:17: UserWarning: Implicit dimension choice for softmax has been deprecated. Change the call to include dim=X as an argument.\n",
      "  softmax = torch.nn.functional.softmax(output)\n",
      "6315it [01:25, 73.77it/s]\n",
      "0it [00:00, ?it/s]/nas/home/vprasann/anaconda3/envs/neuros/lib/python3.8/site-packages/transformers/tokenization_utils_base.py:2263: FutureWarning: The `pad_to_max_length` argument is deprecated and will be removed in a future version, use `padding=True` or `padding='longest'` to pad to the longest sequence in the batch, or use `padding='max_length'` to pad to a max length. In this case, you can give a specific length with `max_length` (e.g. `max_length=45`) or leave max_length to None to pad to the maximal input size of the model (e.g. 512 for Bert).\n",
      "  warnings.warn(\n",
      "/tmp/ipykernel_137250/2446238955.py:17: UserWarning: Implicit dimension choice for softmax has been deprecated. Change the call to include dim=X as an argument.\n",
      "  softmax = torch.nn.functional.softmax(output)\n",
      "6315it [01:33, 67.28it/s]\n",
      "0it [00:00, ?it/s]/nas/home/vprasann/anaconda3/envs/neuros/lib/python3.8/site-packages/transformers/tokenization_utils_base.py:2263: FutureWarning: The `pad_to_max_length` argument is deprecated and will be removed in a future version, use `padding=True` or `padding='longest'` to pad to the longest sequence in the batch, or use `padding='max_length'` to pad to a max length. In this case, you can give a specific length with `max_length` (e.g. `max_length=45`) or leave max_length to None to pad to the maximal input size of the model (e.g. 512 for Bert).\n",
      "  warnings.warn(\n",
      "/tmp/ipykernel_137250/2446238955.py:17: UserWarning: Implicit dimension choice for softmax has been deprecated. Change the call to include dim=X as an argument.\n",
      "  softmax = torch.nn.functional.softmax(output)\n",
      "6315it [01:31, 69.13it/s]\n",
      "0it [00:00, ?it/s]/nas/home/vprasann/anaconda3/envs/neuros/lib/python3.8/site-packages/transformers/tokenization_utils_base.py:2263: FutureWarning: The `pad_to_max_length` argument is deprecated and will be removed in a future version, use `padding=True` or `padding='longest'` to pad to the longest sequence in the batch, or use `padding='max_length'` to pad to a max length. In this case, you can give a specific length with `max_length` (e.g. `max_length=45`) or leave max_length to None to pad to the maximal input size of the model (e.g. 512 for Bert).\n",
      "  warnings.warn(\n",
      "/tmp/ipykernel_137250/2446238955.py:17: UserWarning: Implicit dimension choice for softmax has been deprecated. Change the call to include dim=X as an argument.\n",
      "  softmax = torch.nn.functional.softmax(output)\n",
      "6315it [01:29, 70.66it/s]\n",
      "0it [00:00, ?it/s]/nas/home/vprasann/anaconda3/envs/neuros/lib/python3.8/site-packages/transformers/tokenization_utils_base.py:2263: FutureWarning: The `pad_to_max_length` argument is deprecated and will be removed in a future version, use `padding=True` or `padding='longest'` to pad to the longest sequence in the batch, or use `padding='max_length'` to pad to a max length. In this case, you can give a specific length with `max_length` (e.g. `max_length=45`) or leave max_length to None to pad to the maximal input size of the model (e.g. 512 for Bert).\n",
      "  warnings.warn(\n",
      "/tmp/ipykernel_137250/2446238955.py:17: UserWarning: Implicit dimension choice for softmax has been deprecated. Change the call to include dim=X as an argument.\n",
      "  softmax = torch.nn.functional.softmax(output)\n",
      "6315it [01:34, 66.72it/s]\n"
     ]
    },
    {
     "ename": "FileNotFoundError",
     "evalue": "[Errno 2] No such file or directory: '../models/v3/articles/miscellaneous_trained_roberta.pt'",
     "output_type": "error",
     "traceback": [
      "\u001b[0;31m---------------------------------------------------------------------------\u001b[0m",
      "\u001b[0;31mFileNotFoundError\u001b[0m                         Traceback (most recent call last)",
      "\u001b[1;32m/data/vishnu/neurosymbolic-argumentation/notebooks/insights on IBM Argument Quality Ranking.ipynb Cell 13'\u001b[0m in \u001b[0;36m<cell line: 3>\u001b[0;34m()\u001b[0m\n\u001b[1;32m      <a href='vscode-notebook-cell://ssh-remote%2Bckg08.isi.edu/data/vishnu/neurosymbolic-argumentation/notebooks/insights%20on%20IBM%20Argument%20Quality%20Ranking.ipynb#ch0000012vscode-remote?line=1'>2</a>\u001b[0m dictionary \u001b[39m=\u001b[39m { } \n\u001b[1;32m      <a href='vscode-notebook-cell://ssh-remote%2Bckg08.isi.edu/data/vishnu/neurosymbolic-argumentation/notebooks/insights%20on%20IBM%20Argument%20Quality%20Ranking.ipynb#ch0000012vscode-remote?line=2'>3</a>\u001b[0m \u001b[39mfor\u001b[39;00m label \u001b[39min\u001b[39;00m unique_labels:\n\u001b[0;32m----> <a href='vscode-notebook-cell://ssh-remote%2Bckg08.isi.edu/data/vishnu/neurosymbolic-argumentation/notebooks/insights%20on%20IBM%20Argument%20Quality%20Ranking.ipynb#ch0000012vscode-remote?line=3'>4</a>\u001b[0m     dictionary[label] \u001b[39m=\u001b[39m driver_code(label)\n",
      "\u001b[1;32m/data/vishnu/neurosymbolic-argumentation/notebooks/insights on IBM Argument Quality Ranking.ipynb Cell 11'\u001b[0m in \u001b[0;36mdriver_code\u001b[0;34m(label)\u001b[0m\n\u001b[1;32m     <a href='vscode-notebook-cell://ssh-remote%2Bckg08.isi.edu/data/vishnu/neurosymbolic-argumentation/notebooks/insights%20on%20IBM%20Argument%20Quality%20Ranking.ipynb#ch0000010vscode-remote?line=9'>10</a>\u001b[0m test_params \u001b[39m=\u001b[39m {\u001b[39m'\u001b[39m\u001b[39mbatch_size\u001b[39m\u001b[39m'\u001b[39m: \u001b[39m1\u001b[39m ,\n\u001b[1;32m     <a href='vscode-notebook-cell://ssh-remote%2Bckg08.isi.edu/data/vishnu/neurosymbolic-argumentation/notebooks/insights%20on%20IBM%20Argument%20Quality%20Ranking.ipynb#ch0000010vscode-remote?line=10'>11</a>\u001b[0m             \u001b[39m'\u001b[39m\u001b[39mshuffle\u001b[39m\u001b[39m'\u001b[39m: \u001b[39mTrue\u001b[39;00m,\n\u001b[1;32m     <a href='vscode-notebook-cell://ssh-remote%2Bckg08.isi.edu/data/vishnu/neurosymbolic-argumentation/notebooks/insights%20on%20IBM%20Argument%20Quality%20Ranking.ipynb#ch0000010vscode-remote?line=11'>12</a>\u001b[0m             \u001b[39m'\u001b[39m\u001b[39mnum_workers\u001b[39m\u001b[39m'\u001b[39m: \u001b[39m0\u001b[39m\n\u001b[1;32m     <a href='vscode-notebook-cell://ssh-remote%2Bckg08.isi.edu/data/vishnu/neurosymbolic-argumentation/notebooks/insights%20on%20IBM%20Argument%20Quality%20Ranking.ipynb#ch0000010vscode-remote?line=12'>13</a>\u001b[0m             }\n\u001b[1;32m     <a href='vscode-notebook-cell://ssh-remote%2Bckg08.isi.edu/data/vishnu/neurosymbolic-argumentation/notebooks/insights%20on%20IBM%20Argument%20Quality%20Ranking.ipynb#ch0000010vscode-remote?line=14'>15</a>\u001b[0m test_loader \u001b[39m=\u001b[39m DataLoader(test_set, \u001b[39m*\u001b[39m\u001b[39m*\u001b[39mtest_params)\n\u001b[0;32m---> <a href='vscode-notebook-cell://ssh-remote%2Bckg08.isi.edu/data/vishnu/neurosymbolic-argumentation/notebooks/insights%20on%20IBM%20Argument%20Quality%20Ranking.ipynb#ch0000010vscode-remote?line=17'>18</a>\u001b[0m value \u001b[39m=\u001b[39m predict(test_loader, label)\n\u001b[1;32m     <a href='vscode-notebook-cell://ssh-remote%2Bckg08.isi.edu/data/vishnu/neurosymbolic-argumentation/notebooks/insights%20on%20IBM%20Argument%20Quality%20Ranking.ipynb#ch0000010vscode-remote?line=18'>19</a>\u001b[0m \u001b[39mreturn\u001b[39;00m value\n",
      "\u001b[1;32m/data/vishnu/neurosymbolic-argumentation/notebooks/insights on IBM Argument Quality Ranking.ipynb Cell 10'\u001b[0m in \u001b[0;36mpredict\u001b[0;34m(loader, label, epochs)\u001b[0m\n\u001b[1;32m      <a href='vscode-notebook-cell://ssh-remote%2Bckg08.isi.edu/data/vishnu/neurosymbolic-argumentation/notebooks/insights%20on%20IBM%20Argument%20Quality%20Ranking.ipynb#ch0000009vscode-remote?line=0'>1</a>\u001b[0m \u001b[39mdef\u001b[39;00m \u001b[39mpredict\u001b[39m(loader, label, epochs\u001b[39m=\u001b[39m\u001b[39m1\u001b[39m):\n\u001b[0;32m----> <a href='vscode-notebook-cell://ssh-remote%2Bckg08.isi.edu/data/vishnu/neurosymbolic-argumentation/notebooks/insights%20on%20IBM%20Argument%20Quality%20Ranking.ipynb#ch0000009vscode-remote?line=1'>2</a>\u001b[0m     model \u001b[39m=\u001b[39m torch\u001b[39m.\u001b[39;49mload(\u001b[39m'\u001b[39;49m\u001b[39m../models/v3/articles/\u001b[39;49m\u001b[39m'\u001b[39;49m\u001b[39m+\u001b[39;49mlabel\u001b[39m+\u001b[39;49m\u001b[39m'\u001b[39;49m\u001b[39m_trained_roberta.pt\u001b[39;49m\u001b[39m'\u001b[39;49m)\n\u001b[1;32m      <a href='vscode-notebook-cell://ssh-remote%2Bckg08.isi.edu/data/vishnu/neurosymbolic-argumentation/notebooks/insights%20on%20IBM%20Argument%20Quality%20Ranking.ipynb#ch0000009vscode-remote?line=2'>3</a>\u001b[0m     model\u001b[39m.\u001b[39meval()\n\u001b[1;32m      <a href='vscode-notebook-cell://ssh-remote%2Bckg08.isi.edu/data/vishnu/neurosymbolic-argumentation/notebooks/insights%20on%20IBM%20Argument%20Quality%20Ranking.ipynb#ch0000009vscode-remote?line=3'>4</a>\u001b[0m     loss_function \u001b[39m=\u001b[39m torch\u001b[39m.\u001b[39mnn\u001b[39m.\u001b[39mCrossEntropyLoss()\n",
      "File \u001b[0;32m~/anaconda3/envs/neuros/lib/python3.8/site-packages/torch/serialization.py:594\u001b[0m, in \u001b[0;36mload\u001b[0;34m(f, map_location, pickle_module, **pickle_load_args)\u001b[0m\n\u001b[1;32m    591\u001b[0m \u001b[39mif\u001b[39;00m \u001b[39m'\u001b[39m\u001b[39mencoding\u001b[39m\u001b[39m'\u001b[39m \u001b[39mnot\u001b[39;00m \u001b[39min\u001b[39;00m pickle_load_args\u001b[39m.\u001b[39mkeys():\n\u001b[1;32m    592\u001b[0m     pickle_load_args[\u001b[39m'\u001b[39m\u001b[39mencoding\u001b[39m\u001b[39m'\u001b[39m] \u001b[39m=\u001b[39m \u001b[39m'\u001b[39m\u001b[39mutf-8\u001b[39m\u001b[39m'\u001b[39m\n\u001b[0;32m--> 594\u001b[0m \u001b[39mwith\u001b[39;00m _open_file_like(f, \u001b[39m'\u001b[39;49m\u001b[39mrb\u001b[39;49m\u001b[39m'\u001b[39;49m) \u001b[39mas\u001b[39;00m opened_file:\n\u001b[1;32m    595\u001b[0m     \u001b[39mif\u001b[39;00m _is_zipfile(opened_file):\n\u001b[1;32m    596\u001b[0m         \u001b[39m# The zipfile reader is going to advance the current file position.\u001b[39;00m\n\u001b[1;32m    597\u001b[0m         \u001b[39m# If we want to actually tail call to torch.jit.load, we need to\u001b[39;00m\n\u001b[1;32m    598\u001b[0m         \u001b[39m# reset back to the original position.\u001b[39;00m\n\u001b[1;32m    599\u001b[0m         orig_position \u001b[39m=\u001b[39m opened_file\u001b[39m.\u001b[39mtell()\n",
      "File \u001b[0;32m~/anaconda3/envs/neuros/lib/python3.8/site-packages/torch/serialization.py:230\u001b[0m, in \u001b[0;36m_open_file_like\u001b[0;34m(name_or_buffer, mode)\u001b[0m\n\u001b[1;32m    228\u001b[0m \u001b[39mdef\u001b[39;00m \u001b[39m_open_file_like\u001b[39m(name_or_buffer, mode):\n\u001b[1;32m    229\u001b[0m     \u001b[39mif\u001b[39;00m _is_path(name_or_buffer):\n\u001b[0;32m--> 230\u001b[0m         \u001b[39mreturn\u001b[39;00m _open_file(name_or_buffer, mode)\n\u001b[1;32m    231\u001b[0m     \u001b[39melse\u001b[39;00m:\n\u001b[1;32m    232\u001b[0m         \u001b[39mif\u001b[39;00m \u001b[39m'\u001b[39m\u001b[39mw\u001b[39m\u001b[39m'\u001b[39m \u001b[39min\u001b[39;00m mode:\n",
      "File \u001b[0;32m~/anaconda3/envs/neuros/lib/python3.8/site-packages/torch/serialization.py:211\u001b[0m, in \u001b[0;36m_open_file.__init__\u001b[0;34m(self, name, mode)\u001b[0m\n\u001b[1;32m    210\u001b[0m \u001b[39mdef\u001b[39;00m \u001b[39m__init__\u001b[39m(\u001b[39mself\u001b[39m, name, mode):\n\u001b[0;32m--> 211\u001b[0m     \u001b[39msuper\u001b[39m(_open_file, \u001b[39mself\u001b[39m)\u001b[39m.\u001b[39m\u001b[39m__init__\u001b[39m(\u001b[39mopen\u001b[39;49m(name, mode))\n",
      "\u001b[0;31mFileNotFoundError\u001b[0m: [Errno 2] No such file or directory: '../models/v3/articles/miscellaneous_trained_roberta.pt'"
     ]
    }
   ],
   "source": [
    "test_df = pd.read_csv('../data/IBM data/IBM_arg_30k_test.csv') \n",
    "dictionary = { } \n",
    "for label in unique_labels:\n",
    "    dictionary[label] = driver_code(label)\n",
    "\n"
   ]
  },
  {
   "cell_type": "markdown",
   "metadata": {},
   "source": [
    "Rounding the prediction values"
   ]
  },
  {
   "cell_type": "code",
   "execution_count": 13,
   "metadata": {},
   "outputs": [],
   "source": [
    "for key in dictionary.keys():\n",
    "    val = dictionary[key] \n",
    "    new_val = [round(elt, 3) for elt in val] \n",
    "    dictionary[key] = new_val "
   ]
  },
  {
   "cell_type": "markdown",
   "metadata": {},
   "source": [
    "Choosing the maximum prediction value for the sentences among the 12 classes"
   ]
  },
  {
   "cell_type": "code",
   "execution_count": 14,
   "metadata": {},
   "outputs": [],
   "source": [
    "prediction_value, predicted_class, predictions_every_class = [], [] , {}\n",
    "\n",
    "for key in dictionary.keys():\n",
    "    predictions_every_class[key] = []\n",
    "\n",
    "length_of_dataset = len(dictionary['circular reasoning'])\n",
    "for i in range(length_of_dataset):\n",
    "    max_val, label_chosen = -1000, ''\n",
    "\n",
    "    for key in dictionary.keys():\n",
    "        predictions_every_class[key].append(dictionary[key][i]) \n",
    "        if dictionary[key][i] > max_val:\n",
    "            max_val = dictionary[key][i] \n",
    "            label_chosen = key \n",
    "    prediction_value.append(max_val)\n",
    "    predicted_class.append(label_chosen)\n"
   ]
  },
  {
   "cell_type": "markdown",
   "metadata": {},
   "source": [
    "<b>Creating a new dataframe based on the values </b>\n",
    "<p>\n",
    "    <ul>\n",
    "        <li>Arguments</li>\n",
    "        <li>WA</li>\n",
    "        <li>Maximum prediction score</li>\n",
    "        <li>Class predicted</li> \n",
    "        <li>Quality</li>\n",
    "    </ul>\n",
    "</p>"
   ]
  },
  {
   "cell_type": "code",
   "execution_count": 15,
   "metadata": {},
   "outputs": [
    {
     "data": {
      "text/html": [
       "<div>\n",
       "<style scoped>\n",
       "    .dataframe tbody tr th:only-of-type {\n",
       "        vertical-align: middle;\n",
       "    }\n",
       "\n",
       "    .dataframe tbody tr th {\n",
       "        vertical-align: top;\n",
       "    }\n",
       "\n",
       "    .dataframe thead th {\n",
       "        text-align: right;\n",
       "    }\n",
       "</style>\n",
       "<table border=\"1\" class=\"dataframe\">\n",
       "  <thead>\n",
       "    <tr style=\"text-align: right;\">\n",
       "      <th></th>\n",
       "      <th>argument</th>\n",
       "      <th>WA</th>\n",
       "      <th>max_pred_score</th>\n",
       "      <th>class_predicted</th>\n",
       "    </tr>\n",
       "  </thead>\n",
       "  <tbody>\n",
       "    <tr>\n",
       "      <th>0</th>\n",
       "      <td>6 million people died so to deny the holocaust...</td>\n",
       "      <td>0.738337</td>\n",
       "      <td>0.959</td>\n",
       "      <td>false causality</td>\n",
       "    </tr>\n",
       "    <tr>\n",
       "      <th>1</th>\n",
       "      <td>a ban would only bring problems in gender equa...</td>\n",
       "      <td>0.721728</td>\n",
       "      <td>0.959</td>\n",
       "      <td>false causality</td>\n",
       "    </tr>\n",
       "    <tr>\n",
       "      <th>2</th>\n",
       "      <td>A centralized system of criminal defense would...</td>\n",
       "      <td>0.828674</td>\n",
       "      <td>0.965</td>\n",
       "      <td>faulty generalization</td>\n",
       "    </tr>\n",
       "    <tr>\n",
       "      <th>3</th>\n",
       "      <td>a constantly growing population requires large...</td>\n",
       "      <td>0.732927</td>\n",
       "      <td>0.984</td>\n",
       "      <td>ad hominem</td>\n",
       "    </tr>\n",
       "    <tr>\n",
       "      <th>4</th>\n",
       "      <td>a country would fall apart under libertarianis...</td>\n",
       "      <td>0.790850</td>\n",
       "      <td>0.988</td>\n",
       "      <td>ad hominem</td>\n",
       "    </tr>\n",
       "  </tbody>\n",
       "</table>\n",
       "</div>"
      ],
      "text/plain": [
       "                                            argument        WA  \\\n",
       "0  6 million people died so to deny the holocaust...  0.738337   \n",
       "1  a ban would only bring problems in gender equa...  0.721728   \n",
       "2  A centralized system of criminal defense would...  0.828674   \n",
       "3  a constantly growing population requires large...  0.732927   \n",
       "4  a country would fall apart under libertarianis...  0.790850   \n",
       "\n",
       "   max_pred_score        class_predicted  \n",
       "0           0.959        false causality  \n",
       "1           0.959        false causality  \n",
       "2           0.965  faulty generalization  \n",
       "3           0.984             ad hominem  \n",
       "4           0.988             ad hominem  "
      ]
     },
     "execution_count": 15,
     "metadata": {},
     "output_type": "execute_result"
    }
   ],
   "source": [
    "dataset = test_df[['argument', 'WA']].copy()\n",
    "dataset['max_pred_score'] = prediction_value\n",
    "dataset['class_predicted'] = predicted_class\n",
    "dataset.head(5)"
   ]
  },
  {
   "cell_type": "markdown",
   "metadata": {},
   "source": [
    "Calculating quality = 1 - max_prediction_score"
   ]
  },
  {
   "cell_type": "code",
   "execution_count": 16,
   "metadata": {},
   "outputs": [
    {
     "data": {
      "text/html": [
       "<div>\n",
       "<style scoped>\n",
       "    .dataframe tbody tr th:only-of-type {\n",
       "        vertical-align: middle;\n",
       "    }\n",
       "\n",
       "    .dataframe tbody tr th {\n",
       "        vertical-align: top;\n",
       "    }\n",
       "\n",
       "    .dataframe thead th {\n",
       "        text-align: right;\n",
       "    }\n",
       "</style>\n",
       "<table border=\"1\" class=\"dataframe\">\n",
       "  <thead>\n",
       "    <tr style=\"text-align: right;\">\n",
       "      <th></th>\n",
       "      <th>argument</th>\n",
       "      <th>WA</th>\n",
       "      <th>max_pred_score</th>\n",
       "      <th>class_predicted</th>\n",
       "      <th>quality</th>\n",
       "    </tr>\n",
       "  </thead>\n",
       "  <tbody>\n",
       "    <tr>\n",
       "      <th>0</th>\n",
       "      <td>6 million people died so to deny the holocaust...</td>\n",
       "      <td>0.738337</td>\n",
       "      <td>0.959</td>\n",
       "      <td>false causality</td>\n",
       "      <td>0.041</td>\n",
       "    </tr>\n",
       "    <tr>\n",
       "      <th>1</th>\n",
       "      <td>a ban would only bring problems in gender equa...</td>\n",
       "      <td>0.721728</td>\n",
       "      <td>0.959</td>\n",
       "      <td>false causality</td>\n",
       "      <td>0.041</td>\n",
       "    </tr>\n",
       "    <tr>\n",
       "      <th>2</th>\n",
       "      <td>A centralized system of criminal defense would...</td>\n",
       "      <td>0.828674</td>\n",
       "      <td>0.965</td>\n",
       "      <td>faulty generalization</td>\n",
       "      <td>0.035</td>\n",
       "    </tr>\n",
       "    <tr>\n",
       "      <th>3</th>\n",
       "      <td>a constantly growing population requires large...</td>\n",
       "      <td>0.732927</td>\n",
       "      <td>0.984</td>\n",
       "      <td>ad hominem</td>\n",
       "      <td>0.016</td>\n",
       "    </tr>\n",
       "    <tr>\n",
       "      <th>4</th>\n",
       "      <td>a country would fall apart under libertarianis...</td>\n",
       "      <td>0.790850</td>\n",
       "      <td>0.988</td>\n",
       "      <td>ad hominem</td>\n",
       "      <td>0.012</td>\n",
       "    </tr>\n",
       "  </tbody>\n",
       "</table>\n",
       "</div>"
      ],
      "text/plain": [
       "                                            argument        WA  \\\n",
       "0  6 million people died so to deny the holocaust...  0.738337   \n",
       "1  a ban would only bring problems in gender equa...  0.721728   \n",
       "2  A centralized system of criminal defense would...  0.828674   \n",
       "3  a constantly growing population requires large...  0.732927   \n",
       "4  a country would fall apart under libertarianis...  0.790850   \n",
       "\n",
       "   max_pred_score        class_predicted  quality  \n",
       "0           0.959        false causality    0.041  \n",
       "1           0.959        false causality    0.041  \n",
       "2           0.965  faulty generalization    0.035  \n",
       "3           0.984             ad hominem    0.016  \n",
       "4           0.988             ad hominem    0.012  "
      ]
     },
     "execution_count": 16,
     "metadata": {},
     "output_type": "execute_result"
    }
   ],
   "source": [
    "dataset['quality'] = 1 - dataset['max_pred_score'] \n",
    "dataset.head(5)"
   ]
  },
  {
   "cell_type": "code",
   "execution_count": 18,
   "metadata": {},
   "outputs": [],
   "source": [
    "import pandas as pd\n",
    "dataset.to_csv('../data/IBM data/IBM_30k_test_insights.csv',index=False)\n",
    "dataset = pd.read_csv('../data/IBM data/IBM_30k_test_insights.csv')"
   ]
  },
  {
   "cell_type": "markdown",
   "metadata": {},
   "source": [
    "Comparing Weighted Accuracy and Quality factor calculated"
   ]
  },
  {
   "cell_type": "code",
   "execution_count": 19,
   "metadata": {},
   "outputs": [
    {
     "data": {
      "image/png": "[encoded data removed]",
      "text/plain": [
       "<Figure size 432x288 with 1 Axes>"
      ]
     },
     "metadata": {
      "needs_background": "light"
     },
     "output_type": "display_data"
    }
   ],
   "source": [
    "import matplotlib.pyplot as  plt\n",
    "\n",
    "fig=plt.figure()\n",
    "ax=fig.add_axes([0,0,1,1])\n",
    "ax.scatter(dataset['WA'], dataset['quality'], color='r')\n",
    "\n",
    "ax.set_xlabel('Weighted Average')\n",
    "ax.set_ylabel('Quality')\n",
    "ax.set_title('Weighted Average Vs Quality')\n",
    "plt.show()"
   ]
  },
  {
   "cell_type": "markdown",
   "metadata": {},
   "source": [
    "Correlation matrix between WA and Quality"
   ]
  },
  {
   "cell_type": "code",
   "execution_count": 21,
   "metadata": {},
   "outputs": [
    {
     "data": {
      "image/png": "[encoded data removed]",
      "text/plain": [
       "<Figure size 432x288 with 2 Axes>"
      ]
     },
     "metadata": {
      "needs_background": "light"
     },
     "output_type": "display_data"
    }
   ],
   "source": [
    "import seaborn as sn \n",
    "df = dataset[['WA', 'quality']].copy()\n",
    "corrMatrix = df.corr()\n",
    "sn.heatmap(corrMatrix,annot=True)\n",
    "plt.show()"
   ]
  },
  {
   "cell_type": "markdown",
   "metadata": {},
   "source": [
    "Calculating the frequency of classes in class prediction"
   ]
  },
  {
   "cell_type": "code",
   "execution_count": 48,
   "metadata": {},
   "outputs": [
    {
     "name": "stdout",
     "output_type": "stream",
     "text": [
      "{'ad hominem': 4389, 'faulty generalization': 881, 'ad populum': 613, 'false causality': 177, 'circular reasoning': 159, 'fallacy of extension': 49, 'false dilemma': 43, 'intentional': 3, 'fallacy of credibility': 1}\n"
     ]
    },
    {
     "data": {
      "image/png": "[encoded data removed]",
      "text/plain": [
       "<Figure size 432x288 with 1 Axes>"
      ]
     },
     "metadata": {},
     "output_type": "display_data"
    }
   ],
   "source": [
    "counts = dataset['class_predicted'].value_counts().to_list()\n",
    "print(dataset['class_predicted'].value_counts().to_dict())\n",
    "plt.figure()\n",
    "classes = list(dataset['class_predicted'].unique()) \n",
    "plt.pie(counts, labels = classes, startangle = 90)\n",
    "\n",
    "plt.show() "
   ]
  },
  {
   "cell_type": "code",
   "execution_count": 27,
   "metadata": {},
   "outputs": [],
   "source": [
    "train_df = pd.read_csv('../data/train_data/v1/edu_train.csv') \n",
    "\n",
    "classes = train_df['updated_label'].unique()\n",
    "absent_class =[]\n",
    "for category in classes: \n",
    "    if category not in dataset['class_predicted'].unique():\n",
    "        absent_class.append(category) \n",
    "\n",
    "absent_class"
   ]
  },
  {
   "cell_type": "code",
   "execution_count": 36,
   "metadata": {},
   "outputs": [],
   "source": [
    "absent_class_predictions = {}\n",
    "for category in absent_class:\n",
    "    \n",
    "    absent_class_predictions[category] = predictions_every_class[category]\n"
   ]
  },
  {
   "cell_type": "code",
   "execution_count": 43,
   "metadata": {},
   "outputs": [],
   "source": [
    "\n",
    "\n",
    "for absent_category in absent_class:\n",
    "    absent_class_predictions['difference_'+absent_category] = dataset['max_pred_score'] - absent_class_predictions[absent_category]\n",
    "\n"
   ]
  },
  {
   "cell_type": "code",
   "execution_count": 46,
   "metadata": {},
   "outputs": [
    {
     "data": {
      "text/plain": [
       "{'fallacy of relevance': 0.3069225653206651,\n",
       " 'equivocation': 0.47437814726840855,\n",
       " 'fallacy of logic': 0.3146799683293745}"
      ]
     },
     "execution_count": 46,
     "metadata": {},
     "output_type": "execute_result"
    }
   ],
   "source": [
    "from statistics import mean\n",
    "\n",
    "class_difference_average = {}\n",
    "for absent_category in absent_class:\n",
    "    class_difference_average[absent_category]=  mean(absent_class_predictions['difference_'+absent_category])\n",
    "\n",
    "class_difference_average\n",
    "\n",
    "\n"
   ]
  },
  {
   "cell_type": "code",
   "execution_count": null,
   "metadata": {},
   "outputs": [],
   "source": []
  }
 ],
 "metadata": {
  "interpreter": {
   "hash": "4455a7d9a5fde2bdf2f7faf52cc6c3c081bc73476d60241f2f03234fa3a9b34e"
  },
  "kernelspec": {
   "display_name": "Python 3.8.5 ('neuros')",
   "language": "python",
   "name": "python3"
  },
  "language_info": {
   "codemirror_mode": {
    "name": "ipython",
    "version": 3
   },
   "file_extension": ".py",
   "mimetype": "text/x-python",
   "name": "python",
   "nbconvert_exporter": "python",
   "pygments_lexer": "ipython3",
   "version": "3.8.5"
  },
  "orig_nbformat": 4
 },
 "nbformat": 4,
 "nbformat_minor": 2
}
