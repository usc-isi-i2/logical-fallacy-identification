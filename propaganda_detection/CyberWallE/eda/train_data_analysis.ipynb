{
 "cells": [
  {
   "cell_type": "markdown",
   "metadata": {},
   "source": [
    "Provide a general overview of the training data.\n",
    "The analysis concentrates on:\n",
    "- frequences of classes;\n",
    "- average span length of classes;\n",
    "- a more detailed analysis of the instances of the \"Repetition\" class."
   ]
  },
  {
   "cell_type": "code",
   "execution_count": 1,
   "metadata": {},
   "outputs": [],
   "source": [
    "import pandas as pd\n",
    "import numpy as np\n",
    "import os"
   ]
  },
  {
   "cell_type": "code",
   "execution_count": 2,
   "metadata": {},
   "outputs": [],
   "source": [
    "import seaborn as sns\n",
    "import matplotlib.pyplot as plt\n",
    "sns.set(style=\"ticks\", color_codes=True)"
   ]
  },
  {
   "cell_type": "markdown",
   "metadata": {},
   "source": [
    "#### 1. Reading data from the file"
   ]
  },
  {
   "cell_type": "code",
   "execution_count": 29,
   "metadata": {},
   "outputs": [],
   "source": [
    "TC_LABELS_FILE = \"../data/train-task2-TC-with-spans.txt\""
   ]
  },
  {
   "cell_type": "code",
   "execution_count": 30,
   "metadata": {},
   "outputs": [],
   "source": [
    "TRAIN_DATA_FOLDER = \"../datasets/train-articles/\""
   ]
  },
  {
   "cell_type": "code",
   "execution_count": 31,
   "metadata": {},
   "outputs": [],
   "source": [
    "column_names = {\"document_id\": np.int32, \n",
    "                \"label\": np.str, \n",
    "                \"idx_from\": np.int32, \n",
    "                \"idx_to\": np.int32,\n",
    "                \"span\":np.str}"
   ]
  },
  {
   "cell_type": "code",
   "execution_count": 32,
   "metadata": {
    "scrolled": true
   },
   "outputs": [],
   "source": [
    "df = pd.read_csv(TC_LABELS_FILE, sep=\"\\t\", names=column_names.keys())"
   ]
  },
  {
   "cell_type": "markdown",
   "metadata": {},
   "source": [
    "#### 2. Adding a new feature to the original table"
   ]
  },
  {
   "cell_type": "code",
   "execution_count": 33,
   "metadata": {},
   "outputs": [],
   "source": [
    "df['span_length'] = df[\"span\"].apply(lambda x : len(str(x).split()))"
   ]
  },
  {
   "cell_type": "markdown",
   "metadata": {},
   "source": [
    "#### 3. Grouping instances by labels."
   ]
  },
  {
   "cell_type": "code",
   "execution_count": 34,
   "metadata": {},
   "outputs": [],
   "source": [
    "df_stat = df.groupby(['label']).span_length.describe().sort_values(\"count\", ascending=False)"
   ]
  },
  {
   "cell_type": "markdown",
   "metadata": {},
   "source": [
    "Adding a new feature."
   ]
  },
  {
   "cell_type": "code",
   "execution_count": 35,
   "metadata": {},
   "outputs": [],
   "source": [
    "df_stat[\"count_normalized\"] = df_stat[\"count\"]/df_stat[\"count\"].sum()"
   ]
  },
  {
   "cell_type": "code",
   "execution_count": 36,
   "metadata": {},
   "outputs": [
    {
     "data": {
      "text/html": [
       "<div>\n",
       "<style scoped>\n",
       "    .dataframe tbody tr th:only-of-type {\n",
       "        vertical-align: middle;\n",
       "    }\n",
       "\n",
       "    .dataframe tbody tr th {\n",
       "        vertical-align: top;\n",
       "    }\n",
       "\n",
       "    .dataframe thead th {\n",
       "        text-align: right;\n",
       "    }\n",
       "</style>\n",
       "<table border=\"1\" class=\"dataframe\">\n",
       "  <thead>\n",
       "    <tr style=\"text-align: right;\">\n",
       "      <th></th>\n",
       "      <th>count</th>\n",
       "      <th>mean</th>\n",
       "      <th>std</th>\n",
       "      <th>min</th>\n",
       "      <th>25%</th>\n",
       "      <th>50%</th>\n",
       "      <th>75%</th>\n",
       "      <th>max</th>\n",
       "      <th>count_normalized</th>\n",
       "    </tr>\n",
       "    <tr>\n",
       "      <th>label</th>\n",
       "      <th></th>\n",
       "      <th></th>\n",
       "      <th></th>\n",
       "      <th></th>\n",
       "      <th></th>\n",
       "      <th></th>\n",
       "      <th></th>\n",
       "      <th></th>\n",
       "      <th></th>\n",
       "    </tr>\n",
       "  </thead>\n",
       "  <tbody>\n",
       "    <tr>\n",
       "      <th>Loaded_Language</th>\n",
       "      <td>2120.0</td>\n",
       "      <td>3.821698</td>\n",
       "      <td>4.496163</td>\n",
       "      <td>1.0</td>\n",
       "      <td>2.00</td>\n",
       "      <td>3.0</td>\n",
       "      <td>5.00</td>\n",
       "      <td>90.0</td>\n",
       "      <td>0.347256</td>\n",
       "    </tr>\n",
       "    <tr>\n",
       "      <th>Name_Calling,Labeling</th>\n",
       "      <td>1057.0</td>\n",
       "      <td>3.935667</td>\n",
       "      <td>3.314572</td>\n",
       "      <td>1.0</td>\n",
       "      <td>2.00</td>\n",
       "      <td>3.0</td>\n",
       "      <td>5.00</td>\n",
       "      <td>28.0</td>\n",
       "      <td>0.173137</td>\n",
       "    </tr>\n",
       "    <tr>\n",
       "      <th>Repetition</th>\n",
       "      <td>617.0</td>\n",
       "      <td>2.802269</td>\n",
       "      <td>3.461260</td>\n",
       "      <td>1.0</td>\n",
       "      <td>1.00</td>\n",
       "      <td>2.0</td>\n",
       "      <td>3.00</td>\n",
       "      <td>31.0</td>\n",
       "      <td>0.101065</td>\n",
       "    </tr>\n",
       "    <tr>\n",
       "      <th>Doubt</th>\n",
       "      <td>492.0</td>\n",
       "      <td>21.164634</td>\n",
       "      <td>16.137246</td>\n",
       "      <td>1.0</td>\n",
       "      <td>9.00</td>\n",
       "      <td>17.0</td>\n",
       "      <td>29.00</td>\n",
       "      <td>141.0</td>\n",
       "      <td>0.080590</td>\n",
       "    </tr>\n",
       "    <tr>\n",
       "      <th>Exaggeration,Minimisation</th>\n",
       "      <td>465.0</td>\n",
       "      <td>7.440860</td>\n",
       "      <td>5.831067</td>\n",
       "      <td>1.0</td>\n",
       "      <td>3.00</td>\n",
       "      <td>6.0</td>\n",
       "      <td>10.00</td>\n",
       "      <td>43.0</td>\n",
       "      <td>0.076167</td>\n",
       "    </tr>\n",
       "    <tr>\n",
       "      <th>Appeal_to_fear-prejudice</th>\n",
       "      <td>292.0</td>\n",
       "      <td>18.092466</td>\n",
       "      <td>21.558081</td>\n",
       "      <td>1.0</td>\n",
       "      <td>6.00</td>\n",
       "      <td>14.0</td>\n",
       "      <td>25.00</td>\n",
       "      <td>312.0</td>\n",
       "      <td>0.047830</td>\n",
       "    </tr>\n",
       "    <tr>\n",
       "      <th>Flag-Waving</th>\n",
       "      <td>228.0</td>\n",
       "      <td>10.627193</td>\n",
       "      <td>11.655728</td>\n",
       "      <td>1.0</td>\n",
       "      <td>2.00</td>\n",
       "      <td>6.0</td>\n",
       "      <td>15.00</td>\n",
       "      <td>73.0</td>\n",
       "      <td>0.037346</td>\n",
       "    </tr>\n",
       "    <tr>\n",
       "      <th>Causal_Oversimplification</th>\n",
       "      <td>209.0</td>\n",
       "      <td>21.521531</td>\n",
       "      <td>12.616792</td>\n",
       "      <td>3.0</td>\n",
       "      <td>13.00</td>\n",
       "      <td>19.0</td>\n",
       "      <td>28.00</td>\n",
       "      <td>71.0</td>\n",
       "      <td>0.034234</td>\n",
       "    </tr>\n",
       "    <tr>\n",
       "      <th>Appeal_to_Authority</th>\n",
       "      <td>137.0</td>\n",
       "      <td>24.065693</td>\n",
       "      <td>22.038804</td>\n",
       "      <td>2.0</td>\n",
       "      <td>11.00</td>\n",
       "      <td>17.0</td>\n",
       "      <td>31.00</td>\n",
       "      <td>130.0</td>\n",
       "      <td>0.022441</td>\n",
       "    </tr>\n",
       "    <tr>\n",
       "      <th>Slogans</th>\n",
       "      <td>129.0</td>\n",
       "      <td>4.325581</td>\n",
       "      <td>2.568325</td>\n",
       "      <td>1.0</td>\n",
       "      <td>3.00</td>\n",
       "      <td>4.0</td>\n",
       "      <td>5.00</td>\n",
       "      <td>15.0</td>\n",
       "      <td>0.021130</td>\n",
       "    </tr>\n",
       "    <tr>\n",
       "      <th>Whataboutism,Straw_Men,Red_Herring</th>\n",
       "      <td>106.0</td>\n",
       "      <td>16.490566</td>\n",
       "      <td>12.270945</td>\n",
       "      <td>1.0</td>\n",
       "      <td>8.00</td>\n",
       "      <td>14.5</td>\n",
       "      <td>21.75</td>\n",
       "      <td>75.0</td>\n",
       "      <td>0.017363</td>\n",
       "    </tr>\n",
       "    <tr>\n",
       "      <th>Black-and-White_Fallacy</th>\n",
       "      <td>105.0</td>\n",
       "      <td>18.657143</td>\n",
       "      <td>13.311236</td>\n",
       "      <td>2.0</td>\n",
       "      <td>9.00</td>\n",
       "      <td>16.0</td>\n",
       "      <td>23.00</td>\n",
       "      <td>58.0</td>\n",
       "      <td>0.017199</td>\n",
       "    </tr>\n",
       "    <tr>\n",
       "      <th>Thought-terminating_Cliches</th>\n",
       "      <td>76.0</td>\n",
       "      <td>6.131579</td>\n",
       "      <td>4.024399</td>\n",
       "      <td>1.0</td>\n",
       "      <td>3.75</td>\n",
       "      <td>5.0</td>\n",
       "      <td>8.00</td>\n",
       "      <td>20.0</td>\n",
       "      <td>0.012449</td>\n",
       "    </tr>\n",
       "    <tr>\n",
       "      <th>Bandwagon,Reductio_ad_hitlerum</th>\n",
       "      <td>72.0</td>\n",
       "      <td>16.444444</td>\n",
       "      <td>12.281773</td>\n",
       "      <td>2.0</td>\n",
       "      <td>7.00</td>\n",
       "      <td>13.0</td>\n",
       "      <td>21.00</td>\n",
       "      <td>60.0</td>\n",
       "      <td>0.011794</td>\n",
       "    </tr>\n",
       "  </tbody>\n",
       "</table>\n",
       "</div>"
      ],
      "text/plain": [
       "                                     count       mean        std  min    25%  \\\n",
       "label                                                                          \n",
       "Loaded_Language                     2120.0   3.821698   4.496163  1.0   2.00   \n",
       "Name_Calling,Labeling               1057.0   3.935667   3.314572  1.0   2.00   \n",
       "Repetition                           617.0   2.802269   3.461260  1.0   1.00   \n",
       "Doubt                                492.0  21.164634  16.137246  1.0   9.00   \n",
       "Exaggeration,Minimisation            465.0   7.440860   5.831067  1.0   3.00   \n",
       "Appeal_to_fear-prejudice             292.0  18.092466  21.558081  1.0   6.00   \n",
       "Flag-Waving                          228.0  10.627193  11.655728  1.0   2.00   \n",
       "Causal_Oversimplification            209.0  21.521531  12.616792  3.0  13.00   \n",
       "Appeal_to_Authority                  137.0  24.065693  22.038804  2.0  11.00   \n",
       "Slogans                              129.0   4.325581   2.568325  1.0   3.00   \n",
       "Whataboutism,Straw_Men,Red_Herring   106.0  16.490566  12.270945  1.0   8.00   \n",
       "Black-and-White_Fallacy              105.0  18.657143  13.311236  2.0   9.00   \n",
       "Thought-terminating_Cliches           76.0   6.131579   4.024399  1.0   3.75   \n",
       "Bandwagon,Reductio_ad_hitlerum        72.0  16.444444  12.281773  2.0   7.00   \n",
       "\n",
       "                                     50%    75%    max  count_normalized  \n",
       "label                                                                     \n",
       "Loaded_Language                      3.0   5.00   90.0          0.347256  \n",
       "Name_Calling,Labeling                3.0   5.00   28.0          0.173137  \n",
       "Repetition                           2.0   3.00   31.0          0.101065  \n",
       "Doubt                               17.0  29.00  141.0          0.080590  \n",
       "Exaggeration,Minimisation            6.0  10.00   43.0          0.076167  \n",
       "Appeal_to_fear-prejudice            14.0  25.00  312.0          0.047830  \n",
       "Flag-Waving                          6.0  15.00   73.0          0.037346  \n",
       "Causal_Oversimplification           19.0  28.00   71.0          0.034234  \n",
       "Appeal_to_Authority                 17.0  31.00  130.0          0.022441  \n",
       "Slogans                              4.0   5.00   15.0          0.021130  \n",
       "Whataboutism,Straw_Men,Red_Herring  14.5  21.75   75.0          0.017363  \n",
       "Black-and-White_Fallacy             16.0  23.00   58.0          0.017199  \n",
       "Thought-terminating_Cliches          5.0   8.00   20.0          0.012449  \n",
       "Bandwagon,Reductio_ad_hitlerum      13.0  21.00   60.0          0.011794  "
      ]
     },
     "execution_count": 36,
     "metadata": {},
     "output_type": "execute_result"
    }
   ],
   "source": [
    "df_stat"
   ]
  },
  {
   "cell_type": "markdown",
   "metadata": {},
   "source": [
    "#### 4. Classes sorted by frequences (absolute and relative)."
   ]
  },
  {
   "cell_type": "code",
   "execution_count": 37,
   "metadata": {},
   "outputs": [
    {
     "data": {
      "text/plain": [
       "<matplotlib.axes._subplots.AxesSubplot at 0x7f8adb15d208>"
      ]
     },
     "execution_count": 37,
     "metadata": {},
     "output_type": "execute_result"
    },
    {
     "data": {
      "image/png": "[encoded data removed]",
      "text/plain": [
       "<Figure size 864x432 with 1 Axes>"
      ]
     },
     "metadata": {
      "needs_background": "light"
     },
     "output_type": "display_data"
    }
   ],
   "source": [
    "f, ax = plt.subplots(figsize=(12, 6))\n",
    "color_list = [\"blue\", \"blue\", \"blue\", \"blue\", \"blue\", \"blue\", \"blue\", \"blue\", \"blue\", \"blue\", \"blue\", \"orange\", \"orange\", \"orange\"]\n",
    "df_stat[\"count\"].sort_values().plot.barh(color=color_list)"
   ]
  },
  {
   "cell_type": "code",
   "execution_count": 38,
   "metadata": {},
   "outputs": [
    {
     "data": {
      "text/plain": [
       "<matplotlib.axes._subplots.AxesSubplot at 0x7f8adb0ed278>"
      ]
     },
     "execution_count": 38,
     "metadata": {},
     "output_type": "execute_result"
    },
    {
     "data": {
      "image/png": "[encoded data removed]",
      "text/plain": [
       "<Figure size 864x432 with 1 Axes>"
      ]
     },
     "metadata": {
      "needs_background": "light"
     },
     "output_type": "display_data"
    }
   ],
   "source": [
    "f, ax = plt.subplots(figsize=(12, 6))\n",
    "color_list = [\"blue\", \"blue\", \"blue\", \"blue\", \"blue\", \"blue\", \"blue\", \"blue\", \"blue\", \"blue\", \"blue\", \"orange\", \"orange\", \"orange\"]\n",
    "df_stat[\"count_normalized\"].sort_values().plot.barh(color=color_list)"
   ]
  },
  {
   "cell_type": "markdown",
   "metadata": {},
   "source": [
    "#### 5. Classes by the average span length"
   ]
  },
  {
   "cell_type": "code",
   "execution_count": 39,
   "metadata": {
    "scrolled": false
   },
   "outputs": [
    {
     "data": {
      "text/plain": [
       "<matplotlib.axes._subplots.AxesSubplot at 0x7f8adae9e1d0>"
      ]
     },
     "execution_count": 39,
     "metadata": {},
     "output_type": "execute_result"
    },
    {
     "data": {
      "image/png": "[encoded data removed]",
      "text/plain": [
       "<Figure size 864x432 with 1 Axes>"
      ]
     },
     "metadata": {
      "needs_background": "light"
     },
     "output_type": "display_data"
    }
   ],
   "source": [
    "f, ax = plt.subplots(figsize=(12, 6))\n",
    "color_list = [\"orange\", \"orange\", \"orange\", \"blue\", \"blue\", \"blue\", \"blue\", \"blue\", \"blue\", \"blue\", \"blue\", \"blue\", \"blue\", \"blue\"]\n",
    "df.groupby(\"label\").span_length.mean().sort_values().plot.barh(color=color_list)"
   ]
  },
  {
   "cell_type": "markdown",
   "metadata": {},
   "source": [
    "An interesting observation is that three most popular classes usually have the shortest span length. While those classes represent ~60% of propaganda in the training set their average span length is a bit more than 3 words."
   ]
  },
  {
   "cell_type": "code",
   "execution_count": 40,
   "metadata": {
    "scrolled": false
   },
   "outputs": [
    {
     "data": {
      "image/png": "[encoded data removed]",
      "text/plain": [
       "<Figure size 720x576 with 1 Axes>"
      ]
     },
     "metadata": {
      "needs_background": "light"
     },
     "output_type": "display_data"
    }
   ],
   "source": [
    "f, ax = plt.subplots(figsize=(10, 8))\n",
    "df_stat = df_stat.reset_index()\n",
    "\n",
    "cmap = sns.cubehelix_palette(rot=-.2, as_cmap=True)\n",
    "ax = sns.scatterplot(x=\"mean\", y=\"label\",\n",
    "                     hue=\"count\", size=\"count\",\n",
    "                     palette=cmap, sizes=(10, 300),\n",
    "                     data=df_stat)"
   ]
  },
  {
   "cell_type": "code",
   "execution_count": 41,
   "metadata": {
    "scrolled": true
   },
   "outputs": [
    {
     "data": {
      "text/plain": [
       "array(['the nation that gave the world the Magna Carta is dead\"',\n",
       "       'delighted\" with the decision', 'a striking blow against freedom',\n",
       "       ..., 'to vilify him', 'sham', 'social justice crybullying'],\n",
       "      dtype=object)"
      ]
     },
     "execution_count": 41,
     "metadata": {},
     "output_type": "execute_result"
    }
   ],
   "source": [
    "df.groupby(\"label\").get_group('Loaded_Language')[\"span\"].get_values()"
   ]
  },
  {
   "cell_type": "code",
   "execution_count": 42,
   "metadata": {},
   "outputs": [
    {
     "data": {
      "text/plain": [
       "356"
      ]
     },
     "execution_count": 42,
     "metadata": {},
     "output_type": "execute_result"
    }
   ],
   "source": [
    "df[\"document_id\"].unique().size"
   ]
  },
  {
   "cell_type": "code",
   "execution_count": 43,
   "metadata": {},
   "outputs": [
    {
     "data": {
      "text/plain": [
       "(6105, 6)"
      ]
     },
     "execution_count": 43,
     "metadata": {},
     "output_type": "execute_result"
    }
   ],
   "source": [
    "df.shape"
   ]
  },
  {
   "cell_type": "markdown",
   "metadata": {},
   "source": [
    "### Repetition analysis of train data"
   ]
  },
  {
   "cell_type": "code",
   "execution_count": 44,
   "metadata": {},
   "outputs": [],
   "source": [
    "repetition_instances = df[df[\"label\"] == \"Repetition\"]"
   ]
  },
  {
   "cell_type": "code",
   "execution_count": 46,
   "metadata": {},
   "outputs": [
    {
     "data": {
      "text/html": [
       "<div>\n",
       "<style scoped>\n",
       "    .dataframe tbody tr th:only-of-type {\n",
       "        vertical-align: middle;\n",
       "    }\n",
       "\n",
       "    .dataframe tbody tr th {\n",
       "        vertical-align: top;\n",
       "    }\n",
       "\n",
       "    .dataframe thead th {\n",
       "        text-align: right;\n",
       "    }\n",
       "</style>\n",
       "<table border=\"1\" class=\"dataframe\">\n",
       "  <thead>\n",
       "    <tr style=\"text-align: right;\">\n",
       "      <th></th>\n",
       "      <th>document_id</th>\n",
       "      <th>label</th>\n",
       "      <th>idx_from</th>\n",
       "      <th>idx_to</th>\n",
       "      <th>span</th>\n",
       "      <th>span_length</th>\n",
       "    </tr>\n",
       "  </thead>\n",
       "  <tbody>\n",
       "    <tr>\n",
       "      <th>3</th>\n",
       "      <td>111111111</td>\n",
       "      <td>Repetition</td>\n",
       "      <td>1069</td>\n",
       "      <td>1091</td>\n",
       "      <td>a very, very different</td>\n",
       "      <td>4</td>\n",
       "    </tr>\n",
       "    <tr>\n",
       "      <th>94</th>\n",
       "      <td>111111131</td>\n",
       "      <td>Repetition</td>\n",
       "      <td>4030</td>\n",
       "      <td>4038</td>\n",
       "      <td>historic</td>\n",
       "      <td>1</td>\n",
       "    </tr>\n",
       "    <tr>\n",
       "      <th>98</th>\n",
       "      <td>111111131</td>\n",
       "      <td>Repetition</td>\n",
       "      <td>4339</td>\n",
       "      <td>4352</td>\n",
       "      <td>very talented</td>\n",
       "      <td>2</td>\n",
       "    </tr>\n",
       "    <tr>\n",
       "      <th>99</th>\n",
       "      <td>111111131</td>\n",
       "      <td>Repetition</td>\n",
       "      <td>4531</td>\n",
       "      <td>4546</td>\n",
       "      <td>brutal dictator</td>\n",
       "      <td>2</td>\n",
       "    </tr>\n",
       "    <tr>\n",
       "      <th>105</th>\n",
       "      <td>111111131</td>\n",
       "      <td>Repetition</td>\n",
       "      <td>5281</td>\n",
       "      <td>5289</td>\n",
       "      <td>historic</td>\n",
       "      <td>1</td>\n",
       "    </tr>\n",
       "  </tbody>\n",
       "</table>\n",
       "</div>"
      ],
      "text/plain": [
       "     document_id       label  idx_from  idx_to                    span  \\\n",
       "3      111111111  Repetition      1069    1091  a very, very different   \n",
       "94     111111131  Repetition      4030    4038                historic   \n",
       "98     111111131  Repetition      4339    4352           very talented   \n",
       "99     111111131  Repetition      4531    4546         brutal dictator   \n",
       "105    111111131  Repetition      5281    5289                historic   \n",
       "\n",
       "     span_length  \n",
       "3              4  \n",
       "94             1  \n",
       "98             2  \n",
       "99             2  \n",
       "105            1  "
      ]
     },
     "execution_count": 46,
     "metadata": {},
     "output_type": "execute_result"
    }
   ],
   "source": [
    "repetition_instances.head()"
   ]
  },
  {
   "cell_type": "code",
   "execution_count": 79,
   "metadata": {
    "scrolled": false
   },
   "outputs": [
    {
     "data": {
      "text/plain": [
       "<seaborn.axisgrid.FacetGrid at 0x7f8adada0d30>"
      ]
     },
     "execution_count": 79,
     "metadata": {},
     "output_type": "execute_result"
    },
    {
     "data": {
      "image/png": "[encoded data removed]",
      "text/plain": [
       "<Figure size 360x360 with 1 Axes>"
      ]
     },
     "metadata": {
      "needs_background": "light"
     },
     "output_type": "display_data"
    }
   ],
   "source": [
    "sns.catplot(x=\"span_length\", kind=\"count\", palette=\"ch:.25\", data=repetition_instances)"
   ]
  },
  {
   "cell_type": "markdown",
   "metadata": {},
   "source": [
    "If we group all instances of length >= 10."
   ]
  },
  {
   "cell_type": "code",
   "execution_count": 77,
   "metadata": {},
   "outputs": [],
   "source": [
    "reps_lengs = [length if length < 10 else 10 for length in repetition_instances[\"span_length\"]]"
   ]
  },
  {
   "cell_type": "code",
   "execution_count": 78,
   "metadata": {},
   "outputs": [
    {
     "data": {
      "text/plain": [
       "<seaborn.axisgrid.FacetGrid at 0x7f8adb53c630>"
      ]
     },
     "execution_count": 78,
     "metadata": {},
     "output_type": "execute_result"
    },
    {
     "data": {
      "image/png": "[encoded data removed]",
      "text/plain": [
       "<Figure size 360x360 with 1 Axes>"
      ]
     },
     "metadata": {
      "needs_background": "light"
     },
     "output_type": "display_data"
    }
   ],
   "source": [
    "sns.catplot(x=\"lengs\", kind=\"count\", palette=\"ch:.25\", data=pd.DataFrame(data=reps_lengs, columns=[\"lengs\"]))"
   ]
  },
  {
   "cell_type": "markdown",
   "metadata": {},
   "source": [
    "Counting the number of short spans (less than 4 tokens) for the \"Repetition\" class."
   ]
  },
  {
   "cell_type": "code",
   "execution_count": 92,
   "metadata": {},
   "outputs": [],
   "source": [
    "short_reps = repetition_instances[repetition_instances[\"span_length\"] <= 3]"
   ]
  },
  {
   "cell_type": "code",
   "execution_count": 93,
   "metadata": {},
   "outputs": [],
   "source": [
    "text_short_reps = short_reps[\"span\"].tolist()"
   ]
  },
  {
   "cell_type": "code",
   "execution_count": 94,
   "metadata": {},
   "outputs": [
    {
     "data": {
      "text/plain": [
       "491"
      ]
     },
     "execution_count": 94,
     "metadata": {},
     "output_type": "execute_result"
    }
   ],
   "source": [
    "len(text_short_reps)"
   ]
  }
 ],
 "metadata": {
  "kernelspec": {
   "display_name": "Python 3",
   "language": "python",
   "name": "python3"
  },
  "language_info": {
   "codemirror_mode": {
    "name": "ipython",
    "version": 3
   },
   "file_extension": ".py",
   "mimetype": "text/x-python",
   "name": "python",
   "nbconvert_exporter": "python",
   "pygments_lexer": "ipython3",
   "version": "3.7.3"
  }
 },
 "nbformat": 4,
 "nbformat_minor": 2
}
