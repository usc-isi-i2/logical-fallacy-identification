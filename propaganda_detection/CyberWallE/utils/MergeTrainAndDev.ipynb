{
 "cells": [
  {
   "cell_type": "markdown",
   "metadata": {
    "colab_type": "text",
    "id": "vu2TzwBBbXOt"
   },
   "source": [
    "Merging the training and development data for the span identification subtask."
   ]
  },
  {
   "cell_type": "code",
   "execution_count": null,
   "metadata": {
    "colab": {},
    "colab_type": "code",
    "id": "S2xeJJ73Z7aO"
   },
   "outputs": [],
   "source": [
    "import urllib\n",
    "import pandas as pd\n",
    "import numpy as np\n",
    "from google.colab import files\n",
    "\n",
    "TRAIN_URL = 'https://raw.githubusercontent.com/cicl-iscl/CyberWallE/master/data/train-improved-sentiwordnet-arguingfullindiv-pos.tsv?token=AFDEFD4F7VOZTUSCLUDLSUC6LEXMC'\n",
    "DEV_URL = 'https://raw.githubusercontent.com/cicl-iscl/CyberWallE/master/data/dev-improved-sentiwordnet-arguingfullindiv-pos.tsv?token=AFDEFD3UUERAVPLXIMU52MS6LEXSI'\n",
    "DEV_LABELS_URL = 'https://raw.githubusercontent.com/cicl-iscl/CyberWallE/master/data/train%2Bdev-improved.tsv?token=AFDEFD2UDJVAC5JW2NOOPZK6LKNCS'"
   ]
  },
  {
   "cell_type": "code",
   "execution_count": null,
   "metadata": {
    "colab": {},
    "colab_type": "code",
    "id": "xXQHvVuUZgcO"
   },
   "outputs": [],
   "source": [
    "def get_comments(filename, url=True):\n",
    "    if url:\n",
    "        comments = []\n",
    "        with urllib.request.urlopen(filename) as f:\n",
    "            for line in f:\n",
    "                if line.startswith(b'#'):\n",
    "                    comments.append(line.decode(\"utf-8\"))\n",
    "                else:\n",
    "                    break\n",
    "        return comments\n",
    "    with open(filename, 'r', encoding='utf8') as f:\n",
    "        commentiter = takewhile(lambda s: s.startswith('#'), f)\n",
    "        comments = list(commentiter)\n",
    "    return comments"
   ]
  },
  {
   "cell_type": "code",
   "execution_count": null,
   "metadata": {
    "colab": {
     "base_uri": "https://localhost:8080/",
     "height": 326
    },
    "colab_type": "code",
    "id": "feVeu1ioZS7V",
    "outputId": "ab26f74c-0c4e-48a8-9fa3-60d687fd277e"
   },
   "outputs": [],
   "source": [
    "comments = get_comments(TRAIN_URL)\n",
    "train_df = pd.read_csv(TRAIN_URL, sep='\\t', skiprows=len(comments), quoting=3)\n",
    "train_input = train_df.groupby('sent_id')['token'].apply(list).to_frame()\n",
    "print(train_df.head())\n",
    "print(train_input.head())\n",
    "print(list(train_df.columns))\n",
    "print(train_df.shape[0])"
   ]
  },
  {
   "cell_type": "code",
   "execution_count": null,
   "metadata": {
    "colab": {
     "base_uri": "https://localhost:8080/",
     "height": 309
    },
    "colab_type": "code",
    "id": "tuwkTZRDbUkK",
    "outputId": "60e6c94d-4502-4e38-a07e-ebb0fa3523bb"
   },
   "outputs": [],
   "source": [
    "#delete 730081389\n",
    "comments = get_comments(DEV_URL)\n",
    "dev_df = pd.read_csv(DEV_URL, sep='\\t', skiprows=len(comments), quoting=3)\n",
    "dev_input = dev_df.groupby('sent_id')['token'].apply(list).to_frame()\n",
    "print(dev_df.head())\n",
    "print(dev_input.head())\n",
    "print(list(dev_df.columns))\n",
    "dev_df = dev_df[dev_df.document_id != 730081389]\n",
    "print(dev_df.head())\n",
    "print(dev_df.shape[0])"
   ]
  },
  {
   "cell_type": "code",
   "execution_count": null,
   "metadata": {
    "colab": {
     "base_uri": "https://localhost:8080/",
     "height": 119
    },
    "colab_type": "code",
    "id": "V7jgOZbK2fLI",
    "outputId": "23bb58ac-4b81-4a4d-ede3-398e010fc824"
   },
   "outputs": [],
   "source": [
    "dev_labels_df = pd.read_csv(DEV_LABELS_URL, sep='\\t', skiprows=1, quoting=3)\n",
    "print(dev_labels_df.head())"
   ]
  },
  {
   "cell_type": "code",
   "execution_count": null,
   "metadata": {
    "colab": {
     "base_uri": "https://localhost:8080/",
     "height": 190
    },
    "colab_type": "code",
    "id": "nBEcWMJf6JnK",
    "outputId": "4a63923a-46ae-4b35-9780-deedc746a381"
   },
   "outputs": [],
   "source": [
    "result_df = dev_df.merge(dev_labels_df, how='inner', left_on=['document_id', 'token_start'], right_on=['document_id', 'token_start'])\n",
    "print(result_df.head())\n",
    "print(list(result_df.columns))"
   ]
  },
  {
   "cell_type": "code",
   "execution_count": null,
   "metadata": {
    "colab": {},
    "colab_type": "code",
    "id": "NzpMK78vCeXs"
   },
   "outputs": [],
   "source": [
    "result_df = result_df.drop(columns=['sent_id_y', 'token_end_y', 'token_y'])\n",
    "result_df = result_df.rename(columns={\"sent_id_x\": \"sent_id\", \"token_end_x\": \"token_end\", \"token_x\": \"token\"})\n",
    "print(list(result_df.columns))"
   ]
  },
  {
   "cell_type": "code",
   "execution_count": null,
   "metadata": {
    "colab": {},
    "colab_type": "code",
    "id": "o55gJCqoEqVS"
   },
   "outputs": [],
   "source": [
    "result_df_1 = result_df[['document_id', 'sent_id', 'token_start', 'token_end', 'token', 'label', 'positive', 'negative', 'arglex_any', 'ADJ', 'ADP', 'ADV', 'CCONJ', 'DET', 'INTJ', 'NOUN', 'NUM', 'PART', 'PRON', 'PROPN', 'PUNCT', 'SYM', 'VERB', 'X']]\n",
    "result_df_1.head()"
   ]
  },
  {
   "cell_type": "code",
   "execution_count": null,
   "metadata": {
    "colab": {
     "base_uri": "https://localhost:8080/",
     "height": 34
    },
    "colab_type": "code",
    "id": "iQs0u3HocDx7",
    "outputId": "a13e9b93-9885-498c-e4c9-eca763dfbc5c"
   },
   "outputs": [],
   "source": [
    "frames = [train_df, result_df_1]\n",
    "train_dev_df = pd.concat(frames)\n",
    "train_dev_df.shape[0]\n",
    "file = train_dev_df.to_csv(\"train_dev_set.tsv\", sep='\\t')\n",
    "files.download(\"train_dev_set.tsv\") "
   ]
  }
 ],
 "metadata": {
  "colab": {
   "name": "MergeTrainAndDev.ipynb",
   "provenance": []
  },
  "kernelspec": {
   "display_name": "Python 3",
   "language": "python",
   "name": "python3"
  },
  "language_info": {
   "codemirror_mode": {
    "name": "ipython",
    "version": 3
   },
   "file_extension": ".py",
   "mimetype": "text/x-python",
   "name": "python",
   "nbconvert_exporter": "python",
   "pygments_lexer": "ipython3",
   "version": "3.7.2"
  }
 },
 "nbformat": 4,
 "nbformat_minor": 1
}
