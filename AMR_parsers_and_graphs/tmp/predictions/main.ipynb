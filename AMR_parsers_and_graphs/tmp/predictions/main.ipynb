{
 "cells": [
  {
   "cell_type": "code",
   "execution_count": 14,
   "metadata": {},
   "outputs": [],
   "source": [
    "import pandas as pd\n",
    "import joblib"
   ]
  },
  {
   "cell_type": "code",
   "execution_count": 15,
   "metadata": {},
   "outputs": [
    {
     "name": "stdout",
     "output_type": "stream",
     "text": [
      "----------------------------------------\n",
      "train\n",
      "(1849, 3)\n",
      "(1849, 4)\n",
      "----------------------------------------\n",
      "eval\n",
      "(300, 3)\n",
      "(300, 4)\n",
      "----------------------------------------\n",
      "test\n",
      "(300, 3)\n",
      "(300, 4)\n"
     ]
    }
   ],
   "source": [
    "all_good_cases = set()\n",
    "all_bad_cases = set()\n",
    "all_non_effective_cases = set()\n",
    "all_okay_cases = set()\n",
    "\n",
    "for split in ['train', 'eval', 'test']:\n",
    "    print(10 * '----')\n",
    "    print(split)\n",
    "    main_df = pd.read_csv(f\"basic_model/{split}.csv\")\n",
    "    print(main_df.shape)\n",
    "    main_df.head(3)\n",
    "\n",
    "    cbr_df = pd.read_csv(f\"cbr_simcse_cases/{split}.csv\")\n",
    "    print(cbr_df.shape)\n",
    "    cbr_df.head(3)\n",
    "\n",
    "    # Just a sanity check for the order of the rows\n",
    "    for i in range(main_df.shape[0]):\n",
    "        if not cbr_df['masked_articles'][i].startswith(main_df['masked_articles'][i]):\n",
    "            print(\"something's Wrong.\")\n",
    "\n",
    "    main_df.drop(columns=['masked_articles'], axis = 1, inplace = True)\n",
    "    cbr_df.drop(columns=['masked_articles', 'true_labels'], axis = 1, inplace = True)\n",
    "    cbr_df.rename({\"predictions\": \"cbr_predictions\"}, inplace=True, axis=1)\n",
    "\n",
    "    all_df = pd.concat([main_df, cbr_df], axis = 1)\n",
    "\n",
    "    bad_cases = all_df[(all_df['predictions'] == all_df['true_labels']) & (all_df['cbr_predictions'] != all_df['true_labels'])]['cbr'].tolist()\n",
    "    good_cases = all_df[(all_df['predictions'] != all_df['true_labels']) & (all_df['cbr_predictions'] == all_df['true_labels'])]['cbr'].tolist()\n",
    "    non_effective_cases = all_df[(all_df['predictions'] != all_df['true_labels']) & (all_df['cbr_predictions'] != all_df['true_labels'])]['cbr'].tolist()\n",
    "    okay_cases = all_df[(all_df['predictions'] == all_df['true_labels']) & (all_df['cbr_predictions'] == all_df['true_labels'])]['cbr'].tolist()\n",
    "\n",
    "    agg_good_cases = set()\n",
    "    for good_case in good_cases:\n",
    "        agg_good_cases.update(set(good_case.split('</sep>')))\n",
    "\n",
    "    agg_bad_cases = set()\n",
    "    for bad_case in bad_cases:\n",
    "        agg_bad_cases.update(set(bad_case.split('</sep>')))\n",
    "    \n",
    "    agg_non_effective_cases = set()\n",
    "    for non_effective_case in non_effective_cases:\n",
    "        agg_non_effective_cases.update(set(non_effective_case.split('</sep>')))\n",
    "\n",
    "    agg_okay_cases = set()\n",
    "    for okay_case in okay_cases:\n",
    "        agg_okay_cases.update(set(okay_case.split('</sep>')))\n",
    "\n",
    "\n",
    "\n",
    "    # print(len(agg_good_cases), len(agg_good_cases - agg_bad_cases))\n",
    "    # print(len(agg_bad_cases), len(agg_bad_cases - agg_good_cases))\n",
    "    \n",
    "    # agg_good_cases = agg_good_cases - agg_bad_cases\n",
    "    \n",
    "    # print(len(agg_good_cases), len(agg_good_cases - agg_bad_cases))\n",
    "    # print(len(agg_bad_cases), len(agg_bad_cases - agg_good_cases))\n",
    "    \n",
    "    if split != 'test':\n",
    "        all_good_cases.update(agg_good_cases)\n",
    "        all_bad_cases.update(agg_bad_cases)\n",
    "        all_okay_cases.update(agg_okay_cases)\n",
    "        all_non_effective_cases.update(agg_non_effective_cases)"
   ]
  },
  {
   "cell_type": "code",
   "execution_count": 16,
   "metadata": {},
   "outputs": [
    {
     "name": "stdout",
     "output_type": "stream",
     "text": [
      "all_good_cases 48\n",
      "all_bad_cases 87\n",
      "all_non_effective_cases 172\n",
      "all_okay_cases 996\n"
     ]
    }
   ],
   "source": [
    "print(\"all_good_cases\", len(all_good_cases))\n",
    "print(\"all_bad_cases\", len(all_bad_cases))\n",
    "print(\"all_non_effective_cases\", len(all_non_effective_cases))\n",
    "print(\"all_okay_cases\", len(all_okay_cases))"
   ]
  },
  {
   "cell_type": "code",
   "execution_count": 17,
   "metadata": {},
   "outputs": [
    {
     "name": "stdout",
     "output_type": "stream",
     "text": [
      "cases to included 985\n",
      "cases not to included 71\n"
     ]
    }
   ],
   "source": [
    "print('cases to included', len(set.union(all_good_cases, all_okay_cases, all_non_effective_cases) - all_bad_cases))\n",
    "print('cases not to included', len(all_bad_cases - all_non_effective_cases - all_good_cases))"
   ]
  },
  {
   "cell_type": "code",
   "execution_count": 18,
   "metadata": {},
   "outputs": [
    {
     "name": "stdout",
     "output_type": "stream",
     "text": [
      "cases to included 985\n",
      "cases not to included 71\n"
     ]
    }
   ],
   "source": [
    "all_new_good_cases = set.union(all_good_cases, all_okay_cases, all_non_effective_cases) - all_bad_cases\n",
    "all_new_bad_cases = all_bad_cases - all_non_effective_cases - all_good_cases\n",
    "print('cases to included', len(all_new_good_cases))\n",
    "print('cases not to included', len(all_new_bad_cases))"
   ]
  },
  {
   "cell_type": "code",
   "execution_count": 19,
   "metadata": {},
   "outputs": [
    {
     "data": {
      "text/plain": [
       "['../all_bad_cases.joblib']"
      ]
     },
     "execution_count": 19,
     "metadata": {},
     "output_type": "execute_result"
    }
   ],
   "source": [
    "joblib.dump(all_new_good_cases, '../all_good_cases.joblib')\n",
    "joblib.dump(all_new_bad_cases, '../all_bad_cases.joblib')"
   ]
  }
 ],
 "metadata": {
  "kernelspec": {
   "display_name": "Python 3.10.4 ('general': conda)",
   "language": "python",
   "name": "python3"
  },
  "language_info": {
   "codemirror_mode": {
    "name": "ipython",
    "version": 3
   },
   "file_extension": ".py",
   "mimetype": "text/x-python",
   "name": "python",
   "nbconvert_exporter": "python",
   "pygments_lexer": "ipython3",
   "version": "3.10.4"
  },
  "orig_nbformat": 4,
  "vscode": {
   "interpreter": {
    "hash": "67db27fda20c3469892b63d0da2b9ea8ebefbe65ab5f07c46b1a9548ed206d0f"
   }
  }
 },
 "nbformat": 4,
 "nbformat_minor": 2
}
