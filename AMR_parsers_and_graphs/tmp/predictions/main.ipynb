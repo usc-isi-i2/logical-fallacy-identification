{
 "cells": [
  {
   "cell_type": "code",
   "execution_count": 13,
   "metadata": {},
   "outputs": [],
   "source": [
    "import pandas as pd"
   ]
  },
  {
   "cell_type": "code",
   "execution_count": 14,
   "metadata": {},
   "outputs": [
    {
     "name": "stdout",
     "output_type": "stream",
     "text": [
      "(300, 3)\n"
     ]
    },
    {
     "data": {
      "text/html": [
       "<div>\n",
       "<style scoped>\n",
       "    .dataframe tbody tr th:only-of-type {\n",
       "        vertical-align: middle;\n",
       "    }\n",
       "\n",
       "    .dataframe tbody tr th {\n",
       "        vertical-align: top;\n",
       "    }\n",
       "\n",
       "    .dataframe thead th {\n",
       "        text-align: right;\n",
       "    }\n",
       "</style>\n",
       "<table border=\"1\" class=\"dataframe\">\n",
       "  <thead>\n",
       "    <tr style=\"text-align: right;\">\n",
       "      <th></th>\n",
       "      <th>predictions</th>\n",
       "      <th>true_labels</th>\n",
       "      <th>masked_articles</th>\n",
       "    </tr>\n",
       "  </thead>\n",
       "  <tbody>\n",
       "    <tr>\n",
       "      <th>0</th>\n",
       "      <td>fallacy of logic</td>\n",
       "      <td>fallacy of logic</td>\n",
       "      <td>\" Just like students are given a couple of MSK...</td>\n",
       "    </tr>\n",
       "    <tr>\n",
       "      <th>1</th>\n",
       "      <td>appeal to emotion</td>\n",
       "      <td>appeal to emotion</td>\n",
       "      <td>You do n’t have to do this . MSK0 grandmother ...</td>\n",
       "    </tr>\n",
       "    <tr>\n",
       "      <th>2</th>\n",
       "      <td>faulty generalization</td>\n",
       "      <td>faulty generalization</td>\n",
       "      <td>I know MSK0 . MSK0 are all MSK1 . Therefore , ...</td>\n",
       "    </tr>\n",
       "  </tbody>\n",
       "</table>\n",
       "</div>"
      ],
      "text/plain": [
       "             predictions            true_labels  \\\n",
       "0       fallacy of logic       fallacy of logic   \n",
       "1      appeal to emotion      appeal to emotion   \n",
       "2  faulty generalization  faulty generalization   \n",
       "\n",
       "                                     masked_articles  \n",
       "0  \" Just like students are given a couple of MSK...  \n",
       "1  You do n’t have to do this . MSK0 grandmother ...  \n",
       "2  I know MSK0 . MSK0 are all MSK1 . Therefore , ...  "
      ]
     },
     "execution_count": 14,
     "metadata": {},
     "output_type": "execute_result"
    }
   ],
   "source": [
    "main_df = pd.read_csv(\"basic_model.csv\")\n",
    "print(main_df.shape)\n",
    "main_df.head(3)"
   ]
  },
  {
   "cell_type": "code",
   "execution_count": 15,
   "metadata": {},
   "outputs": [
    {
     "name": "stdout",
     "output_type": "stream",
     "text": [
      "(300, 4)\n"
     ]
    },
    {
     "data": {
      "text/html": [
       "<div>\n",
       "<style scoped>\n",
       "    .dataframe tbody tr th:only-of-type {\n",
       "        vertical-align: middle;\n",
       "    }\n",
       "\n",
       "    .dataframe tbody tr th {\n",
       "        vertical-align: top;\n",
       "    }\n",
       "\n",
       "    .dataframe thead th {\n",
       "        text-align: right;\n",
       "    }\n",
       "</style>\n",
       "<table border=\"1\" class=\"dataframe\">\n",
       "  <thead>\n",
       "    <tr style=\"text-align: right;\">\n",
       "      <th></th>\n",
       "      <th>predictions</th>\n",
       "      <th>true_labels</th>\n",
       "      <th>cbr</th>\n",
       "      <th>masked_articles</th>\n",
       "    </tr>\n",
       "  </thead>\n",
       "  <tbody>\n",
       "    <tr>\n",
       "      <th>0</th>\n",
       "      <td>fallacy of logic</td>\n",
       "      <td>fallacy of logic</td>\n",
       "      <td>MSK0 refer to MSK1 MSK3 all the time when MSK0...</td>\n",
       "      <td>\" Just like students are given a couple of MSK...</td>\n",
       "    </tr>\n",
       "    <tr>\n",
       "      <th>1</th>\n",
       "      <td>appeal to emotion</td>\n",
       "      <td>appeal to emotion</td>\n",
       "      <td>, MSK0 relief MSK1 of MSK0 cut , or death MSK0...</td>\n",
       "      <td>You do n’t have to do this . MSK0 grandmother ...</td>\n",
       "    </tr>\n",
       "    <tr>\n",
       "      <th>2</th>\n",
       "      <td>faulty generalization</td>\n",
       "      <td>faulty generalization</td>\n",
       "      <td>The MSK0 that bit was MSK1 , therefore all MSK...</td>\n",
       "      <td>I know MSK0 . MSK0 are all MSK1 . Therefore , ...</td>\n",
       "    </tr>\n",
       "  </tbody>\n",
       "</table>\n",
       "</div>"
      ],
      "text/plain": [
       "             predictions            true_labels  \\\n",
       "0       fallacy of logic       fallacy of logic   \n",
       "1      appeal to emotion      appeal to emotion   \n",
       "2  faulty generalization  faulty generalization   \n",
       "\n",
       "                                                 cbr  \\\n",
       "0  MSK0 refer to MSK1 MSK3 all the time when MSK0...   \n",
       "1  , MSK0 relief MSK1 of MSK0 cut , or death MSK0...   \n",
       "2  The MSK0 that bit was MSK1 , therefore all MSK...   \n",
       "\n",
       "                                     masked_articles  \n",
       "0  \" Just like students are given a couple of MSK...  \n",
       "1  You do n’t have to do this . MSK0 grandmother ...  \n",
       "2  I know MSK0 . MSK0 are all MSK1 . Therefore , ...  "
      ]
     },
     "execution_count": 15,
     "metadata": {},
     "output_type": "execute_result"
    }
   ],
   "source": [
    "cbr_df = pd.read_csv(\"cbr_simcse_1_cases.csv\")\n",
    "print(cbr_df.shape)\n",
    "cbr_df.head(3)"
   ]
  },
  {
   "cell_type": "code",
   "execution_count": 16,
   "metadata": {},
   "outputs": [],
   "source": [
    "main_df.drop(columns=['masked_articles'], axis = 1, inplace = True)\n",
    "cbr_df.drop(columns=['masked_articles', 'true_labels'], axis = 1, inplace = True)\n",
    "cbr_df.rename({\"predictions\": \"cbr_predictions\"}, inplace=True, axis=1)"
   ]
  },
  {
   "cell_type": "code",
   "execution_count": 19,
   "metadata": {},
   "outputs": [],
   "source": [
    "all_df = pd.concat([main_df, cbr_df], axis = 1)"
   ]
  },
  {
   "cell_type": "code",
   "execution_count": 26,
   "metadata": {},
   "outputs": [],
   "source": [
    "bad_cases = all_df[(all_df['predictions'] == all_df['true_labels']) & (all_df['cbr_predictions'] != all_df['true_labels'])]['cbr'].tolist()"
   ]
  },
  {
   "cell_type": "code",
   "execution_count": 31,
   "metadata": {},
   "outputs": [],
   "source": [
    "good_cases = all_df[(all_df['predictions'] != all_df['true_labels']) & (all_df['cbr_predictions'] == all_df['true_labels'])]['cbr'].tolist()"
   ]
  },
  {
   "cell_type": "code",
   "execution_count": 36,
   "metadata": {},
   "outputs": [],
   "source": [
    "all_good_cases = []\n",
    "for good_case in good_cases:\n",
    "    all_good_cases.extend(good_case.split('</sep>'))\n",
    "\n",
    "all_good_cases = set(all_good_cases)\n",
    "\n",
    "all_bad_cases = []\n",
    "for bad_case in bad_cases:\n",
    "    all_bad_cases.extend(bad_case.split('</sep>'))\n",
    "\n",
    "all_bad_cases = set(all_bad_cases)"
   ]
  },
  {
   "cell_type": "code",
   "execution_count": 41,
   "metadata": {},
   "outputs": [
    {
     "data": {
      "text/plain": [
       "(15, 15)"
      ]
     },
     "execution_count": 41,
     "metadata": {},
     "output_type": "execute_result"
    }
   ],
   "source": [
    "len(all_good_cases), len(all_good_cases - all_bad_cases)"
   ]
  },
  {
   "cell_type": "code",
   "execution_count": 42,
   "metadata": {},
   "outputs": [
    {
     "data": {
      "text/plain": [
       "(19, 19)"
      ]
     },
     "execution_count": 42,
     "metadata": {},
     "output_type": "execute_result"
    }
   ],
   "source": [
    "len(all_bad_cases), len(all_bad_cases - all_good_cases)"
   ]
  },
  {
   "cell_type": "code",
   "execution_count": 44,
   "metadata": {},
   "outputs": [
    {
     "data": {
      "text/plain": [
       "['all_bad_cases.joblib']"
      ]
     },
     "execution_count": 44,
     "metadata": {},
     "output_type": "execute_result"
    }
   ],
   "source": [
    "import joblib\n",
    "\n",
    "joblib.dump(all_good_cases, 'all_good_cases.joblib')\n",
    "joblib.dump(all_bad_cases, 'all_bad_cases.joblib')"
   ]
  },
  {
   "cell_type": "code",
   "execution_count": null,
   "metadata": {},
   "outputs": [],
   "source": []
  }
 ],
 "metadata": {
  "kernelspec": {
   "display_name": "Python 3.10.4 ('general': conda)",
   "language": "python",
   "name": "python3"
  },
  "language_info": {
   "codemirror_mode": {
    "name": "ipython",
    "version": 3
   },
   "file_extension": ".py",
   "mimetype": "text/x-python",
   "name": "python",
   "nbconvert_exporter": "python",
   "pygments_lexer": "ipython3",
   "version": "3.10.4"
  },
  "orig_nbformat": 4,
  "vscode": {
   "interpreter": {
    "hash": "67db27fda20c3469892b63d0da2b9ea8ebefbe65ab5f07c46b1a9548ed206d0f"
   }
  }
 },
 "nbformat": 4,
 "nbformat_minor": 2
}
