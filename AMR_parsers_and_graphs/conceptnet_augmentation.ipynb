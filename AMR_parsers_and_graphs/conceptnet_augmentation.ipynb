{
 "cells": [
  {
   "cell_type": "code",
   "execution_count": 1,
   "metadata": {},
   "outputs": [],
   "source": [
    "import requests\n",
    "\n",
    "def make_request(query):\n",
    "    base_url = \"http://api.conceptnet.io\"\n",
    "    if not query.startswith(base_url):\n",
    "        query = f\"{base_url}{query}\"\n",
    "    return requests.get(query).json()\n",
    "\n",
    "def read_edges(obj):\n",
    "    for edge in obj['edges']:\n",
    "        if edge['start']['language'] == 'en' and edge['end']['language'] == 'en':\n",
    "            yield {\n",
    "                'edge': (edge['start']['label'], edge['rel']['label'], edge['end']['label']),\n",
    "                'example': edge['surfaceText']\n",
    "            }\n",
    "\n",
    "def get_relations_between_words(word1, word2):\n",
    "    word1 = word1.replace(' ', '_')\n",
    "    word2 = word2.replace(' ', '_')\n",
    "    query = f\"/query?node=/c/en/{word1}&other=/c/en/{word2}&language=en\"\n",
    "    obj = make_request(query=query)\n",
    "    edges = list(read_edges(obj))\n",
    "    return edges\n",
    "\n",
    "def get_edges_related_to_word(word):\n",
    "    word = word.replace(' ', '_')\n",
    "    query = f\"/query?node=/c/en/{word}&language=en\"\n",
    "    obj = make_request(query = query)\n",
    "    edges = list(read_edges(obj))\n",
    "    return edges\n"
   ]
  },
  {
   "cell_type": "code",
   "execution_count": 2,
   "metadata": {},
   "outputs": [
    {
     "data": {
      "text/plain": [
       "[{'edge': ('apple', 'RelatedTo', 'fruit'),\n",
       "  'example': '[[apple]] is related to [[fruit]]'},\n",
       " {'edge': ('apple', 'HasProperty', 'red'),\n",
       "  'example': '[[apple]] can be [[red]]'},\n",
       " {'edge': ('apple', 'RelatedTo', 'red'),\n",
       "  'example': '[[apple]] is related to [[red]]'},\n",
       " {'edge': ('apple', 'HasProperty', 'green'),\n",
       "  'example': '[[apple]] can be [[green]]'},\n",
       " {'edge': ('an apple', 'ReceivesAction', 'eaten'),\n",
       "  'example': '[[an apple]] can be [[eaten]]'},\n",
       " {'edge': ('an apple', 'AtLocation', 'apple tree'),\n",
       "  'example': 'You are likely to find [[an apple]] in [[apple tree]]'},\n",
       " {'edge': ('an apple', 'CapableOf', 'fall from a tree'),\n",
       "  'example': '[[an apple]] can [[fall from a tree]]'},\n",
       " {'edge': ('apple', 'UsedFor', 'eating'),\n",
       "  'example': '[[apple]] is for [[eating]]'},\n",
       " {'edge': ('An apple', 'HasA', 'a core'),\n",
       "  'example': '[[An apple]] has [[a core]]'},\n",
       " {'edge': ('apple', 'RelatedTo', 'red fruit'),\n",
       "  'example': '[[apple]] is related to [[red fruit]]'},\n",
       " {'edge': ('apple', 'RelatedTo', 'green'),\n",
       "  'example': '[[apple]] is related to [[green]]'},\n",
       " {'edge': ('apple', 'RelatedTo', 'core'),\n",
       "  'example': '[[apple]] is related to [[core]]'},\n",
       " {'edge': ('apple', 'RelatedTo', 'eve'),\n",
       "  'example': '[[apple]] is related to [[eve]]'},\n",
       " {'edge': ('apple', 'RelatedTo', 'tree'),\n",
       "  'example': '[[apple]] is related to [[tree]]'},\n",
       " {'edge': ('apple', 'RelatedTo', 'computer'),\n",
       "  'example': '[[apple]] is related to [[computer]]'},\n",
       " {'edge': ('apple', 'RelatedTo', 'round'),\n",
       "  'example': '[[apple]] is related to [[round]]'},\n",
       " {'edge': ('an apple', 'AtLocation', 'a grocery store'),\n",
       "  'example': 'You are likely to find [[an apple]] in [[a grocery store]]'},\n",
       " {'edge': ('apple', 'RelatedTo', 'mac'),\n",
       "  'example': '[[apple]] is related to [[mac]]'},\n",
       " {'edge': ('apple', 'RelatedTo', 'adam'),\n",
       "  'example': '[[apple]] is related to [[adam]]'},\n",
       " {'edge': ('apple', 'RelatedTo', 'pie'),\n",
       "  'example': '[[apple]] is related to [[pie]]'},\n",
       " {'edge': ('apple', 'RelatedTo', 'pear'),\n",
       "  'example': '[[apple]] is related to [[pear]]'},\n",
       " {'edge': ('apple', 'RelatedTo', 'macintosh'),\n",
       "  'example': '[[apple]] is related to [[macintosh]]'},\n",
       " {'edge': ('apple', 'RelatedTo', 'seeds'),\n",
       "  'example': '[[apple]] is related to [[seeds]]'},\n",
       " {'edge': ('apple', 'RelatedTo', 'eden'),\n",
       "  'example': '[[apple]] is related to [[eden]]'},\n",
       " {'edge': ('apple', 'RelatedTo', 'stem'),\n",
       "  'example': '[[apple]] is related to [[stem]]'},\n",
       " {'edge': ('apple', 'RelatedTo', 'trees'),\n",
       "  'example': '[[apple]] is related to [[trees]]'},\n",
       " {'edge': ('apple', 'RelatedTo', 'orange'),\n",
       "  'example': '[[apple]] is related to [[orange]]'},\n",
       " {'edge': ('apple', 'RelatedTo', 'delicious'),\n",
       "  'example': '[[apple]] is related to [[delicious]]'},\n",
       " {'edge': ('apple', 'RelatedTo', 'food'),\n",
       "  'example': '[[apple]] is related to [[food]]'},\n",
       " {'edge': ('apple', 'RelatedTo', 'adam eve'),\n",
       "  'example': '[[apple]] is related to [[adam eve]]'},\n",
       " {'edge': ('apple', 'RelatedTo', 'skin'),\n",
       "  'example': '[[apple]] is related to [[skin]]'},\n",
       " {'edge': ('An apple', 'HasA', 'seeds inside'),\n",
       "  'example': '[[An apple]] has [[seeds inside]]'},\n",
       " {'edge': ('apple core', 'DerivedFrom', 'apple'), 'example': None},\n",
       " {'edge': ('Apple', 'IsA', 'computer brand'),\n",
       "  'example': '[[Apple]] is a kind of [[computer brand]].'},\n",
       " {'edge': ('An apple', 'HasA', 'many cooking uses'),\n",
       "  'example': '[[An apple]] has [[many cooking uses]]'},\n",
       " {'edge': ('apple', 'IsA', 'edible fruit'),\n",
       "  'example': '[[apple]] is a type of [[edible fruit]]'}]"
      ]
     },
     "execution_count": 2,
     "metadata": {},
     "output_type": "execute_result"
    }
   ],
   "source": [
    "get_edges_related_to_word('apple')"
   ]
  },
  {
   "cell_type": "code",
   "execution_count": 3,
   "metadata": {},
   "outputs": [
    {
     "data": {
      "text/plain": [
       "[{'edge': ('stepfather', 'DerivedFrom', 'father'), 'example': None},\n",
       " {'edge': ('stepfather', 'IsA', 'father'), 'example': None},\n",
       " {'edge': ('stepfather', 'DerivedFrom', 'father'), 'example': None}]"
      ]
     },
     "execution_count": 3,
     "metadata": {},
     "output_type": "execute_result"
    }
   ],
   "source": [
    "get_relations_between_words('stepfather', 'father')"
   ]
  },
  {
   "cell_type": "code",
   "execution_count": 4,
   "metadata": {},
   "outputs": [
    {
     "data": {
      "text/plain": [
       "[{'edge': ('chase', 'IsA', 'bank'), 'example': None}]"
      ]
     },
     "execution_count": 4,
     "metadata": {},
     "output_type": "execute_result"
    }
   ],
   "source": [
    "get_relations_between_words('bank', 'chase')"
   ]
  },
  {
   "cell_type": "code",
   "execution_count": 5,
   "metadata": {},
   "outputs": [
    {
     "data": {
      "text/plain": [
       "[{'edge': ('bank of china', 'IsA', 'bank'), 'example': None}]"
      ]
     },
     "execution_count": 5,
     "metadata": {},
     "output_type": "execute_result"
    }
   ],
   "source": [
    "get_relations_between_words('bank', 'bank of china')"
   ]
  },
  {
   "cell_type": "code",
   "execution_count": 6,
   "metadata": {},
   "outputs": [
    {
     "data": {
      "text/plain": [
       "[{'edge': ('teller', 'RelatedTo', 'bank'), 'example': None},\n",
       " {'edge': ('bank', 'RelatedTo', 'teller'),\n",
       "  'example': '[[bank]] is related to [[teller]]'}]"
      ]
     },
     "execution_count": 6,
     "metadata": {},
     "output_type": "execute_result"
    }
   ],
   "source": [
    "get_relations_between_words('bank', 'teller')"
   ]
  },
  {
   "cell_type": "code",
   "execution_count": null,
   "metadata": {},
   "outputs": [],
   "source": []
  },
  {
   "cell_type": "code",
   "execution_count": null,
   "metadata": {},
   "outputs": [],
   "source": []
  }
 ],
 "metadata": {
  "kernelspec": {
   "display_name": "Python 3.9.13 ('cbr': conda)",
   "language": "python",
   "name": "python3"
  },
  "language_info": {
   "codemirror_mode": {
    "name": "ipython",
    "version": 3
   },
   "file_extension": ".py",
   "mimetype": "text/x-python",
   "name": "python",
   "nbconvert_exporter": "python",
   "pygments_lexer": "ipython3",
   "version": "3.9.13"
  },
  "orig_nbformat": 4,
  "vscode": {
   "interpreter": {
    "hash": "19b7487d3c787f633b3affe5a7cb9db5139af02306f3e12740afe90660337b11"
   }
  }
 },
 "nbformat": 4,
 "nbformat_minor": 2
}
