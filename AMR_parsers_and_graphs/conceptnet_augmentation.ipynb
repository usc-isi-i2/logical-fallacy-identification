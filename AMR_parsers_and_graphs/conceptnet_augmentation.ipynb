{
 "cells": [
  {
   "cell_type": "code",
   "execution_count": 55,
   "metadata": {},
   "outputs": [],
   "source": [
    "import requests\n",
    "\n",
    "def make_request(query):\n",
    "    base_url = \"http://api.conceptnet.io\"\n",
    "    if not query.startswith(base_url):\n",
    "        query = f\"{base_url}{query}\"\n",
    "    return requests.get(query).json()\n",
    "\n",
    "def read_edges(obj):\n",
    "    for edge in obj['edges']:\n",
    "        if edge['start']['language'] == 'en' and edge['end']['language'] == 'en':\n",
    "            yield {\n",
    "                'edge': (edge['start']['label'], edge['rel']['label'], edge['end']['label']),\n",
    "                'example': edge['surfaceText']\n",
    "            }\n",
    "\n",
    "def get_relations_between_words(word1, word2):\n",
    "    word1 = word1.replace(' ', '_')\n",
    "    word2 = word2.replace(' ', '_')\n",
    "    query = f\"/query?node=/c/en/{word1}&other=/c/en/{word2}&language=en\"\n",
    "    obj = make_request(query=query)\n",
    "    edges = list(read_edges(obj))\n",
    "    return edges\n",
    "\n",
    "def get_edges_related_to_word(word):\n",
    "    word = word.replace(' ', '_')\n",
    "    query = f\"/query?node=/c/en/{word}&language=en\"\n",
    "    obj = make_request(query = query)\n",
    "    edges = list(read_edges(obj))\n",
    "    return edges\n"
   ]
  },
  {
   "cell_type": "code",
   "execution_count": 56,
   "metadata": {},
   "outputs": [
    {
     "name": "stderr",
     "output_type": "stream",
     "text": [
      "/tmp/ipykernel_3913714/3493011625.py:5: DtypeWarning: Columns (8) have mixed types. Specify dtype option on import or set low_memory=False.\n",
      "  dump = pd.read_csv(\"data/kgtk_conceptnet.tsv\", sep = \"\\t\")\n",
      "                               \r"
     ]
    }
   ],
   "source": [
    "import pandas as pd\n",
    "import re\n",
    "from tqdm import tqdm\n",
    "\n",
    "dump = pd.read_csv(\"data/kgtk_conceptnet.tsv\", sep = \"\\t\")\n",
    "\n",
    "dump.drop(columns=['relation;dimension', 'source'], inplace=True, axis = 1)\n",
    "\n",
    "pattern = r\"/c/en/([^/]*)(/.*)?\"\n",
    "\n",
    "from collections import defaultdict\n",
    "\n",
    "label_dict = dict()\n",
    "rel_dict = defaultdict(set)\n",
    "\n",
    "for _, row in tqdm(dump.iterrows(), leave = False):\n",
    "    node1 = row['node1']\n",
    "    node2 = row['node2']\n",
    "\n",
    "    rel = row['relation;label']\n",
    "    sent = row['sentence']\n",
    "\n",
    "    node1_id = re.match(pattern, node1).group(1)\n",
    "    node2_id = re.match(pattern, node2).group(1)\n",
    "\n",
    "    node1_label = row['node1;label']\n",
    "    node2_label = row['node2;label']\n",
    "    \n",
    "    label_dict[node1_id] = node1_label\n",
    "    label_dict[node2_id] = node2_label\n",
    "\n",
    "    rel_dict[(node1_id, node2_id)].add((rel, sent))\n",
    "\n",
    "    "
   ]
  },
  {
   "cell_type": "code",
   "execution_count": null,
   "metadata": {},
   "outputs": [],
   "source": [
    "node1 = 'bank_of_china'\n",
    "node2 = 'bank'\n",
    "\n",
    "for rel in rel_dict[(node1, node2)]:\n",
    "    print(f\"{label_dict[node1]} {rel[0]} {label_dict[node2]}\")"
   ]
  },
  {
   "cell_type": "code",
   "execution_count": 68,
   "metadata": {},
   "outputs": [
    {
     "data": {
      "text/plain": [
       "['data/conceptNet_label.joblib']"
      ]
     },
     "execution_count": 68,
     "metadata": {},
     "output_type": "execute_result"
    }
   ],
   "source": [
    "import joblib\n",
    "\n",
    "joblib.dump(rel_dict, \"data/conceptNet_relations.joblib\")\n",
    "joblib.dump(label_dict, \"data/conceptNet_label.joblib\")"
   ]
  },
  {
   "cell_type": "code",
   "execution_count": 3,
   "metadata": {},
   "outputs": [
    {
     "data": {
      "text/plain": [
       "[{'edge': ('stepfather', 'DerivedFrom', 'father'), 'example': None},\n",
       " {'edge': ('stepfather', 'IsA', 'father'), 'example': None},\n",
       " {'edge': ('stepfather', 'DerivedFrom', 'father'), 'example': None}]"
      ]
     },
     "execution_count": 3,
     "metadata": {},
     "output_type": "execute_result"
    }
   ],
   "source": [
    "get_relations_between_words('stepfather', 'father')"
   ]
  },
  {
   "cell_type": "code",
   "execution_count": 4,
   "metadata": {},
   "outputs": [
    {
     "data": {
      "text/plain": [
       "[{'edge': ('chase', 'IsA', 'bank'), 'example': None}]"
      ]
     },
     "execution_count": 4,
     "metadata": {},
     "output_type": "execute_result"
    }
   ],
   "source": [
    "get_relations_between_words('bank', 'chase')"
   ]
  },
  {
   "cell_type": "code",
   "execution_count": 5,
   "metadata": {},
   "outputs": [
    {
     "data": {
      "text/plain": [
       "[{'edge': ('bank of china', 'IsA', 'bank'), 'example': None}]"
      ]
     },
     "execution_count": 5,
     "metadata": {},
     "output_type": "execute_result"
    }
   ],
   "source": [
    "get_relations_between_words('bank', 'bank of china')"
   ]
  },
  {
   "cell_type": "code",
   "execution_count": 6,
   "metadata": {},
   "outputs": [
    {
     "data": {
      "text/plain": [
       "[{'edge': ('teller', 'RelatedTo', 'bank'), 'example': None},\n",
       " {'edge': ('bank', 'RelatedTo', 'teller'),\n",
       "  'example': '[[bank]] is related to [[teller]]'}]"
      ]
     },
     "execution_count": 6,
     "metadata": {},
     "output_type": "execute_result"
    }
   ],
   "source": [
    "get_relations_between_words('bank', 'teller')"
   ]
  },
  {
   "cell_type": "code",
   "execution_count": null,
   "metadata": {},
   "outputs": [],
   "source": []
  },
  {
   "cell_type": "code",
   "execution_count": null,
   "metadata": {},
   "outputs": [],
   "source": []
  }
 ],
 "metadata": {
  "kernelspec": {
   "display_name": "Python 3.10.4 ('general': conda)",
   "language": "python",
   "name": "python3"
  },
  "language_info": {
   "codemirror_mode": {
    "name": "ipython",
    "version": 3
   },
   "file_extension": ".py",
   "mimetype": "text/x-python",
   "name": "python",
   "nbconvert_exporter": "python",
   "pygments_lexer": "ipython3",
   "version": "3.10.4"
  },
  "orig_nbformat": 4,
  "vscode": {
   "interpreter": {
    "hash": "67db27fda20c3469892b63d0da2b9ea8ebefbe65ab5f07c46b1a9548ed206d0f"
   }
  }
 },
 "nbformat": 4,
 "nbformat_minor": 2
}
