{
 "cells": [
  {
   "cell_type": "code",
   "execution_count": 1,
   "metadata": {},
   "outputs": [],
   "source": [
    "import joblib"
   ]
  },
  {
   "cell_type": "code",
   "execution_count": 2,
   "metadata": {},
   "outputs": [],
   "source": [
    "relations = joblib.load('results.joblib')"
   ]
  },
  {
   "cell_type": "code",
   "execution_count": 3,
   "metadata": {},
   "outputs": [],
   "source": [
    "keys = list(relations.keys())"
   ]
  },
  {
   "cell_type": "code",
   "execution_count": 4,
   "metadata": {},
   "outputs": [
    {
     "data": {
      "text/plain": [
       "['company\\'s slogan \"Expect More. Pay Less.\"',\n",
       " \"Senator Randall isn't lying when she says she cares about her constituents—she wouldn't lie to people she cares about.\",\n",
       " 'very time Joe goes swimming he is wearing his Speedos. Something about wearing that Speedo must make him want to go swimming.',\n",
       " '\"You were late tonight. You must be cheating!\"',\n",
       " 'Every time I go to sleep, the sun goes down. Therefore, my sleeping causes the sun to set.']"
      ]
     },
     "execution_count": 4,
     "metadata": {},
     "output_type": "execute_result"
    }
   ],
   "source": [
    "keys[:5]"
   ]
  },
  {
   "cell_type": "code",
   "execution_count": 5,
   "metadata": {},
   "outputs": [
    {
     "data": {
      "text/plain": [
       "[('Senator Randall isnt lying when she says she cares about her',\n",
       "  'constituents—she wouldnt lie to people she cares about',\n",
       "  {'entailment': 0.33569833636283875,\n",
       "   'neutral': 0.6549782752990723,\n",
       "   'contradiction': 0.009323440492153168})]"
      ]
     },
     "execution_count": 5,
     "metadata": {},
     "output_type": "execute_result"
    }
   ],
   "source": [
    "relations[keys[1]]"
   ]
  },
  {
   "cell_type": "code",
   "execution_count": 6,
   "metadata": {},
   "outputs": [
    {
     "data": {
      "text/plain": [
       "[('companys slogan Expect More',\n",
       "  ' Pay Less',\n",
       "  {'entailment': 0.0032266501802951097,\n",
       "   'neutral': 0.03379121050238609,\n",
       "   'contradiction': 0.9629820585250854})]"
      ]
     },
     "execution_count": 6,
     "metadata": {},
     "output_type": "execute_result"
    }
   ],
   "source": [
    "relations[keys[0]]"
   ]
  },
  {
   "cell_type": "code",
   "execution_count": 7,
   "metadata": {},
   "outputs": [
    {
     "data": {
      "text/plain": [
       "[('very time Joe goes swimming',\n",
       "  'he is wearing his Speedos',\n",
       "  {'entailment': 0.004157962743192911,\n",
       "   'neutral': 0.992122232913971,\n",
       "   'contradiction': 0.0037197486963123083}),\n",
       " ('very time Joe goes swimming',\n",
       "  'Something about wearing that',\n",
       "  {'entailment': 0.023713327944278717,\n",
       "   'neutral': 0.9467299580574036,\n",
       "   'contradiction': 0.029556674882769585}),\n",
       " ('very time Joe goes swimming',\n",
       "  'Speedo must make him want to go swimming',\n",
       "  {'entailment': 0.01221842598170042,\n",
       "   'neutral': 0.9815230369567871,\n",
       "   'contradiction': 0.006258533336222172}),\n",
       " ('he is wearing his Speedos',\n",
       "  'Something about wearing that',\n",
       "  {'entailment': 0.25769656896591187,\n",
       "   'neutral': 0.7309285998344421,\n",
       "   'contradiction': 0.0113748237490654}),\n",
       " ('he is wearing his Speedos',\n",
       "  'Speedo must make him want to go swimming',\n",
       "  {'entailment': 0.05955376848578453,\n",
       "   'neutral': 0.9320270419120789,\n",
       "   'contradiction': 0.008419143036007881}),\n",
       " ('Something about wearing that',\n",
       "  'Speedo must make him want to go swimming',\n",
       "  {'entailment': 0.011976820416748524,\n",
       "   'neutral': 0.9787687659263611,\n",
       "   'contradiction': 0.009254492819309235})]"
      ]
     },
     "execution_count": 7,
     "metadata": {},
     "output_type": "execute_result"
    }
   ],
   "source": [
    "relations[keys[2]]"
   ]
  },
  {
   "cell_type": "code",
   "execution_count": 8,
   "metadata": {},
   "outputs": [
    {
     "data": {
      "text/plain": [
       "[('You were late tonight',\n",
       "  'You must be cheating',\n",
       "  {'entailment': 0.001998591935262084,\n",
       "   'neutral': 0.986100971698761,\n",
       "   'contradiction': 0.011900507844984531})]"
      ]
     },
     "execution_count": 8,
     "metadata": {},
     "output_type": "execute_result"
    }
   ],
   "source": [
    "relations[keys[3]]"
   ]
  },
  {
   "cell_type": "code",
   "execution_count": 9,
   "metadata": {},
   "outputs": [
    {
     "data": {
      "text/plain": [
       "[('Every time I go to sleep, the sun goes down',\n",
       "  ' Therefore, my sleeping causes the sun to set',\n",
       "  {'entailment': 0.7208086252212524,\n",
       "   'neutral': 0.26938384771347046,\n",
       "   'contradiction': 0.009807503782212734})]"
      ]
     },
     "execution_count": 9,
     "metadata": {},
     "output_type": "execute_result"
    }
   ],
   "source": [
    "relations[keys[4]]"
   ]
  },
  {
   "cell_type": "code",
   "execution_count": 10,
   "metadata": {},
   "outputs": [
    {
     "data": {
      "text/plain": [
       "[('Child: This fish tastes funny',\n",
       "  'I don’t want to eat this',\n",
       "  {'entailment': 0.026070788502693176,\n",
       "   'neutral': 0.9627985954284668,\n",
       "   'contradiction': 0.011130660772323608}),\n",
       " ('Child: This fish tastes funny',\n",
       "  'Parent: There are children starving in Africa',\n",
       "  {'entailment': 0.00011622333840932697,\n",
       "   'neutral': 0.005267331842333078,\n",
       "   'contradiction': 0.9946164488792419}),\n",
       " ('Child: This fish tastes funny',\n",
       "  'Eat your dinner',\n",
       "  {'entailment': 0.024500852450728416,\n",
       "   'neutral': 0.076011061668396,\n",
       "   'contradiction': 0.899488091468811}),\n",
       " ('I don’t want to eat this',\n",
       "  'Parent: There are children starving in Africa',\n",
       "  {'entailment': 0.0005254732677713037,\n",
       "   'neutral': 0.9423651695251465,\n",
       "   'contradiction': 0.057109277695417404}),\n",
       " ('I don’t want to eat this',\n",
       "  'Eat your dinner',\n",
       "  {'entailment': 0.0078124552965164185,\n",
       "   'neutral': 0.443917840719223,\n",
       "   'contradiction': 0.5482697486877441}),\n",
       " ('Parent: There are children starving in Africa',\n",
       "  'Eat your dinner',\n",
       "  {'entailment': 0.004933200776576996,\n",
       "   'neutral': 0.017753468826413155,\n",
       "   'contradiction': 0.9773133397102356})]"
      ]
     },
     "execution_count": 10,
     "metadata": {},
     "output_type": "execute_result"
    }
   ],
   "source": [
    "relations[keys[5]]"
   ]
  },
  {
   "cell_type": "code",
   "execution_count": 11,
   "metadata": {},
   "outputs": [
    {
     "data": {
      "text/plain": [
       "[('John: I think we should hire someone to redesign our website',\n",
       "  ' Lola: Youre saying we should throw our money away on external resources instead of building up our in house design team',\n",
       "  {'entailment': 0.003502964973449707,\n",
       "   'neutral': 0.13942410051822662,\n",
       "   'contradiction': 0.8570728898048401}),\n",
       " ('John: I think we should hire someone to redesign our website',\n",
       "  'Thats going to hurt our company in the long run',\n",
       "  {'entailment': 0.001254165661521256,\n",
       "   'neutral': 0.8411839604377747,\n",
       "   'contradiction': 0.15756186842918396}),\n",
       " (' Lola: Youre saying we should throw our money away on external resources instead of building up our in house design team',\n",
       "  'Thats going to hurt our company in the long run',\n",
       "  {'entailment': 0.0007729782955721021,\n",
       "   'neutral': 0.998690664768219,\n",
       "   'contradiction': 0.0005363777163438499})]"
      ]
     },
     "execution_count": 11,
     "metadata": {},
     "output_type": "execute_result"
    }
   ],
   "source": [
    "relations[keys[6]]"
   ]
  },
  {
   "cell_type": "code",
   "execution_count": 12,
   "metadata": {},
   "outputs": [
    {
     "data": {
      "text/plain": [
       "[('Beware of appeals',\n",
       "  'made only to your feelings and not to your logic',\n",
       "  {'entailment': 0.010405454784631729,\n",
       "   'neutral': 0.9723261594772339,\n",
       "   'contradiction': 0.017268341034650803})]"
      ]
     },
     "execution_count": 12,
     "metadata": {},
     "output_type": "execute_result"
    }
   ],
   "source": [
    "relations[keys[7]]"
   ]
  },
  {
   "cell_type": "code",
   "execution_count": null,
   "metadata": {},
   "outputs": [],
   "source": []
  }
 ],
 "metadata": {
  "kernelspec": {
   "display_name": "Python 3.10.4 ('general')",
   "language": "python",
   "name": "python3"
  },
  "language_info": {
   "codemirror_mode": {
    "name": "ipython",
    "version": 3
   },
   "file_extension": ".py",
   "mimetype": "text/x-python",
   "name": "python",
   "nbconvert_exporter": "python",
   "pygments_lexer": "ipython3",
   "version": "3.10.4"
  },
  "orig_nbformat": 4,
  "vscode": {
   "interpreter": {
    "hash": "67db27fda20c3469892b63d0da2b9ea8ebefbe65ab5f07c46b1a9548ed206d0f"
   }
  }
 },
 "nbformat": 4,
 "nbformat_minor": 2
}
