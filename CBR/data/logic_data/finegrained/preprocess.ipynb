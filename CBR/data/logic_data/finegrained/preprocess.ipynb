{
 "cells": [
  {
   "cell_type": "code",
   "execution_count": 10,
   "metadata": {},
   "outputs": [],
   "source": [
    "import pandas as pd\n",
    "import re"
   ]
  },
  {
   "cell_type": "code",
   "execution_count": 16,
   "metadata": {},
   "outputs": [],
   "source": [
    "for split in [\"train\", 'dev', 'test']:\n",
    "\n",
    "    df = pd.read_csv(f\"{split}.csv\")\n",
    "\n",
    "    splitted_sentences = df['splitted'].tolist()\n",
    "\n",
    "    results = []\n",
    "\n",
    "    for splitted_sentence in splitted_sentences:\n",
    "        splits = re.split(r'\\n?\\d:', splitted_sentence)\n",
    "        splits = [split.strip() for split in splits if split.strip() != '']\n",
    "        results.append('[SEP]'.join(splits))\n",
    "\n",
    "    df['splitted'] = results\n",
    "    df.to_csv(f\"{split}.csv\", index=False)"
   ]
  },
  {
   "cell_type": "code",
   "execution_count": null,
   "metadata": {},
   "outputs": [],
   "source": []
  }
 ],
 "metadata": {
  "kernelspec": {
   "display_name": "general",
   "language": "python",
   "name": "python3"
  },
  "language_info": {
   "codemirror_mode": {
    "name": "ipython",
    "version": 3
   },
   "file_extension": ".py",
   "mimetype": "text/x-python",
   "name": "python",
   "nbconvert_exporter": "python",
   "pygments_lexer": "ipython3",
   "version": "3.10.4"
  },
  "orig_nbformat": 4,
  "vscode": {
   "interpreter": {
    "hash": "67db27fda20c3469892b63d0da2b9ea8ebefbe65ab5f07c46b1a9548ed206d0f"
   }
  }
 },
 "nbformat": 4,
 "nbformat_minor": 2
}
