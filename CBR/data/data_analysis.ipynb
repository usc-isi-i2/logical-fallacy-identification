{
 "cells": [
  {
   "cell_type": "code",
   "execution_count": 1,
   "metadata": {},
   "outputs": [
    {
     "name": "stderr",
     "output_type": "stream",
     "text": [
      "/cluster/raid/home/zhivar.sourati/anaconda3/envs/cpu/lib/python3.10/site-packages/tqdm/auto.py:22: TqdmWarning: IProgress not found. Please update jupyter and ipywidgets. See https://ipywidgets.readthedocs.io/en/stable/user_install.html\n",
      "  from .autonotebook import tqdm as notebook_tqdm\n"
     ]
    }
   ],
   "source": [
    "import pandas as pd\n",
    "import torch.nn as nn\n",
    "from torchmetrics.functional import pairwise_cosine_similarity\n",
    "from scipy.special import softmax\n",
    "import numpy as np"
   ]
  },
  {
   "cell_type": "code",
   "execution_count": 2,
   "metadata": {},
   "outputs": [
    {
     "data": {
      "text/html": [
       "<div>\n",
       "<style scoped>\n",
       "    .dataframe tbody tr th:only-of-type {\n",
       "        vertical-align: middle;\n",
       "    }\n",
       "\n",
       "    .dataframe tbody tr th {\n",
       "        vertical-align: top;\n",
       "    }\n",
       "\n",
       "    .dataframe thead th {\n",
       "        text-align: right;\n",
       "    }\n",
       "</style>\n",
       "<table border=\"1\" class=\"dataframe\">\n",
       "  <thead>\n",
       "    <tr style=\"text-align: right;\">\n",
       "      <th></th>\n",
       "      <th>source_article</th>\n",
       "      <th>updated_label</th>\n",
       "      <th>masked_articles</th>\n",
       "    </tr>\n",
       "  </thead>\n",
       "  <tbody>\n",
       "    <tr>\n",
       "      <th>0</th>\n",
       "      <td>company's slogan \"Expect More. Pay Less.\"</td>\n",
       "      <td>appeal to emotion</td>\n",
       "      <td>company 's slogan \" Expect More . Pay Less . \"</td>\n",
       "    </tr>\n",
       "    <tr>\n",
       "      <th>1</th>\n",
       "      <td>The bigger a child's shoe size, the better the...</td>\n",
       "      <td>false causality</td>\n",
       "      <td>The bigger MSK&lt;0&gt; shoe size , the better MSK&lt;0...</td>\n",
       "    </tr>\n",
       "    <tr>\n",
       "      <th>2</th>\n",
       "      <td>Since many people believe this, then it must b...</td>\n",
       "      <td>ad populum</td>\n",
       "      <td>Since many people believe this , then it must ...</td>\n",
       "    </tr>\n",
       "  </tbody>\n",
       "</table>\n",
       "</div>"
      ],
      "text/plain": [
       "                                      source_article      updated_label  \\\n",
       "0          company's slogan \"Expect More. Pay Less.\"  appeal to emotion   \n",
       "1  The bigger a child's shoe size, the better the...    false causality   \n",
       "2  Since many people believe this, then it must b...         ad populum   \n",
       "\n",
       "                                     masked_articles  \n",
       "0    company 's slogan \" Expect More . Pay Less . \"   \n",
       "1  The bigger MSK<0> shoe size , the better MSK<0...  \n",
       "2  Since many people believe this , then it must ...  "
      ]
     },
     "execution_count": 2,
     "metadata": {},
     "output_type": "execute_result"
    }
   ],
   "source": [
    "df = pd.read_csv(\"edu_train.csv\")\n",
    "df.head(3)"
   ]
  },
  {
   "cell_type": "code",
   "execution_count": 3,
   "metadata": {},
   "outputs": [
    {
     "data": {
      "text/plain": [
       "{'faulty generalization': 'an informal fallacy wherein a conclusion is drawn about all or many instances of a phenomenon on the basis of one or a few instances of that phenomenon. is an example of jumping to conclusions.',\n",
       " 'false causality': 'statement that jumps to a conclusion implying a causal relationship without supporting evidence',\n",
       " 'circular reasoning': 'when the end of an argument comes back to the beginning without having proven itself.',\n",
       " 'ad populum': 'a fallacious argument which is based on affirming that something is real or better because the majority thinks so',\n",
       " 'ad hominem': \" instead of addressing someone's argument or position, you irrelevantly attack the person or some aspect of the person who is making the argument.\",\n",
       " 'fallacy of logic': 'an error in the logical structure of an argument.',\n",
       " 'appeal to emotion': \"manipulation of the recipient's emotions in order to win an argument\",\n",
       " 'false dilemma': 'presenting only two options or sides when there are many options or sides.',\n",
       " 'equivocation': 'when a key term or phrase in an argument is used in an ambiguous way, with one meaning in one portion of the argument and then another meaning in another portion of the argument.',\n",
       " 'fallacy of extension': \"attacking an exaggerated or caricatured version of your opponent's position.\",\n",
       " 'fallacy of credibility': 'attempts to disprove an argument by attacking the character of the speaker.',\n",
       " 'intentional': 'some intentional (sometimes subconscious) action/choice to incorrectly support an argument',\n",
       " 'fallacy of red herring': 'irrelevant information is presented alongside relevant information, thus distracting the attention from that relevant information',\n",
       " 'prejudicial language': 'loaded or emotive terms are used to attach value or moral goodness to believing the proposition',\n",
       " 'slothful induction': 'an inductive argument is denied its proper conclusion',\n",
       " 'fallacy of slippery slope': 'an argument that suggests that a certain initial action could result in a chain of events with extreme results'}"
      ]
     },
     "execution_count": 3,
     "metadata": {},
     "output_type": "execute_result"
    }
   ],
   "source": [
    "def_df = pd.read_csv(\"definitions.csv\", usecols=list(range(1, 3)))\n",
    "def_dict = dict(zip(def_df['Original Name'], def_df['Description']))\n",
    "def_dict"
   ]
  },
  {
   "cell_type": "code",
   "execution_count": 4,
   "metadata": {},
   "outputs": [],
   "source": [
    "from sentence_transformers import CrossEncoder\n",
    "nli_model = CrossEncoder('cross-encoder/nli-distilroberta-base')\n",
    "def get_nli(sent_a, sent_b):\n",
    "    scores = nli_model.predict([(sent_a, sent_b)])\n",
    "    probs = softmax(scores)\n",
    "\n",
    "    #Convert scores to labels\n",
    "    label_mapping = ['contradiction', 'entailment', 'neutral']\n",
    "    labels = [label_mapping[score_max] for score_max in scores.argmax(axis=1)]\n",
    "    return labels[0], list(zip(probs[0].tolist(), label_mapping))"
   ]
  },
  {
   "cell_type": "code",
   "execution_count": 5,
   "metadata": {},
   "outputs": [
    {
     "data": {
      "text/plain": [
       "['appeal to emotion',\n",
       " 'false causality',\n",
       " 'ad populum',\n",
       " 'circular reasoning',\n",
       " 'fallacy of relevance',\n",
       " 'faulty generalization',\n",
       " 'ad hominem',\n",
       " 'fallacy of extension',\n",
       " 'equivocation',\n",
       " 'fallacy of logic',\n",
       " 'fallacy of credibility',\n",
       " 'intentional',\n",
       " 'false dilemma']"
      ]
     },
     "execution_count": 5,
     "metadata": {},
     "output_type": "execute_result"
    }
   ],
   "source": [
    "all_fallacies = df['updated_label'].unique().tolist()\n",
    "all_fallacies"
   ]
  },
  {
   "cell_type": "markdown",
   "metadata": {},
   "source": [
    "### Appeal to Emotions"
   ]
  },
  {
   "cell_type": "markdown",
   "metadata": {},
   "source": [
    "Maybe can be said that lots of the examples are not actually demonstrating anything agains usual commonsense or daily logic we are used to, it's just they're trying to provoke some sense of `empathy`. \n",
    "\n",
    "so maybe we can use a model that is good at identifying this sense. like https://huggingface.co/bdotloh/roberta-base-empathy"
   ]
  },
  {
   "cell_type": "code",
   "execution_count": 6,
   "metadata": {},
   "outputs": [
    {
     "name": "stdout",
     "output_type": "stream",
     "text": [
      "manipulation of the recipient's emotions in order to win an argument\n",
      "##############################\n",
      "\"I am not unmindful that some of you have come here out of great trials and tribulations. Some of you have come fresh from narrow jail cells. And some of you have come from areas where your quest -- quest for freedom left you battered by the storms of persecution and staggered by the winds of police brutality. You have been the veterans of creative suffering. Continue to work with the faith that unearned suffering is redemptive. Go back to Mississippi, go back to Alabama, go back to South Carolina, go back to Georgia, go back to Louisiana, go back to the slums and ghettos of our northern cities, knowing that somehow this situation can and will be changed.\"  Which appeal is the primary appeal used in this quote?\n",
      "\" I am not unmindful that MSK<0> MSK<1> have MSK<2> here out of great trials and tribulations . MSK<0> MSK<1> have MSK<2> fresh from narrow jail cells . And MSK<0> MSK<1> have MSK<2> from areas where MSK<1> MSK<3> -- MSK<3> for freedom left MSK<1> battered by the storms of persecution and staggered by the winds of police brutality . MSK<1> have been the veterans of creative MSK<4> . Continue to work with the faith that unearned MSK<4> is redemptive . Go back to MSK<6> , go back to MSK<6> , go back to South Carolina , go back to MSK<6> , go back to MSK<6> , go back to the slums and ghettos of our northern cities , knowing that somehow this situation can and will be changed . \" Which MSK<5> is the primary MSK<5> used in this quote ? \n",
      "********************\n",
      "\"I'd like to punch him in the face.\" - Donald Trump (Feb. 2016, at a campaign rally, remarks directed at a protester who was being escorted out of the rally.)\n",
      "\" I 'd like to punch him in the face . \" - Donald Trump ( Feb. 2016 , at a campaign MSK<0> , remarks directed at a protester who was being escorted out of the MSK<0> . ) \n",
      "********************\n",
      "an attempt to persuade the reader/audience based on feelings or emotions; emotional response\n",
      "an attempt to persuade the reader / audience based on feelings or MSK<0> ; MSK<0> response \n",
      "********************\n",
      "Power lines cause cancer.  I met a little boy with cancer who lived just 20 miles from a power line who looked into my eyes and said, in his weak voice, “Please do whatever you can so that other kids won’t have to go through what I am going through.”  I urge you to vote for this bill to tear down all power lines and replace them with monkeys on treadmills.\n",
      "MSK<1> cause MSK<2> . MSK<3> met a little boy with MSK<2> who lived just 20 miles from a MSK<1> who looked into MSK<3> eyes and said , in his weak voice , MSK<6> Please do whatever MSK<4> can so that other kids wo n’t have to go through what MSK<3> am going through . MSK<6> MSK<3> urge MSK<4> to vote for this bill to tear down MSK<5> and replace MSK<5> with monkeys on treadmills . \n",
      "********************\n",
      "“It’s wrong to tax corporations—think of all the money they give to charity, and think of the costs they already pay to run their businesses!”\n",
      "MSK<2> It ’s wrong to MSK<0> — MSK<1> of all the money MSK<0> give to charity , and MSK<1> of the costs MSK<0> already pay to run MSK<0> businesses ! MSK<2> \n",
      "********************\n",
      "You really should support Senator Jones and his campaign to strengthen national defense. If you do not, he will lose control of the Armed Forces Committee and likely resign from politics.\n",
      "MSK<0> really should support MSK<1> and MSK<1> campaign to strengthen national defense . If MSK<0> do not , MSK<1> will lose control of the Armed Forces Committee and likely resign from politics . \n",
      "********************\n",
      "Claiming that \"If you elect him, the Dow Jones will tumble and you will lose all of your money!\" is an example of:\n",
      "Claiming that \" If MSK<0> elect him , the Dow Jones will tumble and MSK<0> will lose all of MSK<0> money ! \" is an example of : \n",
      "********************\n",
      "If there is objective morality, then good moral behavior will be rewarded after death.  I want to be rewarded; therefore, morality must be objective.\n",
      "If there is MSK<0> MSK<1> , then good MSK<1> MSK<1> will be MSK<2> after death . I want to be MSK<2> ; therefore , MSK<1> must be MSK<0> . \n",
      "********************\n",
      "I am going into surgery tomorrow so please pray for me.  If enough people pray for me, God will protect me from harm and see to it that I have a successful surgery and speedy recovery.\n",
      "MSK<0> am going into MSK<1> tomorrow so please MSK<2> for MSK<0> . If enough people MSK<2> for MSK<0> , God will protect MSK<0> from harm and see to it that MSK<0> have a successful MSK<1> and speedy recovery . \n",
      "********************\n",
      "I should receive an 'A' in this class. After all, if I don't get an 'A' I won't get the fellowship that I want.\n",
      "MSK<0> should receive an ' A ' in this class . After all , if MSK<0> do n't get an ' A ' MSK<0> wo n't get the fellowship that MSK<0> want . \n",
      "********************\n"
     ]
    }
   ],
   "source": [
    "sub_df = df[df['updated_label'] == 'appeal to emotion'].sample(10)\n",
    "print(def_dict['appeal to emotion'])\n",
    "print('######' * 5)\n",
    "for sent, masked_sent in zip(sub_df['source_article'].tolist(), sub_df['masked_articles'].tolist()):\n",
    "    print(sent)\n",
    "    print(masked_sent)\n",
    "    print('**' * 10)"
   ]
  },
  {
   "cell_type": "code",
   "execution_count": 7,
   "metadata": {},
   "outputs": [
    {
     "name": "stderr",
     "output_type": "stream",
     "text": [
      "Some weights of the model checkpoint at bdotloh/roberta-base-empathy were not used when initializing RobertaModel: ['classifier.dense.bias', 'classifier.dense.weight', 'classifier.out_proj.weight', 'classifier.out_proj.bias']\n",
      "- This IS expected if you are initializing RobertaModel from the checkpoint of a model trained on another task or with another architecture (e.g. initializing a BertForSequenceClassification model from a BertForPreTraining model).\n",
      "- This IS NOT expected if you are initializing RobertaModel from the checkpoint of a model that you expect to be exactly identical (initializing a BertForSequenceClassification model from a BertForSequenceClassification model).\n",
      "Some weights of RobertaModel were not initialized from the model checkpoint at bdotloh/roberta-base-empathy and are newly initialized: ['roberta.pooler.dense.bias', 'roberta.pooler.dense.weight']\n",
      "You should probably TRAIN this model on a down-stream task to be able to use it for predictions and inference.\n"
     ]
    }
   ],
   "source": [
    "from transformers import RobertaTokenizer, RobertaModel\n",
    "import torch\n",
    "\n",
    "checkpoint = \"bdotloh/roberta-base-empathy\"\n",
    "\n",
    "tokenizer = RobertaTokenizer.from_pretrained(checkpoint)\n",
    "\n",
    "model = RobertaModel.from_pretrained(checkpoint)"
   ]
  },
  {
   "cell_type": "code",
   "execution_count": 8,
   "metadata": {},
   "outputs": [],
   "source": [
    "def get_embeddings_empathy(texts):\n",
    "    inputs = tokenizer(texts, return_tensors=\"pt\", truncation=True, padding=True)\n",
    "\n",
    "    outputs = model(**inputs)\n",
    "\n",
    "    return outputs.pooler_output"
   ]
  },
  {
   "cell_type": "code",
   "execution_count": 9,
   "metadata": {},
   "outputs": [],
   "source": [
    "text_a = \"Just give me a chance to prove it to you. I can’t live this life if you will leave me. My world will stop to turn around. I will not be able to eat nor drink.\"\n",
    "text_aa = \"You've got to donate to the hockey team. They are helping build schools in Uganda. Imagine all of those poor and hungry kids there.\"\n",
    "text_b = \"Every time that rooster crows, the sun comes up. The rooster must control the sun.\""
   ]
  },
  {
   "cell_type": "code",
   "execution_count": 10,
   "metadata": {},
   "outputs": [],
   "source": [
    "embeddings_a = get_embeddings_empathy(text_a)\n",
    "embeddings_aa = get_embeddings_empathy(text_aa)\n",
    "embeddings_b = get_embeddings_empathy(text_b)"
   ]
  },
  {
   "cell_type": "code",
   "execution_count": 15,
   "metadata": {},
   "outputs": [
    {
     "data": {
      "text/plain": [
       "(0.925356388092041, 0.7271671891212463)"
      ]
     },
     "execution_count": 15,
     "metadata": {},
     "output_type": "execute_result"
    }
   ],
   "source": [
    "pairwise_cosine_similarity(embeddings_a, embeddings_aa).item(), pairwise_cosine_similarity(embeddings_a, embeddings_b).item()"
   ]
  },
  {
   "cell_type": "markdown",
   "metadata": {},
   "source": [
    "### False Causality"
   ]
  },
  {
   "cell_type": "markdown",
   "metadata": {},
   "source": [
    "The most important relation that comes to my mind is the relation that different logical parts of the sentences have to each other\n",
    "\n",
    "This can be modeled with `NLI` task maybe\n",
    "\n",
    "It can be seen that the NLI models can to some degree distinguish between valid `arguments` and `relevance`"
   ]
  },
  {
   "cell_type": "code",
   "execution_count": 15,
   "metadata": {},
   "outputs": [
    {
     "name": "stdout",
     "output_type": "stream",
     "text": [
      "statement that jumps to a conclusion implying a causal relationship without supporting evidence\n",
      "##############################\n",
      "“President Kumail raised taxes, and then the rate of violent crime went up. Kumail is responsible for the rise in crime.”\n",
      "MSK<2> MSK<0> raised taxes , and then the rate of violent MSK<1> went up . MSK<0> is responsible for the rise in MSK<1> . MSK<2> \n",
      "********************\n",
      " \n",
      "The presence of police at protests cause an escalation of violence. It was the case that at the protest last night attended by uniformed police, there was an escalation of violence. Therefore, police should not be at protests.\n",
      "MSK<0> cause MSK<1> . MSK<0> was the case that at the MSK<2> last night attended by uniformed MSK<3> , there was MSK<1> . Therefore , MSK<3> should not be at MSK<2> . \n",
      "********************\n",
      "Bush was \"determined to knock down Saddam Hussein\" because of his \"nuclear  bomb potential.\"\n",
      "MSK<0> was \" determined to knock down Saddam Hussein \" because of MSK<0> \" nuclear bomb potential . \" \n",
      "********************\n",
      "Shortly after MySpace became popular, U.S. soldiers found Saddam Hussein.\n",
      "Shortly after MySpace became popular , U.S. soldiers found Saddam Hussein . \n",
      "********************\n",
      "Alley ate a slice of pizza for dinner and a few hours later she had a fever. Therefore, pizza causes fevers.\n",
      "MSK<0> ate a slice of MSK<1> for dinner and a few hours later MSK<0> had a MSK<2> . Therefore , MSK<1> causes MSK<2> . \n",
      "********************\n",
      "Global chocolate consumption is highest in Switzerland, yet people there are among the trimmest in the industrialized world. Therefore, it's reasonable to conclude that chocolate helps keep your weight down.\n",
      "Global MSK<0> consumption is highest in Switzerland , yet people there are among the trimmest in the industrialized world . Therefore , it 's reasonable to conclude that MSK<0> helps keep your weight down . \n",
      "********************\n",
      "\"It rained and then we lost the game. Every time it rains, we're going to lose.\"\n",
      "\" MSK<1> and then MSK<2> MSK<3> the game . Every time MSK<1> , MSK<2> 're going to MSK<3> . \" \n",
      "********************\n",
      "\"If a black cat crosses your path you will have bad luck.\"\n",
      "\" If a black cat crosses MSK<0> path MSK<0> will have bad luck . \" \n",
      "********************\n",
      "1. “Michael Jordan wore his UNC shorts during every game he played in the NBA and he won 6 championships.”\n",
      "1 . MSK<1> MSK<0> wore MSK<0> UNC shorts during every game MSK<0> played in the NBA and MSK<0> won 6 championships . MSK<1> \n",
      "********************\n",
      "Every person who has ever drunk water has died. Therefore, drinking water causes death.\n",
      "Every person who has ever drunk MSK<0> has MSK<1> . Therefore , drinking MSK<0> causes MSK<1> . \n",
      "********************\n"
     ]
    }
   ],
   "source": [
    "sub_df = df[df['updated_label'] == 'false causality'].sample(10)\n",
    "print(def_dict['false causality'])\n",
    "print('######' * 5)\n",
    "for sent, masked_sent in zip(sub_df['source_article'].tolist(), sub_df['masked_articles'].tolist()):\n",
    "    print(sent)\n",
    "    print(masked_sent)\n",
    "    print('**' * 10)"
   ]
  },
  {
   "cell_type": "code",
   "execution_count": 16,
   "metadata": {},
   "outputs": [
    {
     "data": {
      "text/plain": [
       "('entailment',\n",
       " [(0.11655940860509872, 'contradiction'),\n",
       "  (0.815058171749115, 'entailment'),\n",
       "  (0.0683823749423027, 'neutral')])"
      ]
     },
     "execution_count": 16,
     "metadata": {},
     "output_type": "execute_result"
    }
   ],
   "source": [
    "sample_a = [\"Every severe recession follows a Republican Presidency\", \"therefore Republicans are the cause of recessions.\"]\n",
    "get_nli(*sample_a)"
   ]
  },
  {
   "cell_type": "code",
   "execution_count": 17,
   "metadata": {},
   "outputs": [
    {
     "data": {
      "text/plain": [
       "('neutral',\n",
       " [(0.19893452525138855, 'contradiction'),\n",
       "  (0.020097237080335617, 'entailment'),\n",
       "  (0.7809682488441467, 'neutral')])"
      ]
     },
     "execution_count": 17,
     "metadata": {},
     "output_type": "execute_result"
    }
   ],
   "source": [
    "sample_b = [\"I started exercising twice a week, and I just got a babysitting job.\", \"Exercising leads to new jobs!\"]\n",
    "get_nli(*sample_b)"
   ]
  },
  {
   "cell_type": "code",
   "execution_count": 18,
   "metadata": {},
   "outputs": [
    {
     "data": {
      "text/plain": [
       "('neutral',\n",
       " [(0.02253732457756996, 'contradiction'),\n",
       "  (0.2717932164669037, 'entailment'),\n",
       "  (0.7056694626808167, 'neutral')])"
      ]
     },
     "execution_count": 18,
     "metadata": {},
     "output_type": "execute_result"
    }
   ],
   "source": [
    "sample_c = [\"MSK<2> MSK<0> raised taxes , and then the rate of violent MSK<1> went up .\", \" MSK<0> is responsible for the rise in MSK<1> . MSK<2>\"]\n",
    "get_nli(*sample_c)"
   ]
  },
  {
   "cell_type": "code",
   "execution_count": 19,
   "metadata": {},
   "outputs": [
    {
     "data": {
      "text/plain": [
       "('neutral',\n",
       " [(0.010124985128641129, 'contradiction'),\n",
       "  (0.0012862965231761336, 'entailment'),\n",
       "  (0.9885886907577515, 'neutral')])"
      ]
     },
     "execution_count": 19,
     "metadata": {},
     "output_type": "execute_result"
    }
   ],
   "source": [
    "sample_d = [\"I had a real bad headache, then saw my doctor.  Just by talking with him, my headache started to subside, and I was all better the next day.\", \"It was well worth the $200 visit fee.\"]\n",
    "get_nli(*sample_d)"
   ]
  },
  {
   "cell_type": "code",
   "execution_count": 20,
   "metadata": {},
   "outputs": [
    {
     "data": {
      "text/plain": [
       "('neutral',\n",
       " [(0.005462161265313625, 'contradiction'),\n",
       "  (0.06297237426042557, 'entailment'),\n",
       "  (0.9315654635429382, 'neutral')])"
      ]
     },
     "execution_count": 20,
     "metadata": {},
     "output_type": "execute_result"
    }
   ],
   "source": [
    "sample_e = [\"The economy continues to grow as the number of likes on my Instagram account continue to increase.\", \"Clearly, the two are linked.\"]\n",
    "get_nli(*sample_e)"
   ]
  },
  {
   "cell_type": "markdown",
   "metadata": {},
   "source": [
    "Also, maybe distinction between different parts of the sentence itself would help us. \n",
    "\n",
    "So it's not necessarily about the words being connected to each other. it's about the sentences being connected to each other or \n",
    "\n",
    "the possibility of entailment between them."
   ]
  },
  {
   "cell_type": "code",
   "execution_count": 21,
   "metadata": {},
   "outputs": [],
   "source": [
    "conclusion_words = [\"conclusion\", \"therefore\", \"so\", \"hence\", \"thus\", \"as a consequence\", \"for that reason\"]"
   ]
  },
  {
   "cell_type": "code",
   "execution_count": 22,
   "metadata": {},
   "outputs": [
    {
     "name": "stdout",
     "output_type": "stream",
     "text": [
      "['Every severe recession follows a Republican Presidency therefore Republicans are the cause of recessions.']\n",
      "['I started exercising twice a week, and I just got a babysitting job.', 'Exercising leads to new jobs!']\n",
      "['MSK<2> MSK<0> raised taxes , and then the rate of violent MSK<1> went up .', 'MSK<0> is responsible for the rise in MSK<1> .', 'MSK<2>']\n",
      "['I had a real bad headache, then saw my doctor.', 'Just by talking with him, my headache started to subside, and I was all better the next day.', 'It was well worth the $200 visit fee.']\n",
      "['The economy continues to grow as the number of likes on my Instagram account continue to increase.', 'Clearly, the two are linked.']\n"
     ]
    }
   ],
   "source": [
    "from nltk.tokenize import sent_tokenize\n",
    "for sent in [' '.join(parts) for parts in [sample_a, sample_b, sample_c, sample_d, sample_e]]:\n",
    "    print(sent_tokenize(sent))"
   ]
  },
  {
   "cell_type": "code",
   "execution_count": 23,
   "metadata": {},
   "outputs": [
    {
     "name": "stdout",
     "output_type": "stream",
     "text": [
      "Every severe recession follows a Republican Presidency therefore Republicans are the cause of recessions.\n",
      "$$\n",
      "------------------------------\n",
      "I started exercising twice a week, and I just got a babysitting job.\n",
      "$$\n",
      "Exercising leads to new jobs!\n",
      "$$\n",
      "------------------------------\n",
      "MSK<2> MSK<0> raised taxes , and then the rate of violent MSK<1> went up .  \n",
      "$$\n",
      "MSK<0> is responsible for the rise in MSK<1> .\n",
      "$$\n",
      "MSK<2>\n",
      "$$\n",
      "------------------------------\n",
      "I had a real bad headache, then saw my doctor.  \n",
      "$$\n",
      "Just by talking with him, my headache started to subside, and I was all better the next day.\n",
      "$$\n",
      "It was well worth the $200 visit fee.\n",
      "$$\n",
      "------------------------------\n",
      "The economy continues to grow as the number of likes on my Instagram account continue to increase.\n",
      "$$\n",
      "Clearly, the two are linked.\n",
      "$$\n",
      "------------------------------\n"
     ]
    }
   ],
   "source": [
    "import spacy\n",
    "nlp = spacy.load('en_core_web_sm')\n",
    "\n",
    "for text in [' '.join(parts) for parts in [sample_a, sample_b, sample_c, sample_d, sample_e]]:\n",
    "    tokens = nlp(text)\n",
    "\n",
    "    for sent in tokens.sents:\n",
    "        print(sent)\n",
    "        print('$$')\n",
    "    print('---' * 10)"
   ]
  },
  {
   "cell_type": "markdown",
   "metadata": {},
   "source": [
    "### Check if NLI model captures first order logic"
   ]
  },
  {
   "cell_type": "markdown",
   "metadata": {},
   "source": [
    "`NLI models have no notion of first order logic`"
   ]
  },
  {
   "cell_type": "code",
   "execution_count": 24,
   "metadata": {},
   "outputs": [
    {
     "data": {
      "text/plain": [
       "('entailment',\n",
       " [(0.011736266314983368, 'contradiction'),\n",
       "  (0.9390512704849243, 'entailment'),\n",
       "  (0.04921247065067291, 'neutral')])"
      ]
     },
     "execution_count": 24,
     "metadata": {},
     "output_type": "execute_result"
    }
   ],
   "source": [
    "get_nli(\"All Accords are Hondas. All Hondas are Japanese.\", \"Therefore, all Accords are Japanese.\")"
   ]
  },
  {
   "cell_type": "code",
   "execution_count": 25,
   "metadata": {},
   "outputs": [
    {
     "data": {
      "text/plain": [
       "('contradiction',\n",
       " [(0.9902350902557373, 'contradiction'),\n",
       "  (0.0011597290867939591, 'entailment'),\n",
       "  (0.008605259470641613, 'neutral')])"
      ]
     },
     "execution_count": 25,
     "metadata": {},
     "output_type": "execute_result"
    }
   ],
   "source": [
    "get_nli(\"All Accords are Hondas. All Hondas are Japanese.\", \"Therefore, all Accords are Korean.\")"
   ]
  },
  {
   "cell_type": "code",
   "execution_count": 26,
   "metadata": {},
   "outputs": [
    {
     "data": {
      "text/plain": [
       "('entailment',\n",
       " [(0.00117793760728091, 'contradiction'),\n",
       "  (0.9729889631271362, 'entailment'),\n",
       "  (0.025832997635006905, 'neutral')])"
      ]
     },
     "execution_count": 26,
     "metadata": {},
     "output_type": "execute_result"
    }
   ],
   "source": [
    "get_nli(\"All borogoves are slithy toves.  All slithy toves are mimsy.\", \"Therefore, all borogoves are mimsy.\")"
   ]
  },
  {
   "cell_type": "code",
   "execution_count": 27,
   "metadata": {},
   "outputs": [
    {
     "data": {
      "text/plain": [
       "(('entailment',\n",
       "  [(0.00480384798720479, 'contradiction'),\n",
       "   (0.9778172373771667, 'entailment'),\n",
       "   (0.017378931865096092, 'neutral')]),\n",
       " ('entailment',\n",
       "  [(0.002873871708288789, 'contradiction'),\n",
       "   (0.9842425584793091, 'entailment'),\n",
       "   (0.012883516028523445, 'neutral')]),\n",
       " ('entailment',\n",
       "  [(0.0014293943531811237, 'contradiction'),\n",
       "   (0.9853373169898987, 'entailment'),\n",
       "   (0.01323334127664566, 'neutral')]))"
      ]
     },
     "execution_count": 27,
     "metadata": {},
     "output_type": "execute_result"
    }
   ],
   "source": [
    "get_nli(\"All x are y. All y are z.\", \" Therefore, all x are z.\"), get_nli(\"All x are y. All y are z.\", \" Therefore, all y are z.\"), get_nli(\"All x are y. All y are z.\", \" Therefore, all x are y.\")"
   ]
  },
  {
   "cell_type": "markdown",
   "metadata": {},
   "source": [
    "### ad populum"
   ]
  },
  {
   "cell_type": "markdown",
   "metadata": {},
   "source": [
    "One thing that is so special about this is the fact that in so many of the sentences, you cannot find the connection \n",
    "\n",
    "`expressed explicitly`, so technically there's no issue with them. "
   ]
  },
  {
   "cell_type": "code",
   "execution_count": 28,
   "metadata": {},
   "outputs": [
    {
     "name": "stdout",
     "output_type": "stream",
     "text": [
      "a fallacious argument which is based on affirming that something is real or better because the majority thinks so\n",
      "##############################\n",
      "Verizon advertising the newest Samsung Galaxy phone that they claim everyone else who has bought it loves the new product.\n",
      "MSK<0> advertising the newest MSK<1> phone that MSK<1> claim everyone else who has bought MSK<0> loves the new product . \n",
      "********************\n",
      "The newest brand jeans that everyone is wearing are called Blue Dogs. Blue Dogs are being worn by all young teens. Be sure to go out and buy your new jeans at your local mall.\n",
      "MSK<0> are called MSK<1> . MSK<1> are being worn by all young teens . Be sure to go out and buy MSK<0> at coref2 local mall . \n",
      "********************\n",
      "Fortnite is the best game ever. Everyone is playing it!\n",
      "MSK<0> is the best game ever . Everyone is playing MSK<0> ! \n",
      "********************\n",
      "Over 5 million Filipinos use our products. It’s time to switch to our brand now!\n",
      "Over 5 million Filipinos use MSK<0> products . It ’s time to switch to MSK<0> brand now ! \n",
      "********************\n",
      "This movie was #1 at the box office last weekend! That means it must be really good!\n",
      "MSK<0> was MSK<1> at the box office last weekend ! MSK<1> means MSK<0> must be really good ! \n",
      "********************\n",
      "Everyone seems to support the changes in the vacation policy, and if everyone likes them, they must be\n",
      "good.\n",
      "MSK<0> seems to support MSK<1> , and if MSK<0> likes MSK<1> , MSK<1> must be good . \n",
      "********************\n",
      "Over 99 billion people served…\n",
      "Over 99 billion people served … \n",
      "********************\n",
      "I guess I should buy my 12 year old daughter an iPhone. Everyone at her school has one, and I want her to fit in with the other kids.\n",
      "MSK<0> guess MSK<0> should buy MSK<0> 12 year old daughter an iPhone . Everyone at MSK<1> school has one , and MSK<0> want MSK<1> to fit in with the other kids . \n",
      "********************\n",
      "\"Chick-Fil-A is the greatest food chain in existence. Look at the crowds!\"\n",
      "\" Chick - Fil - A is the greatest food chain in existence . Look at the crowds ! \" \n",
      "********************\n",
      "An opinion article in a campus newspaper states that in an all-campus survey 95% of students think that tuition should be lowered and therefore tuition should be lowered immediately.\n",
      "An opinion article in a MSK<0> newspaper states that in an all - MSK<0> survey 95 % of students think that MSK<1> should be MSK<2> and therefore MSK<1> should be MSK<2> immediately . \n",
      "********************\n"
     ]
    }
   ],
   "source": [
    "fallacy = all_fallacies[2]\n",
    "sub_df = df[df['updated_label'] == fallacy].sample(10)\n",
    "print(def_dict[fallacy])\n",
    "print('######' * 5)\n",
    "for sent, masked_sent in zip(sub_df['source_article'].tolist(), sub_df['masked_articles'].tolist()):\n",
    "    print(sent)\n",
    "    print(masked_sent)\n",
    "    print('**' * 10)"
   ]
  },
  {
   "cell_type": "markdown",
   "metadata": {},
   "source": [
    "### circular reasoning"
   ]
  },
  {
   "cell_type": "markdown",
   "metadata": {},
   "source": [
    "Relation between the two parts are `equal`."
   ]
  },
  {
   "cell_type": "code",
   "execution_count": 33,
   "metadata": {},
   "outputs": [
    {
     "name": "stdout",
     "output_type": "stream",
     "text": [
      "circular reasoning\n",
      "when the end of an argument comes back to the beginning without having proven itself.\n",
      "##############################\n",
      "President Reagan was a great communicator because he had the gift of talking effectively to the people.\n",
      "MSK<0> was a great communicator because MSK<0> had the gift of talking effectively to the people . \n",
      "********************\n",
      "Speaker 1: You should trust the Bible because it’s the Word of God.\n",
      "Speaker 2: How do you know it’s the Word of God?\n",
      "Speaker 1: Because God tells us it is.\n",
      "Speaker 2: Where does God tell us this?\n",
      "Speaker 1: Right here, in the Bible.\n",
      "MSK<1> : MSK<2> should trust MSK<3> because MSK<3> ’s the MSK<4> of MSK<5> . MSK<1> : How do MSK<2> know MSK<3> ’s the MSK<4> of MSK<5> ? MSK<1> : Because MSK<5> MSK<7> MSK<3> is . MSK<1> : Where does MSK<5> MSK<7> this ? MSK<1> : Right here , in the Bible . \n",
      "********************\n",
      "Sleeping until noon is the worst thing to do because it is bad to sleep late.\n",
      "MSK<0> until noon is the worst thing to do because it is bad to MSK<0> late . \n",
      "********************\n",
      "The word of Zorbo the Great is flawless and perfect. We know this because it says so in The Great and Infallible Book of Zorbo’s Best and Most Truest Things that are Definitely True and Should Not Ever Be Questioned.\n",
      "MSK<0> MSK<1> is flawless and perfect . We know this because MSK<0> says so in The Great and Infallible Book of MSK<1> ’s Best and Most Truest Things that are Definitely True and Should Not Ever Be Questioned . \n",
      "********************\n",
      "The President said he will not allow disrespectful dissent.\n",
      "MSK<0> said MSK<0> will not allow disrespectful dissent . \n",
      "********************\n",
      "\"You can't give me a D because I'm an A student!\"\n",
      "\" You ca n't give MSK<0> a D because MSK<0> 'm an A student ! \" \n",
      "********************\n",
      "The greatest thing that we can do is to love each other. Love is better than any other emotion.\n",
      "The greatest thing that we can do is to MSK<0> each other . MSK<0> is better than any other emotion . \n",
      "********************\n",
      "A is true because B is true, and B is true because A is true.\n",
      "MSK<0> is MSK<1> because MSK<2> is MSK<1> , and MSK<2> is MSK<1> because MSK<0> is MSK<1> . \n",
      "********************\n",
      "\"J.K Rowling is a wonderful writer because she writes so well\" is an example of what?\n",
      "\" MSK<0> is a wonderful writer because MSK<0> writes so well \" is an example of what ? \n",
      "********************\n",
      "That restaurant is popular because everyone in town goes there.\n",
      "That restaurant is popular because everyone in town goes there . \n",
      "********************\n"
     ]
    }
   ],
   "source": [
    "fallacy = all_fallacies[3]\n",
    "print(fallacy)\n",
    "sub_df = df[df['updated_label'] == fallacy].sample(10)\n",
    "print(def_dict[fallacy])\n",
    "print('######' * 5)\n",
    "for sent, masked_sent in zip(sub_df['source_article'].tolist(), sub_df['masked_articles'].tolist()):\n",
    "    print(sent)\n",
    "    print(masked_sent)\n",
    "    print('**' * 10)"
   ]
  },
  {
   "cell_type": "markdown",
   "metadata": {},
   "source": [
    "### fallacy of relevance\n",
    "\n",
    "Relation between two parts is `irrelevant`\n"
   ]
  },
  {
   "cell_type": "code",
   "execution_count": 37,
   "metadata": {},
   "outputs": [
    {
     "name": "stdout",
     "output_type": "stream",
     "text": [
      "fallacy of relevance\n",
      "##############################\n",
      "\"Finish your dinner. There are starving children in Africa.\" is an example of\n",
      "\" Finish your dinner . There are starving children in Africa . \" is an example of \n",
      "********************\n",
      "Child: This fish tastes funny. I don’t want to eat this.\n",
      "Parent: There are children starving in Africa. Eat your dinner.\n",
      "MSK<0> : This fish tastes funny . I do n’t want to MSK<1> this . Parent : There are MSK<0> starving in Africa . MSK<1> your dinner . \n",
      "********************\n",
      "Compares minor problems with much more serious crimes\n",
      "Compares minor problems with much more serious crimes \n",
      "********************\n",
      "Your mom thinks you spend too much time playing video games. You bring up that\n",
      "she spends too much time shopping.\n",
      "MSK<0> thinks MSK<0> MSK<1> too much MSK<2> playing video games . MSK<0> bring up that coref1 MSK<1> too much MSK<2> shopping . \n",
      "********************\n",
      "Keeping a dog as a pet is every bit as evil as human slavery.\n",
      "Keeping a MSK<0> as a MSK<0> is every bit as evil as human slavery . \n",
      "********************\n",
      "\"I believe deeply that canceling the fashion show is the best decision. I know it is. I am very certain about it.\"\n",
      "\" MSK<0> believe deeply that canceling MSK<1> is the best decision . MSK<0> know MSK<1> is . MSK<0> am very certain about MSK<1> . \" \n",
      "********************\n",
      "Mining may destroy the environment, but how about the people whose jobs will be affected? Should we ban it?\n",
      "Mining may destroy MSK<0> , but how about the people whose jobs will be affected ? Should we ban MSK<0> ? \n",
      "********************\n",
      "There is a global recession and more people are becoming hungry and desperate. Crimes of theft and robbery have been increasing at an alarming rate lately. The only way to solve this problem is by reinstating the death penalty\n",
      "There is a global recession and more people are becoming hungry and desperate . MSK<0> of MSK<0> and MSK<0> have been increasing at an alarming rate lately . The only way to solve this problem is by reinstating the death penalty \n",
      "********************\n",
      "Sure, we haven't given raises in over five years to our employees, but we work really hard to make a good product. We try to ensure the best customer service, too.\n",
      "Sure , MSK<0> have n't given raises in over five years to MSK<0> employees , but MSK<0> work really hard to make a good product . MSK<0> try to ensure the best customer service , too . \n",
      "********************\n",
      "I want to sell my house for $400,000. A buyer wants it for $100,000, so I must sell it for $250,000.\n",
      "MSK<0> MSK<1> to MSK<2> MSK<0> for $ MSK<4> . A buyer MSK<1> MSK<3> for $ MSK<4> , so MSK<0> must MSK<2> MSK<3> for $ MSK<4> . \n",
      "********************\n"
     ]
    }
   ],
   "source": [
    "fallacy = all_fallacies[4]\n",
    "print(fallacy)\n",
    "sub_df = df[df['updated_label'] == fallacy].sample(10)\n",
    "try:\n",
    "    print(def_dict[fallacy])\n",
    "except: pass\n",
    "print('######' * 5)\n",
    "for sent, masked_sent in zip(sub_df['source_article'].tolist(), sub_df['masked_articles'].tolist()):\n",
    "    print(sent)\n",
    "    print(masked_sent)\n",
    "    print('**' * 10)"
   ]
  },
  {
   "cell_type": "markdown",
   "metadata": {},
   "source": [
    "### faulty generalization\n",
    "\n",
    "relation between the first and second statement is `generalization`\n"
   ]
  },
  {
   "cell_type": "code",
   "execution_count": 38,
   "metadata": {},
   "outputs": [
    {
     "name": "stdout",
     "output_type": "stream",
     "text": [
      "faulty generalization\n",
      "an informal fallacy wherein a conclusion is drawn about all or many instances of a phenomenon on the basis of one or a few instances of that phenomenon. is an example of jumping to conclusions.\n",
      "##############################\n",
      "If you're going to add that much salt to the soup, you might as well pour the whole box in!\n",
      "If MSK<0> 're going to add that much salt to the soup , MSK<0> might as well pour the whole box in ! \n",
      "********************\n",
      "If we ban cell phones because they are bad for teenagers next the government will ban all iPods and eventually all video games as well.\n",
      "If we MSK<0> cell phones because they are bad for teenagers next the government will MSK<0> all iPods and eventually all video games as well . \n",
      "********************\n",
      "Brad's mother asked him why he wasn't trying out for the school play. He responded: ''Because if Tom gets the male lead, which he always does, then I'll only be in the chorus, and it's not worth being in the play if I'm only going to be in the chorus.'' This is an example of which logical fallacy?\n",
      "MSK<0> asked MSK<1> why MSK<1> was n't trying out for MSK<2> . MSK<1> responded : MSK<3> Because if MSK<1> gets the male lead , which MSK<1> always does , then MSK<4> 'll only be in MSK<5> , and it 's not worth being in MSK<2> if MSK<4> 'm only going to be in MSK<5> . MSK<3> MSK<0> is an example of which logical fallacy ? \n",
      "********************\n",
      "Some students who attend tutoring over the summer are not very intelligent. Since Beth attended summer tutoring, she is not a very good student.\n",
      "Some MSK<0> who MSK<1> MSK<2> over the MSK<3> are not very intelligent . Since MSK<4> MSK<1> MSK<3> MSK<2> , MSK<4> is not a very good MSK<0> . \n",
      "********************\n",
      "Why did the blond cross the road?  Because she saw a shoe sale!\n",
      "Why did the blond cross the road ? Because she saw a shoe sale ! \n",
      "********************\n",
      "Broccoli has significantly less fat than the leading candy bar!\n",
      "Broccoli has significantly less fat than the leading candy bar ! \n",
      "********************\n",
      "news organizations are Fake News?\n",
      "MSK<0> organizations are Fake MSK<0> ? \n",
      "********************\n",
      "“Animal experimentation reduces our respect for life. If we don’t respect life, we are likely to be more and more tolerant of violent acts like war and murder. Soon our society will become a battlefield in which everyone constantly fears for their lives. It will be the end of civilization. To prevent this terrible consequence, we should make animal experimentation illegal right now.”\n",
      "MSK<6> MSK<0> reduces MSK<1> MSK<2> for MSK<3> . If MSK<1> do n’t MSK<2> MSK<3> , MSK<1> are likely to be more and more tolerant of violent acts like war and murder . Soon MSK<4> will become a battlefield in which MSK<5> constantly fears for MSK<5> MSK<3> . MSK<4> will be the end of civilization . To prevent this terrible consequence , MSK<1> should make MSK<0> illegal right now . MSK<6> \n",
      "********************\n",
      "Jason said that that was all cool and everything, but his grandfather smoked, like, 30 cigarettes a day and lived until 97 - so don't believe everything you read about meta analyses of methodologically sound studies showing proven causal relationships.\n",
      "MSK<0> said that that was all cool and everything , but MSK<0> grandfather MSK<1> , like , 30 MSK<1> a day and lived until 97 - so do n't believe everything you read about meta analyses of methodologically sound studies showing proven causal relationships . \n",
      "********************\n",
      "Three congressional representatives have had affairs. Therefore, members of Congress are adulterers.\n",
      "Three MSK<0> representatives have had affairs . Therefore , members of MSK<0> are adulterers . \n",
      "********************\n"
     ]
    }
   ],
   "source": [
    "fallacy = all_fallacies[5]\n",
    "print(fallacy)\n",
    "sub_df = df[df['updated_label'] == fallacy].sample(10)\n",
    "print(def_dict[fallacy])\n",
    "print('######' * 5)\n",
    "for sent, masked_sent in zip(sub_df['source_article'].tolist(), sub_df['masked_articles'].tolist()):\n",
    "    print(sent)\n",
    "    print(masked_sent)\n",
    "    print('**' * 10)"
   ]
  },
  {
   "cell_type": "markdown",
   "metadata": {},
   "source": [
    "### ad hominem\n",
    "\n",
    "`toxicity` toward one of the parties involved in the first statement."
   ]
  },
  {
   "cell_type": "code",
   "execution_count": 39,
   "metadata": {},
   "outputs": [
    {
     "name": "stdout",
     "output_type": "stream",
     "text": [
      "ad hominem\n",
      " instead of addressing someone's argument or position, you irrelevantly attack the person or some aspect of the person who is making the argument.\n",
      "##############################\n",
      "The car was built with cheap parts, so it only goes to show that the car will fall apart.\n",
      "MSK<0> was built with cheap parts , so MSK<0> only goes to show that MSK<0> will fall apart . \n",
      "********************\n",
      "Layla is a liar! She should not be trusted to be president for student council!\n",
      "MSK<0> is a liar ! MSK<0> should not be trusted to be president for student council ! \n",
      "********************\n",
      "\"I can't trust that doctor's advice on how to raise my child. He has never been a mother.\n",
      "This is an example of\n",
      "\" MSK<0> ca n't trust MSK<1> advice on how to raise MSK<0> child . MSK<1> has never been a mother . MSK<1> is an example of \n",
      "********************\n",
      "His opinions about sports mean nothing - he can barely tie his own shoes!\n",
      "MSK<0> opinions about sports mean nothing - MSK<0> can barely tie MSK<0> own shoes ! \n",
      "********************\n",
      "Boris is not qualified to make suggestions about our penal system. As an ex-convict, he would always take the criminals’ side.\n",
      "MSK<0> is not qualified to make suggestions about our penal system . As an ex-convict , MSK<0> would always take the criminals ’ side . \n",
      "********************\n",
      "(1) William Dembski argues that modern biology supports the idea that there is an intelligent designer who created life.\n",
      "(2) Dembski would say that because he’s religious.\n",
      "Therefore:\n",
      "(3) Modern biology doesn’t support intelligent design\n",
      "( MSK<4> ) MSK<0> argues that MSK<1> MSK<2> the idea that there is an MSK<5> who created life . ( MSK<4> ) MSK<0> would say that because MSK<0> ’s religious . Therefore : ( MSK<4> ) MSK<1> does n’t MSK<2> MSK<5> \n",
      "********************\n",
      "\"I knew him in high school and he almost flunked out. He can't be a good choice for mayor.\"\n",
      "\" I knew MSK<0> in high school and MSK<0> almost flunked out . MSK<0> ca n't be a good choice for mayor . \" \n",
      "********************\n",
      "Steve: In Sweden, college is free for citizens. How come we can't do that here?\n",
      "\n",
      "Ed: If you like Sweden so much, move there. The USA would be glad to be rid of your liberal ass!\n",
      "Steve : In MSK<0> , college is free for citizens . How come we ca n't do that here ? Ed : If MSK<1> like MSK<0> so much , move there . The USA would be glad to be rid of MSK<1> liberal ass ! \n",
      "********************\n",
      "\"The Senator must be wrong on the issue of taxes because he's such a jerk to the people who work for him.\"\n",
      "\" MSK<0> must be wrong on the issue of taxes because MSK<0> 's such a jerk to the people who work for MSK<0> . \" \n",
      "********************\n",
      "Student: Logical Fallacies have nothing to do with my life and I don’t want to learn them!\n",
      "Teacher: You are too young to understand why it’s important!\n",
      "Estudiante: ¡Las falacias lógicas no tienen nada que ver con mi vida y no quiero aprenderlas!\n",
      "Maestro: Eres demasiado joven para entender por qué es importanto!\n",
      "Student : MSK<0> have nothing to do with MSK<1> life and MSK<1> do n’t want to learn MSK<0> ! Teacher : You are too young to understand why it ’s MSK<3> ! Estudiante : ¡ Las falacias lógicas no tienen nada MSK<2> ver con mi vida y no quiero aprenderlas ! Maestro : Eres demasiado joven para entender por MSK<2> es MSK<3> ! \n",
      "********************\n"
     ]
    }
   ],
   "source": [
    "fallacy = all_fallacies[6]\n",
    "print(fallacy)\n",
    "sub_df = df[df['updated_label'] == fallacy].sample(10)\n",
    "print(def_dict[fallacy])\n",
    "print('######' * 5)\n",
    "for sent, masked_sent in zip(sub_df['source_article'].tolist(), sub_df['masked_articles'].tolist()):\n",
    "    print(sent)\n",
    "    print(masked_sent)\n",
    "    print('**' * 10)"
   ]
  },
  {
   "cell_type": "markdown",
   "metadata": {},
   "source": [
    "### fallacy of extension\n",
    "\n",
    "the relation is somehow like the one we saw in faulty generalization. `One of the statements is generalization of other one.`"
   ]
  },
  {
   "cell_type": "markdown",
   "metadata": {},
   "source": [
    "Again here like the some of the other patterns, there is pattern of `entailment` or `contradiction` that is important. "
   ]
  },
  {
   "cell_type": "code",
   "execution_count": 8,
   "metadata": {},
   "outputs": [
    {
     "name": "stdout",
     "output_type": "stream",
     "text": [
      "fallacy of extension\n",
      "attacking an exaggerated or caricatured version of your opponent's position.\n",
      "##############################\n",
      "You see someone walking their dog. The dog goes to the bathroom on a lawn but they don’t pick up after their dog. You ask them to clean up after their dog, but they say, “why do you hate dogs?” What fallacy have they committed?\n",
      "MSK<0> see MSK<1> walking MSK<1> . coref1 goes to the bathroom on a lawn but MSK<1> do n’t pick up after MSK<1> . MSK<0> ask MSK<1> to clean up after MSK<1> , but MSK<1> say , MSK<2> why do MSK<0> hate dogs ? MSK<2> What fallacy have MSK<1> committed ? \n",
      "********************\n",
      "Person A: I think pollution from humans contributes to climate change.\n",
      "Person B: So, you think humans are directly responsible for extreme weather, like hurricanes, typhoons and droughts.\n",
      "MSK<0> A : I MSK<1> pollution from MSK<2> contributes to MSK<4> change . MSK<0> B : So , you MSK<1> MSK<2> are directly responsible for extreme MSK<4> , like MSK<3> , MSK<3> and droughts . \n",
      "********************\n",
      "You support capital punishment just because you want an “eye for an eye,” but I have several good reasons to believe that capital punishment is fundamentally wrong…\n",
      "MSK<0> support MSK<1> just because MSK<0> want an MSK<3> MSK<2> for an MSK<2> , MSK<3> but I have several good reasons to believe that MSK<1> is fundamentally wrong … \n",
      "********************\n",
      "First senator: The nation is in debt and we should not add to the defense budget.\n",
      "Second senator: I cannot believe you want to leave the nation defenseless!\n",
      "First MSK<0> : MSK<1> is in debt and we should not add to the defense budget . Second MSK<0> : I can not believe you want to leave MSK<1> defenseless ! \n",
      "********************\n",
      "Person #1: We need to start high school later in the morning.\n",
      "Person #2: Oh, so you think we should all just sleep in until noon and have school until it gets dark?\n",
      "MSK<0> # MSK<3> : MSK<1> need to start high MSK<2> later in the morning . MSK<0> # MSK<3> : Oh , so you think MSK<1> should all just sleep in until noon and have MSK<2> until it gets dark ? \n",
      "********************\n",
      "The secretary claims that mining is doing more harm than good to the environment and to the people. The pro-mining politicians accused her of being anti-poor who values the life of a tree more than the life of miners whose only source of income is mining.\n",
      "The secretary claims that MSK<0> is doing more harm than good to the environment and to the people . The pro-mining politicians accused her of being anti-poor who values the MSK<1> of a tree more than the MSK<1> of MSK<0> whose only source of income is MSK<0> . \n",
      "********************\n",
      "Charlie: I think we should put more money into schools. Quality public education is so important.\n",
      "Bob: So you’re saying we should cut military spending and spend it instead on more spiral notebooks and crayons? I guess you want our country to be a weak, defenseless target for terrorists.\n",
      "MSK<0> : MSK<0> think MSK<1> should put more money into schools . Quality public education is so important . MSK<2> : So MSK<2> ’re saying MSK<1> should cut MSK<3> and spend MSK<3> instead on more spiral notebooks and crayons ? MSK<0> guess MSK<2> want MSK<1> country to be a weak , defenseless target for terrorists . \n",
      "********************\n",
      "we should not build bike lanes because cyclists run red lights\n",
      "we should not build MSK<0> lanes because MSK<0> run red lights \n",
      "********************\n",
      "Kent: My new car is really fast.\n",
      "\n",
      "Cal: I doubt that it is as fast as a jet fighter so, therefore, it is not fast.\n",
      "Kent : MSK<0> is really MSK<1> . Cal : MSK<0> doubt that MSK<2> is as MSK<1> as a jet fighter so , therefore , MSK<2> is not MSK<1> . \n",
      "********************\n",
      "Person 1: Bicycle infrastructure should be expanded because cycling is a sustainable mode of transportation.\n",
      "Person 2: We should not build bike lanes because cyclists run red lights and endanger pedestrians.\n",
      "MSK<2> : MSK<1> infrastructure should be expanded because MSK<1> is a sustainable mode of transportation . MSK<2> : We should not build MSK<1> lanes because MSK<1> run red lights and endanger pedestrians . \n",
      "********************\n"
     ]
    }
   ],
   "source": [
    "fallacy = all_fallacies[7]\n",
    "print(fallacy)\n",
    "sub_df = df[df['updated_label'] == fallacy].sample(10)\n",
    "print(def_dict[fallacy])\n",
    "print('######' * 5)\n",
    "for sent, masked_sent in zip(sub_df['source_article'].tolist(), sub_df['masked_articles'].tolist()):\n",
    "    print(sent)\n",
    "    print(masked_sent)\n",
    "    print('**' * 10)"
   ]
  },
  {
   "cell_type": "markdown",
   "metadata": {},
   "source": [
    "### equivocation"
   ]
  },
  {
   "cell_type": "markdown",
   "metadata": {},
   "source": [
    "`not clear reasoning at all`"
   ]
  },
  {
   "cell_type": "code",
   "execution_count": 7,
   "metadata": {},
   "outputs": [
    {
     "name": "stdout",
     "output_type": "stream",
     "text": [
      "equivocation\n",
      "when a key term or phrase in an argument is used in an ambiguous way, with one meaning in one portion of the argument and then another meaning in another portion of the argument.\n",
      "##############################\n",
      "The nuthatch was discovered by Tilly Turnow in the woods, while hopping from branch to branch of an elm tree, singing happily.\n",
      "The nuthatch was discovered by Tilly Turnow in the woods , while hopping from MSK<0> to MSK<0> of an elm tree , singing happily . \n",
      "********************\n",
      "Speaker 1: Did you torture the prisoner?\n",
      "Speaker 2: No, we just held him under water for a while, and then did a mock hanging.\n",
      "MSK<2> : Did you torture MSK<1> ? MSK<2> : No , we just held MSK<1> under water for a while , and then did a mock hanging . \n",
      "********************\n",
      "In many cases you can't really tell whether patients are improving because of what the therapist is doing or because of the placebo effect—there's a fuzzy line separating the two--so we must conclude that they are actually the same mechanism of improvement.\n",
      "In many cases you ca n't really tell whether MSK<0> are MSK<1> because of what the therapist is doing or because of the placebo effect — there 's a fuzzy line separating the two -- so we must conclude that MSK<0> are actually the same mechanism of MSK<1> . \n",
      "********************\n",
      "If you are open to it, love will find you.\n",
      "If MSK<0> are open to it , love will find MSK<0> . \n",
      "********************\n",
      "I had this book that proved that leprechauns are real and have been empirically verified by scientists, but I lost it.  I forgot the name of it as well -- and who the author was.\n",
      "MSK<0> had MSK<1> , but MSK<0> lost MSK<1> . MSK<0> forgot the name of MSK<1> as well -- and who the author was . \n",
      "********************\n",
      "“I don’t understand why you’re saying I broke a promise. I said I’d never speak again to my ex-girlfriend. And I didn’t. I just sent her a quick text.”\n",
      "MSK<1> MSK<0> do n’t understand why you ’re saying MSK<0> broke a promise . MSK<0> said MSK<0> ’d never speak again to MSK<0> ex-girlfriend . And MSK<0> did n’t . MSK<0> just sent her a quick text . MSK<1> \n",
      "********************\n",
      "\"I see nobody on the road,\" said Alice.\n",
      "\"I only wish I had such eyes,\" the king remarked...\"To be able to see Nobody! And at that distance, too! Why it's as much as I can do to see real people, by this light.\"\n",
      "\" MSK<0> see nobody on the road , \" said Alice . \" MSK<0> only wish MSK<0> had such eyes , \" MSK<0> remarked ... \" To be able to see Nobody ! And at that distance , too ! Why it 's as much as MSK<0> can do to see real people , by this light . \" \n",
      "********************\n",
      "Steve: I think it is fantastic that you and Sylvia are getting married!\n",
      "Chuck: I cannot believe you think my getting married only exists in my imagination!  That is what fantastic means, after all.\n",
      "\n",
      "MSK<0> : MSK<0> MSK<1> it is MSK<2> that MSK<0> and MSK<0> are getting married ! Chuck : MSK<0> can not believe MSK<0> MSK<1> MSK<0> getting married only exists in MSK<0> imagination ! That is what MSK<2> means , after all . \n",
      "********************\n",
      "Why does the law state that you have to be 21 years old to drink?  Does it really make any difference if you are 20 years and 364 days old?  That is absurd.  Therefore, if a single day makes no difference, then a collection of 1095 single days won’t make any difference. Therefore, changing the drinking age to 18 will not make any difference.\n",
      "Why does MSK<0> ? Does MSK<0> really make any MSK<1> if coref1 are MSK<4> years and 364 MSK<2> MSK<4> ? That is absurd . Therefore , if a MSK<3> MSK<2> makes no MSK<1> , then a collection of 1095 MSK<3> MSK<2> wo n’t make any MSK<1> . Therefore , changing the drinking MSK<4> to MSK<4> will not make any MSK<1> . \n",
      "********************\n",
      "All stars are exploding balls of gas.\n",
      "Miley Cyrus is a star.\n",
      "Therefore, Miley Cyrus is an exploding ball of gas\n",
      "All MSK<0> are MSK<2> of MSK<3> . MSK<4> is a MSK<0> . Therefore , MSK<4> is an MSK<2> of MSK<3> \n",
      "********************\n"
     ]
    }
   ],
   "source": [
    "fallacy = all_fallacies[8]\n",
    "print(fallacy)\n",
    "sub_df = df[df['updated_label'] == fallacy].sample(10)\n",
    "print(def_dict[fallacy])\n",
    "print('######' * 5)\n",
    "for sent, masked_sent in zip(sub_df['source_article'].tolist(), sub_df['masked_articles'].tolist()):\n",
    "    print(sent)\n",
    "    print(masked_sent)\n",
    "    print('**' * 10)"
   ]
  },
  {
   "cell_type": "markdown",
   "metadata": {},
   "source": [
    "### fallacy of logic\n",
    "\n",
    "the relation between two statements is `faulty reasoning`"
   ]
  },
  {
   "cell_type": "markdown",
   "metadata": {},
   "source": [
    "`we have the premise but the reasoning to get to the conclusion is not correct.`"
   ]
  },
  {
   "cell_type": "code",
   "execution_count": 42,
   "metadata": {},
   "outputs": [
    {
     "name": "stdout",
     "output_type": "stream",
     "text": [
      "fallacy of logic\n",
      "an error in the logical structure of an argument.\n",
      "##############################\n",
      "We live in paradise, but we don't know it.\n",
      "MSK<0> live in MSK<1> , but MSK<0> do n't know MSK<1> . \n",
      "********************\n",
      "Minds, like rivers, can be broad. The broader the river, the shallower it is. Therefore, the broader the mind, the shallower it is.\n",
      "MSK<0> , like rivers , can be broad . The MSK<1> MSK<2> , the MSK<3> MSK<2> is . Therefore , the MSK<1> the MSK<0> , the MSK<3> MSK<2> is . \n",
      "********************\n",
      "Hybrid cars are like solar power, full of promise but too expensive. We’ll never be able to build affordable hybrid cars.\n",
      "MSK<1> are like solar power , full of promise but too expensive . We ’ll never be able to build affordable MSK<1> . \n",
      "********************\n",
      "a mad scientist builds a rocket to the sun but plans to embark at night to avoid being cremated.\n",
      "a mad scientist builds a rocket to the sun but plans to embark at night to avoid being cremated . \n",
      "********************\n",
      "You let my sister pierce her ears when she was 11, so you should let me stay up until midnight.\n",
      "MSK<0> MSK<1> MSK<2> pierce MSK<2> ears when MSK<2> was 11 , so MSK<0> should MSK<1> coref2 stay up until midnight . \n",
      "********************\n",
      "Santa has a red suit. My dad has a red suit. My dad must be Santa Claus! (This is an example of...)\n",
      "MSK<0> has a MSK<2> . MSK<3> has a MSK<2> . MSK<3> must be MSK<0> Claus ! ( coref1 is an example of ... ) \n",
      "********************\n",
      "If taxes are lowered, I will have more money to spend.\n",
      "I have more money to spend.\n",
      "Therefore, taxes must have been lowered.\n",
      "If MSK<0> are MSK<1> , MSK<2> will have more MSK<3> to MSK<4> . MSK<2> have more MSK<3> to MSK<4> . Therefore , MSK<0> must have been MSK<1> . \n",
      "********************\n",
      "employs analogies between things that are not really alike\n",
      "employs analogies between things that are not really alike \n",
      "********************\n",
      "All Paul Newman movies are great.\n",
      "All great movies are Oscar winners.\n",
      "Therefore, all Oscar winners are Paul Newman movies.\n",
      "MSK<0> are great . MSK<0> are MSK<2> . Therefore , all MSK<2> are coref1 movies . \n",
      "********************\n",
      "Ivan: You cannot borrow my car because it turns back into a pumpkin at midnight.\n",
      "Sidney: If you really think that, you’re an idiot.\n",
      "Ivan: That is an ad hominem; therefore, I can’t be an idiot.\n",
      "Sidney: I beg to differ.\n",
      "MSK<0> : MSK<1> can not borrow MSK<2> because coref2 turns back into a pumpkin at midnight . MSK<3> : If MSK<1> really think that , MSK<1> ’re an MSK<4> . MSK<0> : That is an ad hominem ; therefore , MSK<2> ca n’t be an MSK<4> . MSK<3> : MSK<2> beg to differ . \n",
      "********************\n"
     ]
    }
   ],
   "source": [
    "fallacy = all_fallacies[9]\n",
    "print(fallacy)\n",
    "sub_df = df[df['updated_label'] == fallacy].sample(10)\n",
    "print(def_dict[fallacy])\n",
    "print('######' * 5)\n",
    "for sent, masked_sent in zip(sub_df['source_article'].tolist(), sub_df['masked_articles'].tolist()):\n",
    "    print(sent)\n",
    "    print(masked_sent)\n",
    "    print('**' * 10)"
   ]
  },
  {
   "cell_type": "markdown",
   "metadata": {},
   "source": [
    "### fallacy of credibility"
   ]
  },
  {
   "cell_type": "markdown",
   "metadata": {},
   "source": [
    "The most prominent sign of using fallacy of credibility is the usage of important people's names\n",
    "\n",
    "but it doesn't necessarily means that they contain fallacy of credibility if they contain or doesn't contain \n",
    "\n",
    "them and also `more important than that` `they have a conclusion without proper support backing it up`."
   ]
  },
  {
   "cell_type": "code",
   "execution_count": 43,
   "metadata": {},
   "outputs": [
    {
     "name": "stdout",
     "output_type": "stream",
     "text": [
      "fallacy of credibility\n",
      "attempts to disprove an argument by attacking the character of the speaker.\n",
      "##############################\n",
      "Famous actors like Alex Gonzaga and Philip Salvador support Oplan Tokhang, so it must be an effective operation.\n",
      "Famous actors like Alex Gonzaga and Philip Salvador support Oplan Tokhang , so it must be an effective operation . \n",
      "********************\n",
      "My dad went to school, so he knows everything about the education system.\n",
      "MSK<0> went to school , so MSK<0> knows everything about the education system . \n",
      "********************\n",
      "\"If my years as a Marine taught me anything, it's that caution is the best policy in this sort of situation.\"?\n",
      "\" If MSK<0> years as a Marine taught MSK<0> anything , it 's that caution is the best policy in this sort of situation . \" ? \n",
      "********************\n",
      "“We should abolish the death penalty. Many respected people, such as Imran Kader, have publicly stated their opposition to it.”\n",
      "MSK<2> We should abolish MSK<0> . MSK<1> , have publicly stated MSK<1> opposition to MSK<0> . MSK<2> \n",
      "********************\n",
      "Professor X holds that the use of non-invasive ventilation has no place in the management of ARDS; this, therefore, is the approach we should adopt.\n",
      "Professor X holds that the use of non-invasive ventilation has no place in the management of ARDS ; this , therefore , is the approach we should adopt . \n",
      "********************\n",
      "John agrees with me that drinking energy drinks are bad for you. \n",
      "John agrees with me that MSK<0> energy MSK<0> are bad for you . \n",
      "********************\n",
      "My minister says the Covid vaccine will cause genetic mutations. He has a college degree, and is a holy man, so he must be right.\n",
      "MSK<0> says the Covid vaccine will cause genetic mutations . MSK<0> has a college degree , and is a holy man , so MSK<0> must be right . \n",
      "********************\n",
      "My father told me that the sky is green. So it must be the truth.\n",
      "MSK<0> father told MSK<0> that MSK<1> is green . So MSK<1> must be the truth . \n",
      "********************\n",
      "Presenting an unqualified person or institution as a source of credible information.\n",
      "Presenting an unqualified person or institution as a source of credible information . \n",
      "********************\n",
      "Christina's shoes are superior, because they're made from one hundred percent snakeskin, not synthetic materials.\n",
      "MSK<0> are superior , because MSK<0> 're made from one hundred percent snakeskin , not synthetic materials . \n",
      "********************\n"
     ]
    }
   ],
   "source": [
    "fallacy = all_fallacies[10]\n",
    "print(fallacy)\n",
    "sub_df = df[df['updated_label'] == fallacy].sample(10)\n",
    "print(def_dict[fallacy])\n",
    "print('######' * 5)\n",
    "for sent, masked_sent in zip(sub_df['source_article'].tolist(), sub_df['masked_articles'].tolist()):\n",
    "    print(sent)\n",
    "    print(masked_sent)\n",
    "    print('**' * 10)"
   ]
  },
  {
   "cell_type": "markdown",
   "metadata": {},
   "source": [
    "### intentional"
   ]
  },
  {
   "cell_type": "markdown",
   "metadata": {},
   "source": [
    "The examples are really involved even for human beings. they ask the questions in a way that sometimes needs\n",
    "\n",
    "commonsense reasoning and sometimes needs stuff even more advanced than commonsense reasoning"
   ]
  },
  {
   "cell_type": "code",
   "execution_count": 44,
   "metadata": {},
   "outputs": [
    {
     "name": "stdout",
     "output_type": "stream",
     "text": [
      "intentional\n",
      "some intentional (sometimes subconscious) action/choice to incorrectly support an argument\n",
      "##############################\n",
      "Barbara believes the marketing agency's office is haunted. The cleaning crew once said they heard a other-worldly noise late at night. Since no one could prove that it wasn't a ghost, the office must be haunted.\n",
      "Barbara believes MSK<0> is MSK<1> . MSK<2> once said MSK<2> heard MSK<3> late at night . Since no one could prove that MSK<3> was n't a ghost , MSK<0> must be MSK<1> . \n",
      "********************\n",
      "The ideas from that member of the club are wrong, but he isn’t actually a true member of the club so his ideas do not matter.\n",
      "MSK<0> MSK<1> are wrong , but coref2 is n’t actually a true member of MSK<1> so MSK<0> do not matter . \n",
      "********************\n",
      "ghosts must exist, because nobody has been able to prove that they don't is an example of\n",
      "MSK<0> must exist , because nobody has been able to prove that MSK<0> do n't is an example of \n",
      "********************\n",
      "Where did you hide the marijuana you were smoking?\n",
      "Where did MSK<0> hide the marijuana MSK<0> were smoking ? \n",
      "********************\n",
      "\"Good source of Vitamin D\"...*doesn't mention the terrible amounts of sugar.\n",
      "\" Good source of Vitamin D \" ... * does n't mention the terrible amounts of sugar . \n",
      "********************\n",
      "Audrey: I am a human being. I am not a cyborg from the future here to destroy humanity.\n",
      "\n",
      "Fred: Prove that you are human! Cyborgs don't pass out when they lose a lot of blood. Here's a knife.\n",
      "\n",
      "Audrey: Get to bed, Freddie. And no more SYFY channel before bed!\n",
      "MSK<0> : MSK<1> am a MSK<2> being . MSK<1> am not a cyborg from the future here to destroy humanity . Fred : Prove that you are MSK<2> ! MSK<3> do n't pass out when MSK<3> lose a lot of blood . Here 's a knife . MSK<0> : Get to MSK<4> , Freddie . And no more SYFY channel before MSK<4> ! \n",
      "********************\n",
      "\"Aliens must exist because there is no evidence that they don't exist.\"\n",
      "\" MSK<0> must MSK<1> because there is no evidence that MSK<0> do n't MSK<1> . \" \n",
      "********************\n",
      "How many times per day do you beat your wife?\n",
      "How many times per day do MSK<0> beat MSK<0> wife ? \n",
      "********************\n",
      "The model is in close agreement with the data.\n",
      "The model is in close agreement with the data . \n",
      "********************\n",
      "No one has proven God exists, so He doesn’t.\n",
      "No one has proven MSK<0> exists , so MSK<0> does n’t . \n",
      "********************\n"
     ]
    }
   ],
   "source": [
    "fallacy = all_fallacies[11]\n",
    "print(fallacy)\n",
    "sub_df = df[df['updated_label'] == fallacy].sample(10)\n",
    "print(def_dict[fallacy])\n",
    "print('######' * 5)\n",
    "for sent, masked_sent in zip(sub_df['source_article'].tolist(), sub_df['masked_articles'].tolist()):\n",
    "    print(sent)\n",
    "    print(masked_sent)\n",
    "    print('**' * 10)"
   ]
  },
  {
   "cell_type": "markdown",
   "metadata": {},
   "source": [
    "### false dilemma"
   ]
  },
  {
   "cell_type": "markdown",
   "metadata": {},
   "source": [
    "Depending on the context, if there is the notion of `contradition` or `entailment` between two parts of the sentence, \n",
    "\n",
    "there is the evidence of having false dilemma"
   ]
  },
  {
   "cell_type": "code",
   "execution_count": 45,
   "metadata": {},
   "outputs": [
    {
     "name": "stdout",
     "output_type": "stream",
     "text": [
      "false dilemma\n",
      "presenting only two options or sides when there are many options or sides.\n",
      "##############################\n",
      "Either you can save your money to buy a new car for yourself, or you can just take an Uber around for the rest of your life.\n",
      "Either MSK<0> can save MSK<0> money to buy a new car for MSK<0> , or MSK<0> can just take an Uber around for the rest of MSK<0> life . \n",
      "********************\n",
      "I'm raising funds to help cure XYZ disease. If you don't donate, then you're part of the problem.\n",
      "I 'm raising funds to help cure XYZ disease . If MSK<0> do n't donate , then MSK<0> 're part of the problem . \n",
      "********************\n",
      "Unless you can close your eyes to abuse, write a check to save this puppy.\n",
      "Unless MSK<0> can close MSK<0> eyes to abuse , write a check to save this puppy . \n",
      "********************\n",
      "\"If you do not submit your requirements today, you should drop your classes with Sir Lean.\"\n",
      "\" If MSK<0> do not submit MSK<0> requirements today , MSK<0> should drop MSK<0> classes with Sir Lean . \" \n",
      "********************\n",
      "We can either stop using cars or destroy the earth.\n",
      "We can either stop using cars or destroy the earth . \n",
      "********************\n",
      "Whilst rallying support for his plan to fundamentally undermine citizens' rights, the Supreme Leader told the people they were either on his side, or they were on the side of the enemy.\n",
      "Whilst rallying support for MSK<0> plan to fundamentally undermine MSK<1> rights , the Supreme Leader told the people MSK<1> were either on MSK<0> side , or MSK<1> were on the side of the enemy . \n",
      "********************\n",
      "“I didn’t see you at the charity fundraiser today. I guess you are not a good person after all.”\n",
      "MSK<2> MSK<0> did n’t see MSK<1> at the charity fundraiser today . MSK<0> guess MSK<1> are not a good person after all . MSK<2> \n",
      "********************\n",
      "Presents only two choices when more options exist\n",
      "Presents only two MSK<0> when more MSK<0> exist \n",
      "********************\n",
      "Hillary Clinton wants to take your guns away, and she wants to abolish the Second Amendment.\n",
      "MSK<0> MSK<1> to take MSK<0> guns away , and MSK<0> MSK<1> to abolish the Second Amendment . \n",
      "********************\n",
      "I thought you cared about other people, but I didn't see you at the fundraiser for the Children's Hospital ...\n",
      "MSK<0> thought MSK<1> cared about other people , but MSK<0> did n't see MSK<1> at the fundraiser for the Children 's Hospital ... \n",
      "********************\n"
     ]
    }
   ],
   "source": [
    "fallacy = all_fallacies[12]\n",
    "print(fallacy)\n",
    "sub_df = df[df['updated_label'] == fallacy].sample(10)\n",
    "print(def_dict[fallacy])\n",
    "print('######' * 5)\n",
    "for sent, masked_sent in zip(sub_df['source_article'].tolist(), sub_df['masked_articles'].tolist()):\n",
    "    print(sent)\n",
    "    print(masked_sent)\n",
    "    print('**' * 10)"
   ]
  },
  {
   "cell_type": "code",
   "execution_count": 83,
   "metadata": {},
   "outputs": [
    {
     "data": {
      "text/plain": [
       "('contradiction',\n",
       " [(0.9961896538734436, 'contradiction'),\n",
       "  (0.0004733331152237952, 'entailment'),\n",
       "  (0.0033370095770806074, 'neutral')])"
      ]
     },
     "execution_count": 83,
     "metadata": {},
     "output_type": "execute_result"
    }
   ],
   "source": [
    "get_nli(\"We can either stop using cars\", \"destroy the earth\")"
   ]
  },
  {
   "cell_type": "code",
   "execution_count": 84,
   "metadata": {},
   "outputs": [
    {
     "data": {
      "text/plain": [
       "('neutral',\n",
       " [(0.049244653433561325, 'contradiction'),\n",
       "  (0.009125573560595512, 'entailment'),\n",
       "  (0.9416298270225525, 'neutral')])"
      ]
     },
     "execution_count": 84,
     "metadata": {},
     "output_type": "execute_result"
    }
   ],
   "source": [
    "get_nli(\"Hillary Clinton wants to take your guns away\", \"she wants to abolish the Second Amendment\")"
   ]
  },
  {
   "cell_type": "code",
   "execution_count": 85,
   "metadata": {},
   "outputs": [
    {
     "data": {
      "text/plain": [
       "('contradiction',\n",
       " [(0.8783195614814758, 'contradiction'),\n",
       "  (0.0006157388561405241, 'entailment'),\n",
       "  (0.12106466293334961, 'neutral')])"
      ]
     },
     "execution_count": 85,
     "metadata": {},
     "output_type": "execute_result"
    }
   ],
   "source": [
    "get_nli(\"Unless you can close your eyes to abuse\", \" write a check to save this puppy\")"
   ]
  },
  {
   "cell_type": "code",
   "execution_count": 86,
   "metadata": {},
   "outputs": [
    {
     "data": {
      "text/plain": [
       "('neutral',\n",
       " [(0.07078509032726288, 'contradiction'),\n",
       "  (0.22080585360527039, 'entailment'),\n",
       "  (0.7084090709686279, 'neutral')])"
      ]
     },
     "execution_count": 86,
     "metadata": {},
     "output_type": "execute_result"
    }
   ],
   "source": [
    "get_nli(\"I'm raising funds to help cure XYZ disease. If you don't donate\", \"then you're part of the problem.\")"
   ]
  },
  {
   "cell_type": "code",
   "execution_count": 87,
   "metadata": {},
   "outputs": [
    {
     "data": {
      "text/plain": [
       "('neutral',\n",
       " [(0.2010866403579712, 'contradiction'),\n",
       "  (0.001404361566528678, 'entailment'),\n",
       "  (0.7975090146064758, 'neutral')])"
      ]
     },
     "execution_count": 87,
     "metadata": {},
     "output_type": "execute_result"
    }
   ],
   "source": [
    "get_nli(\"I thought you cared about other people\", \"but I didn't see you at the fundraiser for the Children's Hospital\")"
   ]
  },
  {
   "cell_type": "code",
   "execution_count": 89,
   "metadata": {},
   "outputs": [
    {
     "data": {
      "text/plain": [
       "('contradiction',\n",
       " [(0.9191136956214905, 'contradiction'),\n",
       "  (0.0011382191441953182, 'entailment'),\n",
       "  (0.07974815368652344, 'neutral')])"
      ]
     },
     "execution_count": 89,
     "metadata": {},
     "output_type": "execute_result"
    }
   ],
   "source": [
    "get_nli(\"you can save your money to buy a new car for yourself\", \"you can just take an Uber around for the rest of your life.\")"
   ]
  }
 ],
 "metadata": {
  "kernelspec": {
   "display_name": "Python 3.10.4 ('cpu': conda)",
   "language": "python",
   "name": "python3"
  },
  "language_info": {
   "codemirror_mode": {
    "name": "ipython",
    "version": 3
   },
   "file_extension": ".py",
   "mimetype": "text/x-python",
   "name": "python",
   "nbconvert_exporter": "python",
   "pygments_lexer": "ipython3",
   "version": "3.10.4"
  },
  "orig_nbformat": 4,
  "vscode": {
   "interpreter": {
    "hash": "633161fe0ba17fb17441f37e78ee62647412cabaeb5286dee9ea24a88b4a361a"
   }
  }
 },
 "nbformat": 4,
 "nbformat_minor": 2
}
