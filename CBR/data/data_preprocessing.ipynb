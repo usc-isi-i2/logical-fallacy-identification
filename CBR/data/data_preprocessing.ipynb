{
 "cells": [
  {
   "cell_type": "code",
   "execution_count": 38,
   "metadata": {},
   "outputs": [],
   "source": [
    "import pandas as pd\n",
    "import matplotlib.pyplot as plt\n",
    "import seaborn"
   ]
  },
  {
   "cell_type": "code",
   "execution_count": 39,
   "metadata": {},
   "outputs": [
    {
     "data": {
      "text/html": [
       "<div>\n",
       "<style scoped>\n",
       "    .dataframe tbody tr th:only-of-type {\n",
       "        vertical-align: middle;\n",
       "    }\n",
       "\n",
       "    .dataframe tbody tr th {\n",
       "        vertical-align: top;\n",
       "    }\n",
       "\n",
       "    .dataframe thead th {\n",
       "        text-align: right;\n",
       "    }\n",
       "</style>\n",
       "<table border=\"1\" class=\"dataframe\">\n",
       "  <thead>\n",
       "    <tr style=\"text-align: right;\">\n",
       "      <th></th>\n",
       "      <th>source_article</th>\n",
       "      <th>updated_label</th>\n",
       "      <th>masked_articles</th>\n",
       "    </tr>\n",
       "  </thead>\n",
       "  <tbody>\n",
       "    <tr>\n",
       "      <th>0</th>\n",
       "      <td>company's slogan \"Expect More. Pay Less.\"</td>\n",
       "      <td>appeal to emotion</td>\n",
       "      <td>company 's slogan \" Expect More . Pay Less . \"</td>\n",
       "    </tr>\n",
       "    <tr>\n",
       "      <th>1</th>\n",
       "      <td>The bigger a child's shoe size, the better the...</td>\n",
       "      <td>false causality</td>\n",
       "      <td>The bigger MSK&lt;0&gt; shoe size , the better MSK&lt;0...</td>\n",
       "    </tr>\n",
       "    <tr>\n",
       "      <th>2</th>\n",
       "      <td>Since many people believe this, then it must b...</td>\n",
       "      <td>ad populum</td>\n",
       "      <td>Since many people believe this , then it must ...</td>\n",
       "    </tr>\n",
       "  </tbody>\n",
       "</table>\n",
       "</div>"
      ],
      "text/plain": [
       "                                      source_article      updated_label  \\\n",
       "0          company's slogan \"Expect More. Pay Less.\"  appeal to emotion   \n",
       "1  The bigger a child's shoe size, the better the...    false causality   \n",
       "2  Since many people believe this, then it must b...         ad populum   \n",
       "\n",
       "                                     masked_articles  \n",
       "0    company 's slogan \" Expect More . Pay Less . \"   \n",
       "1  The bigger MSK<0> shoe size , the better MSK<0...  \n",
       "2  Since many people believe this , then it must ...  "
      ]
     },
     "execution_count": 39,
     "metadata": {},
     "output_type": "execute_result"
    }
   ],
   "source": [
    "df = pd.read_csv(f\"edu_train.csv\")\n",
    "df.head(3)"
   ]
  },
  {
   "cell_type": "code",
   "execution_count": 40,
   "metadata": {},
   "outputs": [
    {
     "name": "stdout",
     "output_type": "stream",
     "text": [
      "(1849, 4)\n",
      "(1829, 4)\n",
      "faulty generalization     312\n",
      "ad hominem                224\n",
      "false causality           173\n",
      "ad populum                157\n",
      "circular reasoning        134\n",
      "appeal to emotion         128\n",
      "fallacy of logic          120\n",
      "fallacy of relevance      112\n",
      "false dilemma             110\n",
      "intentional               109\n",
      "fallacy of credibility    106\n",
      "fallacy of extension      105\n",
      "equivocation               39\n",
      "Name: updated_label, dtype: int64\n"
     ]
    }
   ],
   "source": [
    "df['text_length'] = df['masked_articles'].apply(lambda x: len(x.split()))\n",
    "\n",
    "print(df.shape)\n",
    "df = df[df['text_length'] < 100]\n",
    "print(df.shape)\n",
    "\n",
    "print(df['updated_label'].value_counts())"
   ]
  },
  {
   "cell_type": "code",
   "execution_count": 41,
   "metadata": {},
   "outputs": [
    {
     "data": {
      "text/html": [
       "<div>\n",
       "<style scoped>\n",
       "    .dataframe tbody tr th:only-of-type {\n",
       "        vertical-align: middle;\n",
       "    }\n",
       "\n",
       "    .dataframe tbody tr th {\n",
       "        vertical-align: top;\n",
       "    }\n",
       "\n",
       "    .dataframe thead th {\n",
       "        text-align: right;\n",
       "    }\n",
       "</style>\n",
       "<table border=\"1\" class=\"dataframe\">\n",
       "  <thead>\n",
       "    <tr style=\"text-align: right;\">\n",
       "      <th></th>\n",
       "      <th>source_article</th>\n",
       "      <th>updated_label</th>\n",
       "      <th>masked_articles</th>\n",
       "    </tr>\n",
       "  </thead>\n",
       "  <tbody>\n",
       "    <tr>\n",
       "      <th>0</th>\n",
       "      <td>\"Just like students are given a couple of week...</td>\n",
       "      <td>fallacy of logic</td>\n",
       "      <td>\" Just like students are given a couple of MSK...</td>\n",
       "    </tr>\n",
       "    <tr>\n",
       "      <th>1</th>\n",
       "      <td>You don’t have to do this. My grandmother is i...</td>\n",
       "      <td>appeal to emotion</td>\n",
       "      <td>You do n’t have to do this . MSK&lt;0&gt; grandmothe...</td>\n",
       "    </tr>\n",
       "    <tr>\n",
       "      <th>2</th>\n",
       "      <td>I know five people from Kentucky. They are all...</td>\n",
       "      <td>faulty generalization</td>\n",
       "      <td>I know MSK&lt;0&gt; . MSK&lt;0&gt; are all MSK&lt;1&gt; . Theref...</td>\n",
       "    </tr>\n",
       "  </tbody>\n",
       "</table>\n",
       "</div>"
      ],
      "text/plain": [
       "                                      source_article          updated_label  \\\n",
       "0  \"Just like students are given a couple of week...       fallacy of logic   \n",
       "1  You don’t have to do this. My grandmother is i...      appeal to emotion   \n",
       "2  I know five people from Kentucky. They are all...  faulty generalization   \n",
       "\n",
       "                                     masked_articles  \n",
       "0  \" Just like students are given a couple of MSK...  \n",
       "1  You do n’t have to do this . MSK<0> grandmothe...  \n",
       "2  I know MSK<0> . MSK<0> are all MSK<1> . Theref...  "
      ]
     },
     "execution_count": 41,
     "metadata": {},
     "output_type": "execute_result"
    }
   ],
   "source": [
    "df = pd.read_csv(f\"edu_dev.csv\")\n",
    "df.head(3)"
   ]
  },
  {
   "cell_type": "code",
   "execution_count": 42,
   "metadata": {},
   "outputs": [
    {
     "name": "stdout",
     "output_type": "stream",
     "text": [
      "(300, 4)\n",
      "(299, 4)\n",
      "faulty generalization     61\n",
      "ad populum                44\n",
      "ad hominem                35\n",
      "false causality           24\n",
      "fallacy of relevance      24\n",
      "false dilemma             19\n",
      "circular reasoning        18\n",
      "fallacy of logic          17\n",
      "intentional               16\n",
      "appeal to emotion         14\n",
      "fallacy of extension      14\n",
      "fallacy of credibility     8\n",
      "equivocation               5\n",
      "Name: updated_label, dtype: int64\n"
     ]
    }
   ],
   "source": [
    "df['text_length'] = df['masked_articles'].apply(lambda x: len(x.split()))\n",
    "\n",
    "print(df.shape)\n",
    "df = df[df['text_length'] < 100]\n",
    "print(df.shape)\n",
    "\n",
    "print(df['updated_label'].value_counts())"
   ]
  },
  {
   "cell_type": "code",
   "execution_count": 43,
   "metadata": {},
   "outputs": [
    {
     "data": {
      "text/html": [
       "<div>\n",
       "<style scoped>\n",
       "    .dataframe tbody tr th:only-of-type {\n",
       "        vertical-align: middle;\n",
       "    }\n",
       "\n",
       "    .dataframe tbody tr th {\n",
       "        vertical-align: top;\n",
       "    }\n",
       "\n",
       "    .dataframe thead th {\n",
       "        text-align: right;\n",
       "    }\n",
       "</style>\n",
       "<table border=\"1\" class=\"dataframe\">\n",
       "  <thead>\n",
       "    <tr style=\"text-align: right;\">\n",
       "      <th></th>\n",
       "      <th>source_article</th>\n",
       "      <th>updated_label</th>\n",
       "      <th>masked_articles</th>\n",
       "    </tr>\n",
       "  </thead>\n",
       "  <tbody>\n",
       "    <tr>\n",
       "      <th>0</th>\n",
       "      <td>People who drive big cars probably hate the en...</td>\n",
       "      <td>fallacy of extension</td>\n",
       "      <td>People who drive big cars probably hate the en...</td>\n",
       "    </tr>\n",
       "    <tr>\n",
       "      <th>1</th>\n",
       "      <td>White men can't jump. No, really, they can't!</td>\n",
       "      <td>faulty generalization</td>\n",
       "      <td>MSK&lt;0&gt; ca n't jump . No , really , MSK&lt;0&gt; ca n...</td>\n",
       "    </tr>\n",
       "    <tr>\n",
       "      <th>2</th>\n",
       "      <td>'Cotton and grain crops were lower this year t...</td>\n",
       "      <td>fallacy of logic</td>\n",
       "      <td>' Cotton and grain crops were lower this year ...</td>\n",
       "    </tr>\n",
       "  </tbody>\n",
       "</table>\n",
       "</div>"
      ],
      "text/plain": [
       "                                      source_article          updated_label  \\\n",
       "0  People who drive big cars probably hate the en...   fallacy of extension   \n",
       "1      White men can't jump. No, really, they can't!  faulty generalization   \n",
       "2  'Cotton and grain crops were lower this year t...       fallacy of logic   \n",
       "\n",
       "                                     masked_articles  \n",
       "0  People who drive big cars probably hate the en...  \n",
       "1  MSK<0> ca n't jump . No , really , MSK<0> ca n...  \n",
       "2  ' Cotton and grain crops were lower this year ...  "
      ]
     },
     "execution_count": 43,
     "metadata": {},
     "output_type": "execute_result"
    }
   ],
   "source": [
    "df = pd.read_csv(f\"edu_test.csv\")\n",
    "df.head(3)"
   ]
  },
  {
   "cell_type": "code",
   "execution_count": 44,
   "metadata": {},
   "outputs": [
    {
     "name": "stdout",
     "output_type": "stream",
     "text": [
      "(300, 4)\n",
      "(296, 4)\n",
      "faulty generalization     60\n",
      "ad hominem                41\n",
      "ad populum                30\n",
      "fallacy of relevance      23\n",
      "appeal to emotion         23\n",
      "fallacy of extension      21\n",
      "circular reasoning        19\n",
      "false causality           17\n",
      "fallacy of credibility    17\n",
      "fallacy of logic          14\n",
      "intentional               14\n",
      "false dilemma             12\n",
      "equivocation               5\n",
      "Name: updated_label, dtype: int64\n"
     ]
    }
   ],
   "source": [
    "df['text_length'] = df['masked_articles'].apply(lambda x: len(x.split()))\n",
    "\n",
    "print(df.shape)\n",
    "df = df[df['text_length'] < 100]\n",
    "print(df.shape)\n",
    "\n",
    "print(df['updated_label'].value_counts())"
   ]
  },
  {
   "cell_type": "code",
   "execution_count": null,
   "metadata": {},
   "outputs": [],
   "source": []
  }
 ],
 "metadata": {
  "kernelspec": {
   "display_name": "Python 3.10.4 ('general': conda)",
   "language": "python",
   "name": "python3"
  },
  "language_info": {
   "codemirror_mode": {
    "name": "ipython",
    "version": 3
   },
   "file_extension": ".py",
   "mimetype": "text/x-python",
   "name": "python",
   "nbconvert_exporter": "python",
   "pygments_lexer": "ipython3",
   "version": "3.10.4"
  },
  "orig_nbformat": 4,
  "vscode": {
   "interpreter": {
    "hash": "67db27fda20c3469892b63d0da2b9ea8ebefbe65ab5f07c46b1a9548ed206d0f"
   }
  }
 },
 "nbformat": 4,
 "nbformat_minor": 2
}
