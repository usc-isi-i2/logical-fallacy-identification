{
 "cells": [
  {
   "cell_type": "code",
   "execution_count": 8,
   "metadata": {},
   "outputs": [],
   "source": [
    "import pandas as pd\n",
    "import matplotlib.pyplot as plt\n",
    "import numpy as np\n",
    "import seaborn"
   ]
  },
  {
   "cell_type": "code",
   "execution_count": 2,
   "metadata": {},
   "outputs": [
    {
     "data": {
      "text/html": [
       "<div>\n",
       "<style scoped>\n",
       "    .dataframe tbody tr th:only-of-type {\n",
       "        vertical-align: middle;\n",
       "    }\n",
       "\n",
       "    .dataframe tbody tr th {\n",
       "        vertical-align: top;\n",
       "    }\n",
       "\n",
       "    .dataframe thead th {\n",
       "        text-align: right;\n",
       "    }\n",
       "</style>\n",
       "<table border=\"1\" class=\"dataframe\">\n",
       "  <thead>\n",
       "    <tr style=\"text-align: right;\">\n",
       "      <th></th>\n",
       "      <th>index</th>\n",
       "      <th>text</th>\n",
       "      <th>label</th>\n",
       "    </tr>\n",
       "  </thead>\n",
       "  <tbody>\n",
       "    <tr>\n",
       "      <th>0</th>\n",
       "      <td>0</td>\n",
       "      <td>When you have too little or unrepresentative d...</td>\n",
       "      <td>faulty generalization</td>\n",
       "    </tr>\n",
       "    <tr>\n",
       "      <th>1</th>\n",
       "      <td>1</td>\n",
       "      <td>Politician: We have to decide if we are going ...</td>\n",
       "      <td>false dilemma</td>\n",
       "    </tr>\n",
       "    <tr>\n",
       "      <th>2</th>\n",
       "      <td>2</td>\n",
       "      <td>In many cases you can't really tell whether pa...</td>\n",
       "      <td>equivocation</td>\n",
       "    </tr>\n",
       "  </tbody>\n",
       "</table>\n",
       "</div>"
      ],
      "text/plain": [
       "   index                                               text  \\\n",
       "0      0  When you have too little or unrepresentative d...   \n",
       "1      1  Politician: We have to decide if we are going ...   \n",
       "2      2  In many cases you can't really tell whether pa...   \n",
       "\n",
       "                   label  \n",
       "0  faulty generalization  \n",
       "1          false dilemma  \n",
       "2           equivocation  "
      ]
     },
     "execution_count": 2,
     "metadata": {},
     "output_type": "execute_result"
    }
   ],
   "source": [
    "df = pd.read_csv(\"fine_grained_train_final.csv\")\n",
    "df.head(3)"
   ]
  },
  {
   "cell_type": "code",
   "execution_count": 23,
   "metadata": {},
   "outputs": [
    {
     "data": {
      "text/plain": [
       "fallacy of red herring       302\n",
       "faulty generalization        234\n",
       "ad hominem                   185\n",
       "false causality              168\n",
       "circular reasoning           148\n",
       "ad populum                   144\n",
       "fallacy of credibility        99\n",
       "appeal to emotion             90\n",
       "fallacy of logic              83\n",
       "intentional                   78\n",
       "false dilemma                 75\n",
       "fallacy of extension          74\n",
       "equivocation                  27\n",
       "prejudicial language          15\n",
       "fallacy of slippery slope     15\n",
       "slothful induction            13\n",
       "Name: label, dtype: int64"
      ]
     },
     "execution_count": 23,
     "metadata": {},
     "output_type": "execute_result"
    }
   ],
   "source": [
    "df.label.value_counts()"
   ]
  },
  {
   "cell_type": "code",
   "execution_count": 33,
   "metadata": {},
   "outputs": [],
   "source": [
    "columns = df['label'].value_counts().index\n",
    "columns_to_keep = columns[np.where(df['label'].value_counts() > 30)[0]].values"
   ]
  },
  {
   "cell_type": "code",
   "execution_count": 34,
   "metadata": {},
   "outputs": [
    {
     "data": {
      "text/html": [
       "<div>\n",
       "<style scoped>\n",
       "    .dataframe tbody tr th:only-of-type {\n",
       "        vertical-align: middle;\n",
       "    }\n",
       "\n",
       "    .dataframe tbody tr th {\n",
       "        vertical-align: top;\n",
       "    }\n",
       "\n",
       "    .dataframe thead th {\n",
       "        text-align: right;\n",
       "    }\n",
       "</style>\n",
       "<table border=\"1\" class=\"dataframe\">\n",
       "  <thead>\n",
       "    <tr style=\"text-align: right;\">\n",
       "      <th></th>\n",
       "      <th>index</th>\n",
       "      <th>text</th>\n",
       "      <th>label</th>\n",
       "    </tr>\n",
       "  </thead>\n",
       "  <tbody>\n",
       "    <tr>\n",
       "      <th>0</th>\n",
       "      <td>0</td>\n",
       "      <td>When you have too little or unrepresentative d...</td>\n",
       "      <td>faulty generalization</td>\n",
       "    </tr>\n",
       "    <tr>\n",
       "      <th>1</th>\n",
       "      <td>1</td>\n",
       "      <td>Politician: We have to decide if we are going ...</td>\n",
       "      <td>false dilemma</td>\n",
       "    </tr>\n",
       "    <tr>\n",
       "      <th>3</th>\n",
       "      <td>3</td>\n",
       "      <td>Free software can permit end user to take cont...</td>\n",
       "      <td>false causality</td>\n",
       "    </tr>\n",
       "    <tr>\n",
       "      <th>4</th>\n",
       "      <td>4</td>\n",
       "      <td>If the President arrives in Hawaii, and the ne...</td>\n",
       "      <td>false causality</td>\n",
       "    </tr>\n",
       "    <tr>\n",
       "      <th>5</th>\n",
       "      <td>5</td>\n",
       "      <td>\"Everyone else is doing it, so should you\".</td>\n",
       "      <td>ad populum</td>\n",
       "    </tr>\n",
       "    <tr>\n",
       "      <th>...</th>\n",
       "      <td>...</td>\n",
       "      <td>...</td>\n",
       "      <td>...</td>\n",
       "    </tr>\n",
       "    <tr>\n",
       "      <th>1743</th>\n",
       "      <td>1743</td>\n",
       "      <td>A teacher tells Billy to stop talking, and he ...</td>\n",
       "      <td>fallacy of red herring</td>\n",
       "    </tr>\n",
       "    <tr>\n",
       "      <th>1745</th>\n",
       "      <td>1745</td>\n",
       "      <td>“Feminists want to ban all pornography and pun...</td>\n",
       "      <td>fallacy of extension</td>\n",
       "    </tr>\n",
       "    <tr>\n",
       "      <th>1747</th>\n",
       "      <td>1747</td>\n",
       "      <td>Don't be the only one not wearing Nike!</td>\n",
       "      <td>ad populum</td>\n",
       "    </tr>\n",
       "    <tr>\n",
       "      <th>1748</th>\n",
       "      <td>1748</td>\n",
       "      <td>How can I be expected to do my homework when b...</td>\n",
       "      <td>fallacy of logic</td>\n",
       "    </tr>\n",
       "    <tr>\n",
       "      <th>1749</th>\n",
       "      <td>1749</td>\n",
       "      <td>Putting teenagers in sex-education classes is ...</td>\n",
       "      <td>fallacy of logic</td>\n",
       "    </tr>\n",
       "  </tbody>\n",
       "</table>\n",
       "<p>1680 rows × 3 columns</p>\n",
       "</div>"
      ],
      "text/plain": [
       "      index                                               text  \\\n",
       "0         0  When you have too little or unrepresentative d...   \n",
       "1         1  Politician: We have to decide if we are going ...   \n",
       "3         3  Free software can permit end user to take cont...   \n",
       "4         4  If the President arrives in Hawaii, and the ne...   \n",
       "5         5       \"Everyone else is doing it, so should you\".   \n",
       "...     ...                                                ...   \n",
       "1743   1743  A teacher tells Billy to stop talking, and he ...   \n",
       "1745   1745  “Feminists want to ban all pornography and pun...   \n",
       "1747   1747            Don't be the only one not wearing Nike!   \n",
       "1748   1748  How can I be expected to do my homework when b...   \n",
       "1749   1749  Putting teenagers in sex-education classes is ...   \n",
       "\n",
       "                       label  \n",
       "0      faulty generalization  \n",
       "1              false dilemma  \n",
       "3            false causality  \n",
       "4            false causality  \n",
       "5                 ad populum  \n",
       "...                      ...  \n",
       "1743  fallacy of red herring  \n",
       "1745    fallacy of extension  \n",
       "1747              ad populum  \n",
       "1748        fallacy of logic  \n",
       "1749        fallacy of logic  \n",
       "\n",
       "[1680 rows x 3 columns]"
      ]
     },
     "execution_count": 34,
     "metadata": {},
     "output_type": "execute_result"
    }
   ],
   "source": [
    "df = df[df['label'].isin(columns_to_keep)]\n",
    "df"
   ]
  },
  {
   "cell_type": "code",
   "execution_count": 35,
   "metadata": {},
   "outputs": [
    {
     "data": {
      "text/plain": [
       "fallacy of red herring    302\n",
       "faulty generalization     234\n",
       "ad hominem                185\n",
       "false causality           168\n",
       "circular reasoning        148\n",
       "ad populum                144\n",
       "fallacy of credibility     99\n",
       "appeal to emotion          90\n",
       "fallacy of logic           83\n",
       "intentional                78\n",
       "false dilemma              75\n",
       "fallacy of extension       74\n",
       "Name: label, dtype: int64"
      ]
     },
     "execution_count": 35,
     "metadata": {},
     "output_type": "execute_result"
    }
   ],
   "source": [
    "df['label'].value_counts()"
   ]
  },
  {
   "cell_type": "code",
   "execution_count": 41,
   "metadata": {},
   "outputs": [
    {
     "data": {
      "text/html": [
       "<div>\n",
       "<style scoped>\n",
       "    .dataframe tbody tr th:only-of-type {\n",
       "        vertical-align: middle;\n",
       "    }\n",
       "\n",
       "    .dataframe tbody tr th {\n",
       "        vertical-align: top;\n",
       "    }\n",
       "\n",
       "    .dataframe thead th {\n",
       "        text-align: right;\n",
       "    }\n",
       "</style>\n",
       "<table border=\"1\" class=\"dataframe\">\n",
       "  <thead>\n",
       "    <tr style=\"text-align: right;\">\n",
       "      <th></th>\n",
       "      <th>source_article</th>\n",
       "      <th>updated_label</th>\n",
       "      <th>masked_articles</th>\n",
       "    </tr>\n",
       "  </thead>\n",
       "  <tbody>\n",
       "    <tr>\n",
       "      <th>0</th>\n",
       "      <td>\"Just like students are given a couple of week...</td>\n",
       "      <td>fallacy of logic</td>\n",
       "      <td>\" Just like students are given a couple of MSK...</td>\n",
       "    </tr>\n",
       "    <tr>\n",
       "      <th>1</th>\n",
       "      <td>You don’t have to do this. My grandmother is i...</td>\n",
       "      <td>appeal to emotion</td>\n",
       "      <td>You do n’t have to do this . MSK&lt;0&gt; grandmothe...</td>\n",
       "    </tr>\n",
       "    <tr>\n",
       "      <th>2</th>\n",
       "      <td>I know five people from Kentucky. They are all...</td>\n",
       "      <td>faulty generalization</td>\n",
       "      <td>I know MSK&lt;0&gt; . MSK&lt;0&gt; are all MSK&lt;1&gt; . Theref...</td>\n",
       "    </tr>\n",
       "  </tbody>\n",
       "</table>\n",
       "</div>"
      ],
      "text/plain": [
       "                                      source_article          updated_label  \\\n",
       "0  \"Just like students are given a couple of week...       fallacy of logic   \n",
       "1  You don’t have to do this. My grandmother is i...      appeal to emotion   \n",
       "2  I know five people from Kentucky. They are all...  faulty generalization   \n",
       "\n",
       "                                     masked_articles  \n",
       "0  \" Just like students are given a couple of MSK...  \n",
       "1  You do n’t have to do this . MSK<0> grandmothe...  \n",
       "2  I know MSK<0> . MSK<0> are all MSK<1> . Theref...  "
      ]
     },
     "execution_count": 41,
     "metadata": {},
     "output_type": "execute_result"
    }
   ],
   "source": [
    "df = pd.read_csv(f\"edu_dev.csv\")\n",
    "df.head(3)"
   ]
  },
  {
   "cell_type": "code",
   "execution_count": 42,
   "metadata": {},
   "outputs": [
    {
     "name": "stdout",
     "output_type": "stream",
     "text": [
      "(300, 4)\n",
      "(299, 4)\n",
      "faulty generalization     61\n",
      "ad populum                44\n",
      "ad hominem                35\n",
      "false causality           24\n",
      "fallacy of relevance      24\n",
      "false dilemma             19\n",
      "circular reasoning        18\n",
      "fallacy of logic          17\n",
      "intentional               16\n",
      "appeal to emotion         14\n",
      "fallacy of extension      14\n",
      "fallacy of credibility     8\n",
      "equivocation               5\n",
      "Name: updated_label, dtype: int64\n"
     ]
    }
   ],
   "source": [
    "df['text_length'] = df['masked_articles'].apply(lambda x: len(x.split()))\n",
    "\n",
    "print(df.shape)\n",
    "df = df[df['text_length'] < 100]\n",
    "print(df.shape)\n",
    "\n",
    "print(df['updated_label'].value_counts())"
   ]
  },
  {
   "cell_type": "code",
   "execution_count": 43,
   "metadata": {},
   "outputs": [
    {
     "data": {
      "text/html": [
       "<div>\n",
       "<style scoped>\n",
       "    .dataframe tbody tr th:only-of-type {\n",
       "        vertical-align: middle;\n",
       "    }\n",
       "\n",
       "    .dataframe tbody tr th {\n",
       "        vertical-align: top;\n",
       "    }\n",
       "\n",
       "    .dataframe thead th {\n",
       "        text-align: right;\n",
       "    }\n",
       "</style>\n",
       "<table border=\"1\" class=\"dataframe\">\n",
       "  <thead>\n",
       "    <tr style=\"text-align: right;\">\n",
       "      <th></th>\n",
       "      <th>source_article</th>\n",
       "      <th>updated_label</th>\n",
       "      <th>masked_articles</th>\n",
       "    </tr>\n",
       "  </thead>\n",
       "  <tbody>\n",
       "    <tr>\n",
       "      <th>0</th>\n",
       "      <td>People who drive big cars probably hate the en...</td>\n",
       "      <td>fallacy of extension</td>\n",
       "      <td>People who drive big cars probably hate the en...</td>\n",
       "    </tr>\n",
       "    <tr>\n",
       "      <th>1</th>\n",
       "      <td>White men can't jump. No, really, they can't!</td>\n",
       "      <td>faulty generalization</td>\n",
       "      <td>MSK&lt;0&gt; ca n't jump . No , really , MSK&lt;0&gt; ca n...</td>\n",
       "    </tr>\n",
       "    <tr>\n",
       "      <th>2</th>\n",
       "      <td>'Cotton and grain crops were lower this year t...</td>\n",
       "      <td>fallacy of logic</td>\n",
       "      <td>' Cotton and grain crops were lower this year ...</td>\n",
       "    </tr>\n",
       "  </tbody>\n",
       "</table>\n",
       "</div>"
      ],
      "text/plain": [
       "                                      source_article          updated_label  \\\n",
       "0  People who drive big cars probably hate the en...   fallacy of extension   \n",
       "1      White men can't jump. No, really, they can't!  faulty generalization   \n",
       "2  'Cotton and grain crops were lower this year t...       fallacy of logic   \n",
       "\n",
       "                                     masked_articles  \n",
       "0  People who drive big cars probably hate the en...  \n",
       "1  MSK<0> ca n't jump . No , really , MSK<0> ca n...  \n",
       "2  ' Cotton and grain crops were lower this year ...  "
      ]
     },
     "execution_count": 43,
     "metadata": {},
     "output_type": "execute_result"
    }
   ],
   "source": [
    "df = pd.read_csv(f\"edu_test.csv\")\n",
    "df.head(3)"
   ]
  },
  {
   "cell_type": "code",
   "execution_count": 44,
   "metadata": {},
   "outputs": [
    {
     "name": "stdout",
     "output_type": "stream",
     "text": [
      "(300, 4)\n",
      "(296, 4)\n",
      "faulty generalization     60\n",
      "ad hominem                41\n",
      "ad populum                30\n",
      "fallacy of relevance      23\n",
      "appeal to emotion         23\n",
      "fallacy of extension      21\n",
      "circular reasoning        19\n",
      "false causality           17\n",
      "fallacy of credibility    17\n",
      "fallacy of logic          14\n",
      "intentional               14\n",
      "false dilemma             12\n",
      "equivocation               5\n",
      "Name: updated_label, dtype: int64\n"
     ]
    }
   ],
   "source": [
    "df['text_length'] = df['masked_articles'].apply(lambda x: len(x.split()))\n",
    "\n",
    "print(df.shape)\n",
    "df = df[df['text_length'] < 100]\n",
    "print(df.shape)\n",
    "\n",
    "print(df['updated_label'].value_counts())"
   ]
  },
  {
   "cell_type": "code",
   "execution_count": null,
   "metadata": {},
   "outputs": [],
   "source": []
  }
 ],
 "metadata": {
  "kernelspec": {
   "display_name": "Python 3.10.4 ('general': conda)",
   "language": "python",
   "name": "python3"
  },
  "language_info": {
   "codemirror_mode": {
    "name": "ipython",
    "version": 3
   },
   "file_extension": ".py",
   "mimetype": "text/x-python",
   "name": "python",
   "nbconvert_exporter": "python",
   "pygments_lexer": "ipython3",
   "version": "3.10.4"
  },
  "orig_nbformat": 4,
  "vscode": {
   "interpreter": {
    "hash": "67db27fda20c3469892b63d0da2b9ea8ebefbe65ab5f07c46b1a9548ed206d0f"
   }
  }
 },
 "nbformat": 4,
 "nbformat_minor": 2
}
