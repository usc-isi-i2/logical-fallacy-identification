{
 "cells": [
  {
   "cell_type": "code",
   "execution_count": 9,
   "metadata": {},
   "outputs": [],
   "source": [
    "import joblib\n",
    "import os\n",
    "import sys\n",
    "import pandas as pd\n",
    "import numpy as np\n",
    "from sklearn.metrics import f1_score, accuracy_score"
   ]
  },
  {
   "cell_type": "code",
   "execution_count": 5,
   "metadata": {},
   "outputs": [],
   "source": [
    "sys.path.append(os.path.join(\".\", \"../../../cbr_analyser/amr/\"))"
   ]
  },
  {
   "cell_type": "code",
   "execution_count": 6,
   "metadata": {},
   "outputs": [],
   "source": [
    "train_objs = joblib.load(\"../../masked_sentences_with_AMR_container_objects_train.joblib\")\n",
    "dev_objs = joblib.load(\"../../masked_sentences_with_AMR_container_objects_dev.joblib\")\n",
    "test_objs = joblib.load(\"../../masked_sentences_with_AMR_container_objects_test.joblib\")"
   ]
  },
  {
   "cell_type": "code",
   "execution_count": 7,
   "metadata": {},
   "outputs": [],
   "source": [
    "dev_predictions = joblib.load(\"eval_metrics.joblib\")\n",
    "test_predictions = joblib.load(\"test_metrics.joblib\")"
   ]
  },
  {
   "cell_type": "code",
   "execution_count": 14,
   "metadata": {},
   "outputs": [
    {
     "data": {
      "text/plain": [
       "(0.6291895073708493, 0.6305084745762712)"
      ]
     },
     "execution_count": 14,
     "metadata": {},
     "output_type": "execute_result"
    }
   ],
   "source": [
    "f1_score(y_pred = dev_predictions[\"all_predictions\"], y_true = dev_predictions[\"all_labels\"], average = \"weighted\"), \\\n",
    "    accuracy_score(y_pred = dev_predictions[\"all_predictions\"], y_true = dev_predictions[\"all_labels\"])"
   ]
  },
  {
   "cell_type": "code",
   "execution_count": 15,
   "metadata": {},
   "outputs": [
    {
     "data": {
      "text/plain": [
       "(0.5781456884684806, 0.576271186440678)"
      ]
     },
     "execution_count": 15,
     "metadata": {},
     "output_type": "execute_result"
    }
   ],
   "source": [
    "f1_score(y_pred = test_predictions[\"all_predictions\"], y_true = test_predictions[\"all_labels\"], average = \"weighted\"), \\\n",
    "    accuracy_score(y_pred = test_predictions[\"all_predictions\"], y_true = test_predictions[\"all_labels\"])"
   ]
  },
  {
   "cell_type": "code",
   "execution_count": 18,
   "metadata": {},
   "outputs": [
    {
     "data": {
      "text/plain": [
       "dict_keys(['loss', 'accuracy', 'f1', 'all_labels', 'all_predictions', 'simcse_examples', 'empathy_examples'])"
      ]
     },
     "execution_count": 18,
     "metadata": {},
     "output_type": "execute_result"
    }
   ],
   "source": [
    "dev_predictions.keys()"
   ]
  },
  {
   "cell_type": "code",
   "execution_count": 23,
   "metadata": {},
   "outputs": [],
   "source": [
    "train_labels_dict = {\n",
    "    obj[1].sentence.strip(): obj[2]\n",
    "    for obj in train_objs\n",
    "}"
   ]
  },
  {
   "cell_type": "code",
   "execution_count": 26,
   "metadata": {},
   "outputs": [],
   "source": [
    "dev_predictions[\"simcse_examples_labels\"] = list(map(lambda x: train_labels_dict[x], dev_predictions[\"simcse_examples\"]))\n",
    "dev_predictions[\"empathy_examples_labels\"] = list(map(lambda x: train_labels_dict[x], dev_predictions[\"empathy_examples\"]))"
   ]
  },
  {
   "cell_type": "code",
   "execution_count": 27,
   "metadata": {},
   "outputs": [],
   "source": [
    "test_predictions[\"simcse_examples_labels\"] = list(map(lambda x: train_labels_dict[x], test_predictions[\"simcse_examples\"]))\n",
    "test_predictions[\"empathy_examples_labels\"] = list(map(lambda x: train_labels_dict[x], test_predictions[\"empathy_examples\"]))"
   ]
  }
 ],
 "metadata": {
  "kernelspec": {
   "display_name": "Python 3.10.4 ('general')",
   "language": "python",
   "name": "python3"
  },
  "language_info": {
   "codemirror_mode": {
    "name": "ipython",
    "version": 3
   },
   "file_extension": ".py",
   "mimetype": "text/x-python",
   "name": "python",
   "nbconvert_exporter": "python",
   "pygments_lexer": "ipython3",
   "version": "3.10.4"
  },
  "orig_nbformat": 4,
  "vscode": {
   "interpreter": {
    "hash": "67db27fda20c3469892b63d0da2b9ea8ebefbe65ab5f07c46b1a9548ed206d0f"
   }
  }
 },
 "nbformat": 4,
 "nbformat_minor": 2
}
